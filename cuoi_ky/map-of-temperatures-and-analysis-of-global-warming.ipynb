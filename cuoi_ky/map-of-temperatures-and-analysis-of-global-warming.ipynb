{
 "cells": [
  {
   "cell_type": "markdown",
   "metadata": {
    "_cell_guid": "3cc3bab0-781f-ebc6-800b-ded9831a9d74"
   },
   "source": [
    "I’m recently started to be interested in data analysis and it is my first visualization. "
   ]
  },
  {
   "cell_type": "code",
   "execution_count": 2,
   "metadata": {
    "_cell_guid": "838b78bb-61ca-32e1-a06a-90045984305c"
   },
   "outputs": [
    {
     "data": {
      "text/html": [
       "        <script type=\"text/javascript\">\n",
       "        window.PlotlyConfig = {MathJaxConfig: 'local'};\n",
       "        if (window.MathJax && window.MathJax.Hub && window.MathJax.Hub.Config) {window.MathJax.Hub.Config({SVG: {font: \"STIX-Web\"}});}\n",
       "        if (typeof require !== 'undefined') {\n",
       "        require.undef(\"plotly\");\n",
       "        requirejs.config({\n",
       "            paths: {\n",
       "                'plotly': ['https://cdn.plot.ly/plotly-2.16.1.min']\n",
       "            }\n",
       "        });\n",
       "        require(['plotly'], function(Plotly) {\n",
       "            window._Plotly = Plotly;\n",
       "        });\n",
       "        }\n",
       "        </script>\n",
       "        "
      ]
     },
     "metadata": {},
     "output_type": "display_data"
    }
   ],
   "source": [
    "import numpy as np\n",
    "import pandas as pd\n",
    "import matplotlib.pyplot as plt\n",
    "%matplotlib inline\n",
    "import plotly.offline as py\n",
    "py.init_notebook_mode(connected=True)\n",
    "import plotly.graph_objs as go\n",
    "import plotly.tools as tls\n",
    "import seaborn as sns\n",
    "import time\n",
    "import warnings\n",
    "warnings.filterwarnings('ignore')\n",
    "\n",
    "global_temp_country = pd.read_csv('GlobalLandTemperaturesByCity.csv')"
   ]
  },
  {
   "cell_type": "markdown",
   "metadata": {
    "_cell_guid": "143248e3-09ca-ac06-2009-3951ce94eb44"
   },
   "source": [
    "## 1) Mapping of average temperatures in the countries"
   ]
  },
  {
   "cell_type": "code",
   "execution_count": 3,
   "metadata": {
    "_cell_guid": "968c3f51-dd9d-bc53-249e-195cc8abc45b"
   },
   "outputs": [
    {
     "data": {
      "application/vnd.plotly.v1+json": {
       "config": {
        "linkText": "Export to plot.ly",
        "plotlyServerURL": "https://plot.ly",
        "showLink": false
       },
       "data": [
        {
         "colorbar": {
          "autotick": true,
          "tickprefix": "",
          "title": "# Average\nTemperature,\n°C"
         },
         "locationmode": "country names",
         "locations": [
          "Afghanistan",
          "Albania",
          "Algeria",
          "Angola",
          "Argentina",
          "Armenia",
          "Australia",
          "Austria",
          "Azerbaijan",
          "Bahamas",
          "Bahrain",
          "Bangladesh",
          "Belarus",
          "Belgium",
          "Benin",
          "Bolivia",
          "Bosnia And Herzegovina",
          "Botswana",
          "Brazil",
          "Bulgaria",
          "Burkina Faso",
          "Burma",
          "Burundi",
          "Cambodia",
          "Cameroon",
          "Canada",
          "Central African Republic",
          "Chad",
          "Chile",
          "China",
          "Colombia",
          "Congo",
          "Congo (Democratic Republic Of The)",
          "Costa Rica",
          "Croatia",
          "Cuba",
          "Cyprus",
          "Czech Republic",
          "Côte D'Ivoire",
          "Djibouti",
          "Dominican Republic",
          "Ecuador",
          "Egypt",
          "El Salvador",
          "Equatorial Guinea",
          "Eritrea",
          "Estonia",
          "Ethiopia",
          "Finland",
          "Gabon",
          "Gambia",
          "Georgia",
          "Germany",
          "Ghana",
          "Greece",
          "Guatemala",
          "Guinea",
          "Guinea Bissau",
          "Guyana",
          "Haiti",
          "Honduras",
          "Hong Kong",
          "Hungary",
          "Iceland",
          "India",
          "Indonesia",
          "Iran",
          "Iraq",
          "Ireland",
          "Israel",
          "Italy",
          "Jamaica",
          "Japan",
          "Jordan",
          "Kazakhstan",
          "Kenya",
          "Laos",
          "Latvia",
          "Lebanon",
          "Lesotho",
          "Liberia",
          "Libya",
          "Lithuania",
          "Macedonia",
          "Madagascar",
          "Malawi",
          "Malaysia",
          "Mali",
          "Mauritania",
          "Mauritius",
          "Mexico",
          "Moldova",
          "Mongolia",
          "Montenegro",
          "Morocco",
          "Mozambique",
          "Namibia",
          "Nepal",
          "New Zealand",
          "Nicaragua",
          "Niger",
          "Nigeria",
          "Norway",
          "Oman",
          "Pakistan",
          "Panama",
          "Papua New Guinea",
          "Paraguay",
          "Peru",
          "Philippines",
          "Poland",
          "Portugal",
          "Puerto Rico",
          "Qatar",
          "Reunion",
          "Romania",
          "Russia",
          "Rwanda",
          "Saudi Arabia",
          "Senegal",
          "Serbia",
          "Sierra Leone",
          "Singapore",
          "Slovakia",
          "Slovenia",
          "Somalia",
          "South Africa",
          "South Korea",
          "Spain",
          "Sri Lanka",
          "Sudan",
          "Suriname",
          "Swaziland",
          "Sweden",
          "Switzerland",
          "Syria",
          "Taiwan",
          "Tajikistan",
          "Tanzania",
          "Thailand",
          "Togo",
          "Tunisia",
          "Turkey",
          "Turkmenistan",
          "Uganda",
          "Ukraine",
          "United Arab Emirates",
          "United States",
          "Uruguay",
          "Uzbekistan",
          "Venezuela",
          "Vietnam",
          "Yemen",
          "Zambia",
          "Zimbabwe"
         ],
         "marker": {
          "line": {
           "color": "rgb(0,0,0)",
           "width": 1
          }
         },
         "text": [
          "Afghanistan",
          "Albania",
          "Algeria",
          "Angola",
          "Argentina",
          "Armenia",
          "Australia",
          "Austria",
          "Azerbaijan",
          "Bahamas",
          "Bahrain",
          "Bangladesh",
          "Belarus",
          "Belgium",
          "Benin",
          "Bolivia",
          "Bosnia And Herzegovina",
          "Botswana",
          "Brazil",
          "Bulgaria",
          "Burkina Faso",
          "Burma",
          "Burundi",
          "Cambodia",
          "Cameroon",
          "Canada",
          "Central African Republic",
          "Chad",
          "Chile",
          "China",
          "Colombia",
          "Congo",
          "Congo (Democratic Republic Of The)",
          "Costa Rica",
          "Croatia",
          "Cuba",
          "Cyprus",
          "Czech Republic",
          "Côte D'Ivoire",
          "Djibouti",
          "Dominican Republic",
          "Ecuador",
          "Egypt",
          "El Salvador",
          "Equatorial Guinea",
          "Eritrea",
          "Estonia",
          "Ethiopia",
          "Finland",
          "Gabon",
          "Gambia",
          "Georgia",
          "Germany",
          "Ghana",
          "Greece",
          "Guatemala",
          "Guinea",
          "Guinea Bissau",
          "Guyana",
          "Haiti",
          "Honduras",
          "Hong Kong",
          "Hungary",
          "Iceland",
          "India",
          "Indonesia",
          "Iran",
          "Iraq",
          "Ireland",
          "Israel",
          "Italy",
          "Jamaica",
          "Japan",
          "Jordan",
          "Kazakhstan",
          "Kenya",
          "Laos",
          "Latvia",
          "Lebanon",
          "Lesotho",
          "Liberia",
          "Libya",
          "Lithuania",
          "Macedonia",
          "Madagascar",
          "Malawi",
          "Malaysia",
          "Mali",
          "Mauritania",
          "Mauritius",
          "Mexico",
          "Moldova",
          "Mongolia",
          "Montenegro",
          "Morocco",
          "Mozambique",
          "Namibia",
          "Nepal",
          "New Zealand",
          "Nicaragua",
          "Niger",
          "Nigeria",
          "Norway",
          "Oman",
          "Pakistan",
          "Panama",
          "Papua New Guinea",
          "Paraguay",
          "Peru",
          "Philippines",
          "Poland",
          "Portugal",
          "Puerto Rico",
          "Qatar",
          "Reunion",
          "Romania",
          "Russia",
          "Rwanda",
          "Saudi Arabia",
          "Senegal",
          "Serbia",
          "Sierra Leone",
          "Singapore",
          "Slovakia",
          "Slovenia",
          "Somalia",
          "South Africa",
          "South Korea",
          "Spain",
          "Sri Lanka",
          "Sudan",
          "Suriname",
          "Swaziland",
          "Sweden",
          "Switzerland",
          "Syria",
          "Taiwan",
          "Tajikistan",
          "Tanzania",
          "Thailand",
          "Togo",
          "Tunisia",
          "Turkey",
          "Turkmenistan",
          "Uganda",
          "Ukraine",
          "United Arab Emirates",
          "United States",
          "Uruguay",
          "Uzbekistan",
          "Venezuela",
          "Vietnam",
          "Yemen",
          "Zambia",
          "Zimbabwe"
         ],
         "type": "choropleth",
         "z": [
          13.81649689626358,
          15.525828490208466,
          17.763205946291556,
          21.759715773235634,
          16.999215885618383,
          8.37559704395177,
          16.701462142476462,
          6.285928363866077,
          11.11366381418093,
          24.78697831775701,
          25.855601290963257,
          25.052512225574866,
          6.1422531980416935,
          9.726196958758235,
          26.975880208333336,
          11.352980175438597,
          10.449959128237523,
          18.9964981313401,
          21.90276297977393,
          10.580413274975182,
          27.815294546436284,
          26.016839989290055,
          20.806355820895522,
          26.918136297728374,
          24.631562757558253,
          4.900387156374224,
          24.950858213256485,
          27.189829394812676,
          11.770133066906743,
          12.54254120459217,
          22.683264177371722,
          23.866440922190204,
          23.240345757415387,
          24.85232974910394,
          10.573466940408508,
          25.59688167009923,
          19.03456376594149,
          8.075891092861655,
          25.788026983337478,
          29.152790108564535,
          25.88405256037679,
          20.539170537428024,
          21.487249035256976,
          25.26285255093982,
          25.178324207492796,
          24.00151587777112,
          4.695704832596336,
          20.611525296730985,
          3.7116445356917245,
          25.895771181556196,
          25.18409401709402,
          8.37559704395177,
          8.48279079026384,
          26.31996442687747,
          16.347482714233173,
          19.17596265560166,
          25.509399201596807,
          27.057185462319616,
          26.54984937439846,
          26.379050456253356,
          23.975221142600088,
          21.423696153846155,
          9.828791394679584,
          1.5000886490022898,
          25.4292240377368,
          25.990192956329242,
          14.790532209512342,
          19.88473813744916,
          9.15390603284902,
          19.007696591476424,
          12.622415982312068,
          26.409168621047943,
          13.402359587282975,
          18.360980886539245,
          4.34029960969309,
          20.205170993284554,
          24.107664292074798,
          5.386615603284901,
          18.75946075715605,
          14.040680192205018,
          25.67318610816543,
          19.853651724137933,
          6.1059415034744156,
          9.57784301958307,
          22.116976179178135,
          21.347872026498045,
          26.43475662438391,
          27.59049083466809,
          27.021904935064935,
          23.522653983353155,
          20.062045841745984,
          8.672153295430618,
          -3.3654853195164076,
          10.221040113708149,
          17.295399404278367,
          23.474416481606642,
          19.635057097118462,
          18.11993321393495,
          12.841856587596455,
          26.852526785714286,
          28.14555167114867,
          26.584342534328588,
          3.6125527479469364,
          25.565806295399515,
          23.97270111548291,
          26.745667996011964,
          24.855732278481014,
          22.7840143129771,
          16.577114963658474,
          26.51646246746486,
          7.67197229610666,
          14.74967496592458,
          25.297679923334933,
          26.831705193482687,
          23.30140309155767,
          8.89590614024005,
          3.3472679828735608,
          19.077631823461093,
          24.863508781107544,
          25.98417669449082,
          9.909777742682671,
          25.64101091005854,
          26.52310282651072,
          8.67710186355022,
          9.486257106759318,
          26.446140040626123,
          16.36084878220666,
          10.681884541984735,
          14.457233926198505,
          26.727753499911397,
          28.07283082750583,
          26.429474975938405,
          21.203533368926855,
          5.665518003790272,
          7.541977258370183,
          18.094597216677123,
          21.682916642514414,
          8.810140854779414,
          22.645595205003477,
          26.693109779758228,
          26.64435734543392,
          18.777488307066598,
          12.95188816746665,
          14.302487036478745,
          24.019329229547257,
          7.822183953883209,
          26.572680548234054,
          13.949334923600649,
          17.421870944656487,
          11.946573813309108,
          25.482422449567036,
          24.84682544478552,
          25.768407664453836,
          20.937623191582638,
          19.822971358428806
         ]
        }
       ],
       "layout": {
        "geo": {
         "lataxis": {
          "gridcolor": "rgb(102, 102, 102)",
          "showgrid": true
         },
         "lonaxis": {
          "gridcolor": "rgb(102, 102, 102)",
          "showgrid": true
         },
         "oceancolor": "rgb(0,255,255)",
         "projection": {
          "rotation": {
           "lat": 10,
           "lon": 60
          },
          "type": "orthographic"
         },
         "showframe": false,
         "showocean": true
        },
        "title": "Average land temperature in countries"
       }
      },
      "text/html": [
       "<div>                            <div id=\"2fc3a386-65f6-4e68-af1d-4594909b284e\" class=\"plotly-graph-div\" style=\"height:525px; width:100%;\"></div>            <script type=\"text/javascript\">                require([\"plotly\"], function(Plotly) {                    window.PLOTLYENV=window.PLOTLYENV || {};                                    if (document.getElementById(\"2fc3a386-65f6-4e68-af1d-4594909b284e\")) {                    Plotly.newPlot(                        \"2fc3a386-65f6-4e68-af1d-4594909b284e\",                        [{\"type\":\"choropleth\",\"locations\":[\"Afghanistan\",\"Albania\",\"Algeria\",\"Angola\",\"Argentina\",\"Armenia\",\"Australia\",\"Austria\",\"Azerbaijan\",\"Bahamas\",\"Bahrain\",\"Bangladesh\",\"Belarus\",\"Belgium\",\"Benin\",\"Bolivia\",\"Bosnia And Herzegovina\",\"Botswana\",\"Brazil\",\"Bulgaria\",\"Burkina Faso\",\"Burma\",\"Burundi\",\"Cambodia\",\"Cameroon\",\"Canada\",\"Central African Republic\",\"Chad\",\"Chile\",\"China\",\"Colombia\",\"Congo\",\"Congo (Democratic Republic Of The)\",\"Costa Rica\",\"Croatia\",\"Cuba\",\"Cyprus\",\"Czech Republic\",\"C\\u00f4te D'Ivoire\",\"Djibouti\",\"Dominican Republic\",\"Ecuador\",\"Egypt\",\"El Salvador\",\"Equatorial Guinea\",\"Eritrea\",\"Estonia\",\"Ethiopia\",\"Finland\",\"Gabon\",\"Gambia\",\"Georgia\",\"Germany\",\"Ghana\",\"Greece\",\"Guatemala\",\"Guinea\",\"Guinea Bissau\",\"Guyana\",\"Haiti\",\"Honduras\",\"Hong Kong\",\"Hungary\",\"Iceland\",\"India\",\"Indonesia\",\"Iran\",\"Iraq\",\"Ireland\",\"Israel\",\"Italy\",\"Jamaica\",\"Japan\",\"Jordan\",\"Kazakhstan\",\"Kenya\",\"Laos\",\"Latvia\",\"Lebanon\",\"Lesotho\",\"Liberia\",\"Libya\",\"Lithuania\",\"Macedonia\",\"Madagascar\",\"Malawi\",\"Malaysia\",\"Mali\",\"Mauritania\",\"Mauritius\",\"Mexico\",\"Moldova\",\"Mongolia\",\"Montenegro\",\"Morocco\",\"Mozambique\",\"Namibia\",\"Nepal\",\"New Zealand\",\"Nicaragua\",\"Niger\",\"Nigeria\",\"Norway\",\"Oman\",\"Pakistan\",\"Panama\",\"Papua New Guinea\",\"Paraguay\",\"Peru\",\"Philippines\",\"Poland\",\"Portugal\",\"Puerto Rico\",\"Qatar\",\"Reunion\",\"Romania\",\"Russia\",\"Rwanda\",\"Saudi Arabia\",\"Senegal\",\"Serbia\",\"Sierra Leone\",\"Singapore\",\"Slovakia\",\"Slovenia\",\"Somalia\",\"South Africa\",\"South Korea\",\"Spain\",\"Sri Lanka\",\"Sudan\",\"Suriname\",\"Swaziland\",\"Sweden\",\"Switzerland\",\"Syria\",\"Taiwan\",\"Tajikistan\",\"Tanzania\",\"Thailand\",\"Togo\",\"Tunisia\",\"Turkey\",\"Turkmenistan\",\"Uganda\",\"Ukraine\",\"United Arab Emirates\",\"United States\",\"Uruguay\",\"Uzbekistan\",\"Venezuela\",\"Vietnam\",\"Yemen\",\"Zambia\",\"Zimbabwe\"],\"z\":[13.81649689626358,15.525828490208466,17.763205946291556,21.759715773235634,16.999215885618383,8.37559704395177,16.701462142476462,6.285928363866077,11.11366381418093,24.78697831775701,25.855601290963257,25.052512225574866,6.1422531980416935,9.726196958758235,26.975880208333336,11.352980175438597,10.449959128237523,18.9964981313401,21.90276297977393,10.580413274975182,27.815294546436284,26.016839989290055,20.806355820895522,26.918136297728374,24.631562757558253,4.900387156374224,24.950858213256485,27.189829394812676,11.770133066906743,12.54254120459217,22.683264177371722,23.866440922190204,23.240345757415387,24.85232974910394,10.573466940408508,25.59688167009923,19.03456376594149,8.075891092861655,25.788026983337478,29.152790108564535,25.88405256037679,20.539170537428024,21.487249035256976,25.26285255093982,25.178324207492796,24.00151587777112,4.695704832596336,20.611525296730985,3.7116445356917245,25.895771181556196,25.18409401709402,8.37559704395177,8.48279079026384,26.31996442687747,16.347482714233173,19.17596265560166,25.509399201596807,27.057185462319616,26.54984937439846,26.379050456253356,23.975221142600088,21.423696153846155,9.828791394679584,1.5000886490022898,25.4292240377368,25.990192956329242,14.790532209512342,19.88473813744916,9.15390603284902,19.007696591476424,12.622415982312068,26.409168621047943,13.402359587282975,18.360980886539245,4.34029960969309,20.205170993284554,24.107664292074798,5.386615603284901,18.75946075715605,14.040680192205018,25.67318610816543,19.853651724137933,6.1059415034744156,9.57784301958307,22.116976179178135,21.347872026498045,26.43475662438391,27.59049083466809,27.021904935064935,23.522653983353155,20.062045841745984,8.672153295430618,-3.3654853195164076,10.221040113708149,17.295399404278367,23.474416481606642,19.635057097118462,18.11993321393495,12.841856587596455,26.852526785714286,28.14555167114867,26.584342534328588,3.6125527479469364,25.565806295399515,23.97270111548291,26.745667996011964,24.855732278481014,22.7840143129771,16.577114963658474,26.51646246746486,7.67197229610666,14.74967496592458,25.297679923334933,26.831705193482687,23.30140309155767,8.89590614024005,3.3472679828735608,19.077631823461093,24.863508781107544,25.98417669449082,9.909777742682671,25.64101091005854,26.52310282651072,8.67710186355022,9.486257106759318,26.446140040626123,16.36084878220666,10.681884541984735,14.457233926198505,26.727753499911397,28.07283082750583,26.429474975938405,21.203533368926855,5.665518003790272,7.541977258370183,18.094597216677123,21.682916642514414,8.810140854779414,22.645595205003477,26.693109779758228,26.64435734543392,18.777488307066598,12.95188816746665,14.302487036478745,24.019329229547257,7.822183953883209,26.572680548234054,13.949334923600649,17.421870944656487,11.946573813309108,25.482422449567036,24.84682544478552,25.768407664453836,20.937623191582638,19.822971358428806],\"locationmode\":\"country names\",\"text\":[\"Afghanistan\",\"Albania\",\"Algeria\",\"Angola\",\"Argentina\",\"Armenia\",\"Australia\",\"Austria\",\"Azerbaijan\",\"Bahamas\",\"Bahrain\",\"Bangladesh\",\"Belarus\",\"Belgium\",\"Benin\",\"Bolivia\",\"Bosnia And Herzegovina\",\"Botswana\",\"Brazil\",\"Bulgaria\",\"Burkina Faso\",\"Burma\",\"Burundi\",\"Cambodia\",\"Cameroon\",\"Canada\",\"Central African Republic\",\"Chad\",\"Chile\",\"China\",\"Colombia\",\"Congo\",\"Congo (Democratic Republic Of The)\",\"Costa Rica\",\"Croatia\",\"Cuba\",\"Cyprus\",\"Czech Republic\",\"C\\u00f4te D'Ivoire\",\"Djibouti\",\"Dominican Republic\",\"Ecuador\",\"Egypt\",\"El Salvador\",\"Equatorial Guinea\",\"Eritrea\",\"Estonia\",\"Ethiopia\",\"Finland\",\"Gabon\",\"Gambia\",\"Georgia\",\"Germany\",\"Ghana\",\"Greece\",\"Guatemala\",\"Guinea\",\"Guinea Bissau\",\"Guyana\",\"Haiti\",\"Honduras\",\"Hong Kong\",\"Hungary\",\"Iceland\",\"India\",\"Indonesia\",\"Iran\",\"Iraq\",\"Ireland\",\"Israel\",\"Italy\",\"Jamaica\",\"Japan\",\"Jordan\",\"Kazakhstan\",\"Kenya\",\"Laos\",\"Latvia\",\"Lebanon\",\"Lesotho\",\"Liberia\",\"Libya\",\"Lithuania\",\"Macedonia\",\"Madagascar\",\"Malawi\",\"Malaysia\",\"Mali\",\"Mauritania\",\"Mauritius\",\"Mexico\",\"Moldova\",\"Mongolia\",\"Montenegro\",\"Morocco\",\"Mozambique\",\"Namibia\",\"Nepal\",\"New Zealand\",\"Nicaragua\",\"Niger\",\"Nigeria\",\"Norway\",\"Oman\",\"Pakistan\",\"Panama\",\"Papua New Guinea\",\"Paraguay\",\"Peru\",\"Philippines\",\"Poland\",\"Portugal\",\"Puerto Rico\",\"Qatar\",\"Reunion\",\"Romania\",\"Russia\",\"Rwanda\",\"Saudi Arabia\",\"Senegal\",\"Serbia\",\"Sierra Leone\",\"Singapore\",\"Slovakia\",\"Slovenia\",\"Somalia\",\"South Africa\",\"South Korea\",\"Spain\",\"Sri Lanka\",\"Sudan\",\"Suriname\",\"Swaziland\",\"Sweden\",\"Switzerland\",\"Syria\",\"Taiwan\",\"Tajikistan\",\"Tanzania\",\"Thailand\",\"Togo\",\"Tunisia\",\"Turkey\",\"Turkmenistan\",\"Uganda\",\"Ukraine\",\"United Arab Emirates\",\"United States\",\"Uruguay\",\"Uzbekistan\",\"Venezuela\",\"Vietnam\",\"Yemen\",\"Zambia\",\"Zimbabwe\"],\"marker\":{\"line\":{\"color\":\"rgb(0,0,0)\",\"width\":1}},\"colorbar\":{\"autotick\":true,\"tickprefix\":\"\",\"title\":\"# Average\\nTemperature,\\n\\u00b0C\"}}],                        {\"title\":\"Average land temperature in countries\",\"geo\":{\"showframe\":false,\"showocean\":true,\"oceancolor\":\"rgb(0,255,255)\",\"projection\":{\"type\":\"orthographic\",\"rotation\":{\"lon\":60,\"lat\":10}},\"lonaxis\":{\"showgrid\":true,\"gridcolor\":\"rgb(102, 102, 102)\"},\"lataxis\":{\"showgrid\":true,\"gridcolor\":\"rgb(102, 102, 102)\"}}},                        {\"responsive\": true}                    ).then(function(){\n",
       "                            \n",
       "var gd = document.getElementById('2fc3a386-65f6-4e68-af1d-4594909b284e');\n",
       "var x = new MutationObserver(function (mutations, observer) {{\n",
       "        var display = window.getComputedStyle(gd).display;\n",
       "        if (!display || display === 'none') {{\n",
       "            console.log([gd, 'removed!']);\n",
       "            Plotly.purge(gd);\n",
       "            observer.disconnect();\n",
       "        }}\n",
       "}});\n",
       "\n",
       "// Listen for the removal of the full notebook cells\n",
       "var notebookContainer = gd.closest('#notebook-container');\n",
       "if (notebookContainer) {{\n",
       "    x.observe(notebookContainer, {childList: true});\n",
       "}}\n",
       "\n",
       "// Listen for the clearing of the current output cell\n",
       "var outputEl = gd.closest('.output');\n",
       "if (outputEl) {{\n",
       "    x.observe(outputEl, {childList: true});\n",
       "}}\n",
       "\n",
       "                        })                };                });            </script>        </div>"
      ]
     },
     "metadata": {},
     "output_type": "display_data"
    }
   ],
   "source": [
    "#Let's remove the duplicated countries (in the analysis, we don't consider the presence of \n",
    "#colonies at this the countries) and countries for which no information about the temperature\n",
    "\n",
    "global_temp_country_clear = global_temp_country[~global_temp_country['Country'].isin(\n",
    "    ['Denmark', 'Antarctica', 'France', 'Europe', 'Netherlands',\n",
    "     'United Kingdom', 'Africa', 'South America'])]\n",
    "\n",
    "global_temp_country_clear = global_temp_country_clear.replace(\n",
    "   ['Denmark (Europe)', 'France (Europe)', 'Netherlands (Europe)', 'United Kingdom (Europe)'],\n",
    "   ['Denmark', 'France', 'Netherlands', 'United Kingdom'])\n",
    "\n",
    "#Let's average temperature for each country\n",
    "\n",
    "countries = np.unique(global_temp_country_clear['Country'])\n",
    "mean_temp = []\n",
    "for country in countries:\n",
    "    mean_temp.append(global_temp_country_clear[global_temp_country_clear['Country'] == \n",
    "                                               country]['AverageTemperature'].mean())\n",
    "\n",
    "\n",
    "    \n",
    "data = [ dict(\n",
    "        type = 'choropleth',\n",
    "        locations = countries,\n",
    "        z = mean_temp,\n",
    "        locationmode = 'country names',\n",
    "        text = countries,\n",
    "        marker = dict(\n",
    "            line = dict(color = 'rgb(0,0,0)', width = 1)),\n",
    "            colorbar = dict(autotick = True, tickprefix = '', \n",
    "            title = '# Average\\nTemperature,\\n°C')\n",
    "            )\n",
    "       ]\n",
    "\n",
    "layout = dict(\n",
    "    title = 'Average land temperature in countries',\n",
    "    geo = dict(\n",
    "        showframe = False,\n",
    "        showocean = True,\n",
    "        oceancolor = 'rgb(0,255,255)',\n",
    "        projection = dict(\n",
    "        type = 'orthographic',\n",
    "            rotation = dict(\n",
    "                    lon = 60,\n",
    "                    lat = 10),\n",
    "        ),\n",
    "        lonaxis =  dict(\n",
    "                showgrid = True,\n",
    "                gridcolor = 'rgb(102, 102, 102)'\n",
    "            ),\n",
    "        lataxis = dict(\n",
    "                showgrid = True,\n",
    "                gridcolor = 'rgb(102, 102, 102)'\n",
    "                )\n",
    "            ),\n",
    "        )\n",
    "\n",
    "fig = dict(data=data, layout=layout)\n",
    "py.iplot(fig, validate=False, filename='worldmap')"
   ]
  },
  {
   "cell_type": "markdown",
   "metadata": {
    "_cell_guid": "31b85cbe-da87-dcb2-0c62-6b6667db3858"
   },
   "source": [
    "It is possible to notice that Russia has one of the lowest average temperature (like a Canada). The lowest temperature in Greenland (it is distinctly visible on the map). The hottest country in Africa, on the equator. It is quite natural.\n",
    "\n",
    "## 2) Sort the countries by the average temperature and plot Horizontal Bar"
   ]
  },
  {
   "cell_type": "code",
   "execution_count": null,
   "metadata": {
    "_cell_guid": "e2a69312-589c-93ce-522e-232e8f7780a1"
   },
   "outputs": [],
   "source": [
    "mean_temp_bar, countries_bar = (list(x) for x in zip(*sorted(zip(mean_temp, countries), \n",
    "                                                             reverse = True)))\n",
    "sns.set(font_scale=0.9) \n",
    "f, ax = plt.subplots(figsize=(4.5, 50))\n",
    "colors_cw = sns.color_palette('coolwarm', len(countries))\n",
    "sns.barplot(mean_temp_bar, countries_bar, palette = colors_cw[::-1])\n",
    "Text = ax.set(xlabel='Average temperature', title='Average land temperature in countries')"
   ]
  },
  {
   "cell_type": "markdown",
   "metadata": {
    "_cell_guid": "10de1092-ab02-eff5-486a-af3d6900a6ec"
   },
   "source": [
    "##3) Is there a global warming?"
   ]
  },
  {
   "cell_type": "markdown",
   "metadata": {
    "_cell_guid": "9b9305ac-bdf6-6ed6-e40e-f3c41333c43e"
   },
   "source": [
    "Let's read the data from the \"GlobalTemperatures.csv\" file, which has a monthly Earth’s temperature  and plot it on the chart."
   ]
  },
  {
   "cell_type": "code",
   "execution_count": 4,
   "metadata": {
    "_cell_guid": "c8b16968-1cf3-a47e-1b90-21e5e16cdaa0"
   },
   "outputs": [
    {
     "data": {
      "text/html": [
       "<div id=\"19212b3a-3ac1-4db5-bf1a-5aecfaa85129\" style=\"height: 525px; width: 100%;\" class=\"plotly-graph-div\"></div><script type=\"text/javascript\">require([\"plotly\"], function(Plotly) { window.PLOTLYENV=window.PLOTLYENV || {};window.PLOTLYENV.BASE_URL=\"https://plot.ly\";Plotly.newPlot(\"19212b3a-3ac1-4db5-bf1a-5aecfaa85129\", [{\"mode\": \"lines\", \"fill\": null, \"y\": [11.357181818181818, 10.757285714285715, 8.756833333333333, 11.564083333333333, 11.963583333333336, 12.205916666666667, 12.111916666666668, 13.048000000000002, 10.1065, 11.664, 10.274083333333333, 11.917333333333332, 12.13075, 10.648333333333332, 11.175583333333332, 10.679666666666666, 11.2415, 11.184166666666666, 9.047333333333334, 10.104666666666667, 10.472583333333333, 10.45775, 10.657333333333334, 10.58225, 12.187333333333331, 11.503666666666668, 11.168166666666668, 10.699083333333334, 11.41475, 11.489083333333333, 12.017750000000001, 10.606416666666664, 10.451833333333331, 10.17525, 10.117666666666668, 9.6025, 10.783583333333333, 10.393583333333334, 11.004999999999999, 10.202833333333333, 9.754, 10.018, 9.789416666666668, 10.503583333333331, 10.505, 10.393666666666666, 10.191666666666666, 10.556250000000002, 10.573583333333332, 10.244166666666665, 10.202916666666669, 10.171333333333335, 10.427166666666666, 10.136166666666666, 10.686666666666667, 10.251666666666665, 10.004166666666665, 9.873666666666665, 9.623666666666665, 9.211833333333333, 9.233666666666664, 8.955250000000001, 9.181833333333334, 9.448750000000002, 9.760250000000001, 9.205833333333334, 9.130416666666667, 8.684000000000001, 9.658000000000001, 8.951083333333333, 9.235, 9.465916666666665, 9.563583333333334, 9.080916666666667, 9.995000000000001, 9.897166666666667, 9.916166666666669, 10.25233333333333, 9.81375, 9.261583333333332, 9.948166666666667, 9.170666666666667, 8.990583333333333, 9.2465, 9.299000000000001, 8.667833333333332, 8.86525, 8.666583333333332, 8.677249999999999, 8.811666666666666, 8.787416666666667, 8.640166666666666, 8.92025, 8.923499999999999, 8.572333333333333, 8.732666666666667, 9.6045, 8.986666666666666, 8.850833333333334, 8.898, 8.777083333333334, 9.0605, 9.018416666666665, 8.876833333333334, 9.036166666666666, 8.997916666666665, 8.756666666666666, 8.509250000000002, 8.8, 8.926666666666668, 8.586833333333333, 8.499916666666667, 8.2475, 8.859833333333333, 8.660000000000002, 8.84, 8.898166666666665, 9.071166666666667, 8.79425, 9.02775, 8.7515, 8.685333333333332, 8.782916666666665, 8.901583333333333, 8.951416666666667, 8.311083333333334, 8.513583333333333, 8.9955, 9.254666666666665, 8.62925, 8.533666666666665, 8.69025, 8.508833333333333, 8.347583333333333, 8.169916666666667, 8.344666666666669, 8.340499999999999, 8.307, 8.472916666666666, 8.688833333333333, 8.314666666666668, 8.354666666666667, 8.404666666666666, 8.402, 8.47825, 8.446250000000001, 8.52375, 8.607166666666668, 8.503666666666666, 8.721083333333333, 8.816333333333333, 8.848166666666666, 8.597166666666666, 8.510166666666667, 8.377333333333333, 8.503916666666665, 8.653999999999998, 8.204333333333334, 8.460833333333333, 8.441, 8.483083333333335, 8.424833333333336, 8.423833333333334, 8.559999999999999, 8.842416666666667, 8.839333333333332, 8.485666666666667, 8.283999999999999, 8.399083333333332, 8.649000000000001, 8.621416666666667, 8.827833333333333, 8.666583333333334, 8.675249999999998, 8.763666666666667, 8.775166666666667, 8.971499999999999, 8.770999999999999, 8.88075, 8.494166666666665, 8.873249999999999, 8.957, 8.954166666666667, 8.580916666666667, 8.868416666666668, 8.751666666666667, 8.797083333333333, 8.938416666666665, 9.104166666666666, 8.997666666666667, 8.995750000000001, 8.996500000000001, 8.957916666666666, 8.981666666666667, 9.070166666666667, 8.805166666666665, 8.899333333333335, 9.014166666666666, 8.956333333333333, 8.794999999999998, 8.551583333333335, 8.809833333333332, 8.847000000000001, 9.085833333333335, 8.747833333333332, 8.779833333333334, 8.400416666666667, 8.8905, 8.878083333333333, 8.839833333333331, 8.67725, 8.894666666666666, 8.878833333333333, 8.948333333333332, 8.502166666666666, 8.63625, 8.691583333333332, 8.78375, 8.628, 8.68025, 8.776499999999999, 8.697166666666666, 8.594916666666666, 9.048999999999998, 8.572, 8.841916666666668, 8.447833333333332, 8.934916666666666, 8.796583333333333, 8.819833333333332, 9.087, 9.253083333333333, 8.721833333333333, 9.122166666666665, 8.794416666666669, 8.751249999999999, 8.918583333333332, 9.079583333333334, 9.281666666666666, 9.009999999999998, 9.320500000000001, 9.2415, 8.919916666666666, 8.947916666666666, 9.109666666666666, 9.423499999999999, 9.123666666666667, 9.291166666666667, 9.596583333333333, 9.364333333333333, 9.284666666666668, 9.502, 9.642833333333334, 9.61625, 9.408, 9.776083333333332, 9.622499999999999, 9.821666666666664, 9.510666666666667, 9.591166666666668, 9.786499999999998, 9.598, 9.59075, 9.704166666666666, 9.660833333333333, 9.923166666666665], \"type\": \"scatter\", \"line\": {\"color\": \"rgb(0, 255, 255)\"}, \"x\": [\"1750\", \"1751\", \"1752\", \"1753\", \"1754\", \"1755\", \"1756\", \"1757\", \"1758\", \"1759\", \"1760\", \"1761\", \"1762\", \"1763\", \"1764\", \"1765\", \"1766\", \"1767\", \"1768\", \"1769\", \"1770\", \"1771\", \"1772\", \"1773\", \"1774\", \"1775\", \"1776\", \"1777\", \"1778\", \"1779\", \"1780\", \"1781\", \"1782\", \"1783\", \"1784\", \"1785\", \"1786\", \"1787\", \"1788\", \"1789\", \"1790\", \"1791\", \"1792\", \"1793\", \"1794\", \"1795\", \"1796\", \"1797\", \"1798\", \"1799\", \"1800\", \"1801\", \"1802\", \"1803\", \"1804\", \"1805\", \"1806\", \"1807\", \"1808\", \"1809\", \"1810\", \"1811\", \"1812\", \"1813\", \"1814\", \"1815\", \"1816\", \"1817\", \"1818\", \"1819\", \"1820\", \"1821\", \"1822\", \"1823\", \"1824\", \"1825\", \"1826\", \"1827\", \"1828\", \"1829\", \"1830\", \"1831\", \"1832\", \"1833\", \"1834\", \"1835\", \"1836\", \"1837\", \"1838\", \"1839\", \"1840\", \"1841\", \"1842\", \"1843\", \"1844\", \"1845\", \"1846\", \"1847\", \"1848\", \"1849\", \"1850\", \"1851\", \"1852\", \"1853\", \"1854\", \"1855\", \"1856\", \"1857\", \"1858\", \"1859\", \"1860\", \"1861\", \"1862\", \"1863\", \"1864\", \"1865\", \"1866\", \"1867\", \"1868\", \"1869\", \"1870\", \"1871\", \"1872\", \"1873\", \"1874\", \"1875\", \"1876\", \"1877\", \"1878\", \"1879\", \"1880\", \"1881\", \"1882\", \"1883\", \"1884\", \"1885\", \"1886\", \"1887\", \"1888\", \"1889\", \"1890\", \"1891\", \"1892\", \"1893\", \"1894\", \"1895\", \"1896\", \"1897\", \"1898\", \"1899\", \"1900\", \"1901\", \"1902\", \"1903\", \"1904\", \"1905\", \"1906\", \"1907\", \"1908\", \"1909\", \"1910\", \"1911\", \"1912\", \"1913\", \"1914\", \"1915\", \"1916\", \"1917\", \"1918\", \"1919\", \"1920\", \"1921\", \"1922\", \"1923\", \"1924\", \"1925\", \"1926\", \"1927\", \"1928\", \"1929\", \"1930\", \"1931\", \"1932\", \"1933\", \"1934\", \"1935\", \"1936\", \"1937\", \"1938\", \"1939\", \"1940\", \"1941\", \"1942\", \"1943\", \"1944\", \"1945\", \"1946\", \"1947\", \"1948\", \"1949\", \"1950\", \"1951\", \"1952\", \"1953\", \"1954\", \"1955\", \"1956\", \"1957\", \"1958\", \"1959\", \"1960\", \"1961\", \"1962\", \"1963\", \"1964\", \"1965\", \"1966\", \"1967\", \"1968\", \"1969\", \"1970\", \"1971\", \"1972\", \"1973\", \"1974\", \"1975\", \"1976\", \"1977\", \"1978\", \"1979\", \"1980\", \"1981\", \"1982\", \"1983\", \"1984\", \"1985\", \"1986\", \"1987\", \"1988\", \"1989\", \"1990\", \"1991\", \"1992\", \"1993\", \"1994\", \"1995\", \"1996\", \"1997\", \"1998\", \"1999\", \"2000\", \"2001\", \"2002\", \"2003\", \"2004\", \"2005\", \"2006\", \"2007\", \"2008\", \"2009\", \"2010\", \"2011\", \"2012\", \"2013\", \"2014\", \"2015\"], \"name\": \"Uncertainty top\"}, {\"mode\": \"lines\", \"fill\": \"tonexty\", \"y\": [6.081545454545456, 5.194999999999999, 2.8028333333333326, 5.212083333333332, 4.975083333333334, 4.50525, 5.587249999999999, 4.9959999999999996, 3.3806666666666656, 4.306166666666666, 4.096250000000001, 5.627666666666666, 5.08225, 4.345166666666666, 5.6250833333333325, 5.824166666666666, 5.569833333333333, 5.258833333333332, 4.515333333333333, 5.284500000000001, 4.91125, 5.248583333333334, 5.729666666666667, 5.860750000000001, 5.356999999999999, 6.862500000000001, 5.439833333333333, 5.813416666666669, 5.669749999999999, 6.477416666666667, 6.848083333333333, 5.598749999999998, 5.350666666666665, 5.186416666666666, 5.606333333333334, 5.1235, 5.732749999999999, 5.6700833333333325, 5.889333333333333, 6.4655, 6.210666666666667, 6.450499999999999, 6.388583333333334, 5.95475, 6.5470000000000015, 6.307, 6.3503333333333325, 6.464916666666667, 6.766916666666666, 6.767333333333332, 6.765583333333335, 7.008000000000001, 6.729166666666666, 6.869833333333333, 7.003, 6.873833333333333, 6.863999999999998, 6.689166666666665, 5.63, 4.941000000000001, 4.611666666666666, 4.76375, 4.910666666666668, 6.031083333333335, 5.4232499999999995, 5.272833333333334, 4.744583333333333, 5.267333333333335, 5.999833333333334, 5.787250000000001, 5.997499999999998, 6.714249999999999, 6.813083333333334, 6.356416666666667, 7.099333333333334, 6.8815, 6.7970000000000015, 7.365166666666664, 6.516916666666668, 6.622083333333332, 7.085333333333334, 6.107666666666667, 5.909750000000001, 6.7795, 6.994500000000001, 6.117166666666666, 6.526416666666667, 6.084749999999998, 6.352583333333332, 6.4528333333333325, 6.805083333333334, 6.736166666666667, 7.12525, 7.423833333333333, 6.7203333333333335, 6.969666666666668, 7.5009999999999994, 7.185333333333333, 7.108166666666667, 7.070833333333334, 7.024249999999999, 7.296666666666665, 7.181916666666664, 7.206833333333333, 7.384833333333333, 7.223583333333331, 7.235166666666666, 7.007083333333334, 7.400500000000001, 7.577333333333334, 7.334833333333333, 7.193083333333335, 6.869666666666667, 7.363833333333333, 7.307166666666668, 7.515666666666667, 7.686166666666665, 7.801500000000001, 7.701583333333334, 7.836416666666667, 7.651166666666666, 7.544833333333333, 7.604749999999998, 7.800583333333334, 7.915583333333334, 7.408083333333334, 7.646583333333333, 8.083666666666666, 8.404833333333332, 7.702416666666667, 7.703833333333332, 7.851583333333333, 7.7490000000000006, 7.606249999999998, 7.377416666666667, 7.494666666666668, 7.5684999999999985, 7.522833333333333, 7.708083333333334, 7.949166666666666, 7.628666666666667, 7.684, 7.7269999999999985, 7.711499999999999, 7.84375, 7.8477500000000004, 7.906083333333332, 7.979500000000002, 7.852333333333332, 8.071583333333333, 8.186833333333333, 8.235666666666665, 8.011666666666667, 7.9301666666666675, 7.8045, 7.946416666666665, 8.104166666666666, 7.69, 7.911333333333334, 7.915500000000001, 7.9629166666666675, 7.929166666666668, 7.907000000000001, 8.035499999999999, 8.338583333333334, 8.346999999999998, 7.964833333333334, 7.762666666666665, 7.8625833333333315, 8.1155, 8.096083333333334, 8.314166666666667, 8.149416666666665, 8.169083333333333, 8.250000000000002, 8.293666666666667, 8.486166666666666, 8.273166666666667, 8.383583333333336, 7.990666666666665, 8.393916666666666, 8.4815, 8.456333333333335, 8.095583333333334, 8.388250000000003, 8.279833333333334, 8.310916666666667, 8.45825, 8.623166666666664, 8.523, 8.533583333333333, 8.540833333333335, 8.498916666666666, 8.5285, 8.619833333333334, 8.3645, 8.454500000000003, 8.58, 8.537166666666668, 8.378499999999999, 8.178916666666668, 8.4415, 8.4295, 8.661666666666667, 8.3735, 8.472666666666667, 8.15875, 8.5745, 8.669416666666667, 8.625499999999999, 8.49025, 8.700666666666667, 8.613, 8.763666666666667, 8.317166666666667, 8.418583333333334, 8.507083333333332, 8.616416666666668, 8.404666666666667, 8.509916666666667, 8.625333333333334, 8.501333333333333, 8.404250000000001, 8.847499999999998, 8.363, 8.64775, 8.246666666666666, 8.765583333333332, 8.588916666666664, 8.646999999999998, 8.873666666666665, 9.078583333333334, 8.5565, 8.934166666666666, 8.589250000000002, 8.56475, 8.74858333333333, 8.909250000000002, 9.121500000000001, 8.834, 9.147833333333333, 9.117333333333333, 8.753249999999998, 8.78525, 8.967833333333331, 9.270666666666665, 8.954166666666667, 9.113999999999999, 9.448749999999999, 9.205833333333333, 9.117666666666667, 9.327166666666669, 9.498, 9.434916666666666, 9.241166666666667, 9.62575, 9.442499999999999, 9.642666666666665, 9.352833333333335, 9.419333333333336, 9.619666666666665, 9.434, 9.423916666666667, 9.508833333333332, 9.4805, 9.73883333333333], \"type\": \"scatter\", \"line\": {\"color\": \"rgb(0, 255, 255)\"}, \"x\": [\"1750\", \"1751\", \"1752\", \"1753\", \"1754\", \"1755\", \"1756\", \"1757\", \"1758\", \"1759\", \"1760\", \"1761\", \"1762\", \"1763\", \"1764\", \"1765\", \"1766\", \"1767\", \"1768\", \"1769\", \"1770\", \"1771\", \"1772\", \"1773\", \"1774\", \"1775\", \"1776\", \"1777\", \"1778\", \"1779\", \"1780\", \"1781\", \"1782\", \"1783\", \"1784\", \"1785\", \"1786\", \"1787\", \"1788\", \"1789\", \"1790\", \"1791\", \"1792\", \"1793\", \"1794\", \"1795\", \"1796\", \"1797\", \"1798\", \"1799\", \"1800\", \"1801\", \"1802\", \"1803\", \"1804\", \"1805\", \"1806\", \"1807\", \"1808\", \"1809\", \"1810\", \"1811\", \"1812\", \"1813\", \"1814\", \"1815\", \"1816\", \"1817\", \"1818\", \"1819\", \"1820\", \"1821\", \"1822\", \"1823\", \"1824\", \"1825\", \"1826\", \"1827\", \"1828\", \"1829\", \"1830\", \"1831\", \"1832\", \"1833\", \"1834\", \"1835\", \"1836\", \"1837\", \"1838\", \"1839\", \"1840\", \"1841\", \"1842\", \"1843\", \"1844\", \"1845\", \"1846\", \"1847\", \"1848\", \"1849\", \"1850\", \"1851\", \"1852\", \"1853\", \"1854\", \"1855\", \"1856\", \"1857\", \"1858\", \"1859\", \"1860\", \"1861\", \"1862\", \"1863\", \"1864\", \"1865\", \"1866\", \"1867\", \"1868\", \"1869\", \"1870\", \"1871\", \"1872\", \"1873\", \"1874\", \"1875\", \"1876\", \"1877\", \"1878\", \"1879\", \"1880\", \"1881\", \"1882\", \"1883\", \"1884\", \"1885\", \"1886\", \"1887\", \"1888\", \"1889\", \"1890\", \"1891\", \"1892\", \"1893\", \"1894\", \"1895\", \"1896\", \"1897\", \"1898\", \"1899\", \"1900\", \"1901\", \"1902\", \"1903\", \"1904\", \"1905\", \"1906\", \"1907\", \"1908\", \"1909\", \"1910\", \"1911\", \"1912\", \"1913\", \"1914\", \"1915\", \"1916\", \"1917\", \"1918\", \"1919\", \"1920\", \"1921\", \"1922\", \"1923\", \"1924\", \"1925\", \"1926\", \"1927\", \"1928\", \"1929\", \"1930\", \"1931\", \"1932\", \"1933\", \"1934\", \"1935\", \"1936\", \"1937\", \"1938\", \"1939\", \"1940\", \"1941\", \"1942\", \"1943\", \"1944\", \"1945\", \"1946\", \"1947\", \"1948\", \"1949\", \"1950\", \"1951\", \"1952\", \"1953\", \"1954\", \"1955\", \"1956\", \"1957\", \"1958\", \"1959\", \"1960\", \"1961\", \"1962\", \"1963\", \"1964\", \"1965\", \"1966\", \"1967\", \"1968\", \"1969\", \"1970\", \"1971\", \"1972\", \"1973\", \"1974\", \"1975\", \"1976\", \"1977\", \"1978\", \"1979\", \"1980\", \"1981\", \"1982\", \"1983\", \"1984\", \"1985\", \"1986\", \"1987\", \"1988\", \"1989\", \"1990\", \"1991\", \"1992\", \"1993\", \"1994\", \"1995\", \"1996\", \"1997\", \"1998\", \"1999\", \"2000\", \"2001\", \"2002\", \"2003\", \"2004\", \"2005\", \"2006\", \"2007\", \"2008\", \"2009\", \"2010\", \"2011\", \"2012\", \"2013\", \"2014\", \"2015\"], \"name\": \"Uncertainty bot\"}, {\"line\": {\"color\": \"rgb(199, 121, 093)\"}, \"x\": [\"1750\", \"1751\", \"1752\", \"1753\", \"1754\", \"1755\", \"1756\", \"1757\", \"1758\", \"1759\", \"1760\", \"1761\", \"1762\", \"1763\", \"1764\", \"1765\", \"1766\", \"1767\", \"1768\", \"1769\", \"1770\", \"1771\", \"1772\", \"1773\", \"1774\", \"1775\", \"1776\", \"1777\", \"1778\", \"1779\", \"1780\", \"1781\", \"1782\", \"1783\", \"1784\", \"1785\", \"1786\", \"1787\", \"1788\", \"1789\", \"1790\", \"1791\", \"1792\", \"1793\", \"1794\", \"1795\", \"1796\", \"1797\", \"1798\", \"1799\", \"1800\", \"1801\", \"1802\", \"1803\", \"1804\", \"1805\", \"1806\", \"1807\", \"1808\", \"1809\", \"1810\", \"1811\", \"1812\", \"1813\", \"1814\", \"1815\", \"1816\", \"1817\", \"1818\", \"1819\", \"1820\", \"1821\", \"1822\", \"1823\", \"1824\", \"1825\", \"1826\", \"1827\", \"1828\", \"1829\", \"1830\", \"1831\", \"1832\", \"1833\", \"1834\", \"1835\", \"1836\", \"1837\", \"1838\", \"1839\", \"1840\", \"1841\", \"1842\", \"1843\", \"1844\", \"1845\", \"1846\", \"1847\", \"1848\", \"1849\", \"1850\", \"1851\", \"1852\", \"1853\", \"1854\", \"1855\", \"1856\", \"1857\", \"1858\", \"1859\", \"1860\", \"1861\", \"1862\", \"1863\", \"1864\", \"1865\", \"1866\", \"1867\", \"1868\", \"1869\", \"1870\", \"1871\", \"1872\", \"1873\", \"1874\", \"1875\", \"1876\", \"1877\", \"1878\", \"1879\", \"1880\", \"1881\", \"1882\", \"1883\", \"1884\", \"1885\", \"1886\", \"1887\", \"1888\", \"1889\", \"1890\", \"1891\", \"1892\", \"1893\", \"1894\", \"1895\", \"1896\", \"1897\", \"1898\", \"1899\", \"1900\", \"1901\", \"1902\", \"1903\", \"1904\", \"1905\", \"1906\", \"1907\", \"1908\", \"1909\", \"1910\", \"1911\", \"1912\", \"1913\", \"1914\", \"1915\", \"1916\", \"1917\", \"1918\", \"1919\", \"1920\", \"1921\", \"1922\", \"1923\", \"1924\", \"1925\", \"1926\", \"1927\", \"1928\", \"1929\", \"1930\", \"1931\", \"1932\", \"1933\", \"1934\", \"1935\", \"1936\", \"1937\", \"1938\", \"1939\", \"1940\", \"1941\", \"1942\", \"1943\", \"1944\", \"1945\", \"1946\", \"1947\", \"1948\", \"1949\", \"1950\", \"1951\", \"1952\", \"1953\", \"1954\", \"1955\", \"1956\", \"1957\", \"1958\", \"1959\", \"1960\", \"1961\", \"1962\", \"1963\", \"1964\", \"1965\", \"1966\", \"1967\", \"1968\", \"1969\", \"1970\", \"1971\", \"1972\", \"1973\", \"1974\", \"1975\", \"1976\", \"1977\", \"1978\", \"1979\", \"1980\", \"1981\", \"1982\", \"1983\", \"1984\", \"1985\", \"1986\", \"1987\", \"1988\", \"1989\", \"1990\", \"1991\", \"1992\", \"1993\", \"1994\", \"1995\", \"1996\", \"1997\", \"1998\", \"1999\", \"2000\", \"2001\", \"2002\", \"2003\", \"2004\", \"2005\", \"2006\", \"2007\", \"2008\", \"2009\", \"2010\", \"2011\", \"2012\", \"2013\", \"2014\", \"2015\"], \"name\": \"Average Temperature\", \"y\": [8.719363636363637, 7.9761428571428565, 5.7798333333333325, 8.388083333333332, 8.469333333333335, 8.355583333333334, 8.849583333333333, 9.022, 6.743583333333333, 7.985083333333333, 7.185166666666667, 8.772499999999999, 8.6065, 7.496749999999999, 8.400333333333332, 8.251916666666666, 8.405666666666667, 8.221499999999999, 6.781333333333333, 7.694583333333334, 7.691916666666667, 7.8531666666666675, 8.1935, 8.2215, 8.772166666666665, 9.183083333333334, 8.304, 8.256250000000001, 8.54225, 8.98325, 9.432916666666667, 8.102583333333332, 7.901249999999998, 7.680833333333333, 7.862000000000001, 7.3629999999999995, 8.258166666666666, 8.031833333333333, 8.447166666666666, 8.334166666666667, 7.982333333333333, 8.23425, 8.089, 8.229166666666666, 8.526000000000002, 8.350333333333333, 8.270999999999999, 8.510583333333335, 8.67025, 8.505749999999999, 8.484250000000001, 8.589666666666668, 8.578166666666666, 8.503, 8.844833333333334, 8.56275, 8.434083333333332, 8.281416666666665, 7.626833333333333, 7.076416666666667, 6.922666666666665, 6.859500000000001, 7.046250000000001, 7.7399166666666686, 7.59175, 7.239333333333334, 6.9375, 6.975666666666668, 7.828916666666667, 7.3691666666666675, 7.616249999999998, 8.090083333333332, 8.188333333333334, 7.7186666666666675, 8.547166666666667, 8.389333333333333, 8.356583333333335, 8.808749999999998, 8.165333333333335, 7.941833333333332, 8.51675, 7.639166666666667, 7.450166666666667, 8.013, 8.14675, 7.392499999999999, 7.695833333333334, 7.375666666666665, 7.514916666666665, 7.632249999999999, 7.796250000000001, 7.688166666666667, 8.02275, 8.173666666666666, 7.646333333333334, 7.851166666666668, 8.55275, 8.086, 7.979500000000001, 7.984416666666667, 7.900666666666666, 8.178583333333332, 8.100166666666665, 8.041833333333333, 8.2105, 8.110749999999998, 7.995916666666666, 7.758166666666668, 8.10025, 8.252, 7.960833333333333, 7.846500000000002, 7.558583333333334, 8.111833333333333, 7.983583333333335, 8.177833333333334, 8.292166666666665, 8.436333333333334, 8.247916666666667, 8.432083333333333, 8.201333333333332, 8.115083333333333, 8.193833333333332, 8.351083333333333, 8.4335, 7.859583333333334, 8.080083333333333, 8.539583333333333, 8.829749999999999, 8.165833333333333, 8.118749999999999, 8.270916666666666, 8.128916666666667, 7.976916666666665, 7.773666666666667, 7.919666666666668, 7.954499999999999, 7.914916666666667, 8.0905, 8.318999999999999, 7.971666666666667, 8.019333333333334, 8.065833333333332, 8.05675, 8.161, 8.147, 8.214916666666666, 8.293333333333335, 8.177999999999999, 8.396333333333333, 8.501583333333333, 8.541916666666665, 8.304416666666667, 8.220166666666668, 8.090916666666667, 8.225166666666665, 8.379083333333332, 7.947166666666667, 8.186083333333334, 8.17825, 8.223, 8.177000000000001, 8.165416666666667, 8.297749999999999, 8.5905, 8.593166666666665, 8.22525, 8.023333333333332, 8.130833333333332, 8.38225, 8.35875, 8.571, 8.408, 8.422166666666666, 8.506833333333335, 8.534416666666667, 8.728833333333332, 8.522083333333333, 8.632166666666668, 8.242416666666665, 8.633583333333332, 8.71925, 8.705250000000001, 8.33825, 8.628333333333336, 8.51575, 8.554, 8.698333333333332, 8.863666666666665, 8.760333333333334, 8.764666666666667, 8.768666666666668, 8.728416666666666, 8.755083333333333, 8.845, 8.584833333333332, 8.676916666666669, 8.797083333333333, 8.74675, 8.586749999999999, 8.365250000000001, 8.625666666666666, 8.638250000000001, 8.873750000000001, 8.560666666666666, 8.62625, 8.279583333333333, 8.7325, 8.77375, 8.732666666666665, 8.58375, 8.797666666666666, 8.745916666666666, 8.856, 8.409666666666666, 8.527416666666667, 8.599333333333332, 8.700083333333334, 8.516333333333334, 8.595083333333333, 8.700916666666666, 8.59925, 8.499583333333334, 8.948249999999998, 8.4675, 8.744833333333334, 8.347249999999999, 8.850249999999999, 8.692749999999998, 8.733416666666665, 8.980333333333332, 9.165833333333333, 8.639166666666666, 9.028166666666666, 8.691833333333335, 8.658, 8.833583333333332, 8.994416666666668, 9.201583333333334, 8.921999999999999, 9.234166666666667, 9.179416666666667, 8.836583333333332, 8.866583333333333, 9.038749999999999, 9.347083333333332, 9.038916666666667, 9.202583333333333, 9.522666666666666, 9.285083333333333, 9.201166666666667, 9.414583333333335, 9.570416666666667, 9.525583333333334, 9.324583333333333, 9.700916666666666, 9.532499999999999, 9.732166666666664, 9.431750000000001, 9.505250000000002, 9.703083333333332, 9.516, 9.507333333333333, 9.606499999999999, 9.570666666666666, 9.830999999999998], \"type\": \"scatter\"}], {\"xaxis\": {\"title\": \"year\"}, \"showlegend\": false, \"yaxis\": {\"title\": \"Average Temperature, \\u00b0C\"}, \"title\": \"Average land temperature in world\"}, {\"showLink\": true, \"linkText\": \"Export to plot.ly\"})});</script>"
      ],
      "text/plain": [
       "<IPython.core.display.HTML object>"
      ]
     },
     "metadata": {},
     "output_type": "display_data"
    }
   ],
   "source": [
    "global_temp = pd.read_csv(\"../input/GlobalTemperatures.csv\")\n",
    "\n",
    "#Extract the year from a date\n",
    "years = np.unique(global_temp['dt'].apply(lambda x: x[:4]))\n",
    "mean_temp_world = []\n",
    "mean_temp_world_uncertainty = []\n",
    "\n",
    "for year in years:\n",
    "    mean_temp_world.append(global_temp[global_temp['dt'].apply(\n",
    "        lambda x: x[:4]) == year]['LandAverageTemperature'].mean())\n",
    "    mean_temp_world_uncertainty.append(global_temp[global_temp['dt'].apply(\n",
    "                lambda x: x[:4]) == year]['LandAverageTemperatureUncertainty'].mean())\n",
    "\n",
    "trace0 = go.Scatter(\n",
    "    x = years, \n",
    "    y = np.array(mean_temp_world) + np.array(mean_temp_world_uncertainty),\n",
    "    fill= None,\n",
    "    mode='lines',\n",
    "    name='Uncertainty top',\n",
    "    line=dict(\n",
    "        color='rgb(0, 255, 255)',\n",
    "    )\n",
    ")\n",
    "trace1 = go.Scatter(\n",
    "    x = years, \n",
    "    y = np.array(mean_temp_world) - np.array(mean_temp_world_uncertainty),\n",
    "    fill='tonexty',\n",
    "    mode='lines',\n",
    "    name='Uncertainty bot',\n",
    "    line=dict(\n",
    "        color='rgb(0, 255, 255)',\n",
    "    )\n",
    ")\n",
    "\n",
    "trace2 = go.Scatter(\n",
    "    x = years, \n",
    "    y = mean_temp_world,\n",
    "    name='Average Temperature',\n",
    "    line=dict(\n",
    "        color='rgb(199, 121, 093)',\n",
    "    )\n",
    ")\n",
    "data = [trace0, trace1, trace2]\n",
    "\n",
    "layout = go.Layout(\n",
    "    xaxis=dict(title='year'),\n",
    "    yaxis=dict(title='Average Temperature, °C'),\n",
    "    title='Average land temperature in world',\n",
    "    showlegend = False)\n",
    "\n",
    "fig = go.Figure(data=data, layout=layout)\n",
    "py.iplot(fig)"
   ]
  },
  {
   "cell_type": "markdown",
   "metadata": {
    "_cell_guid": "f63f7f76-8a54-591e-3560-e9465516213f"
   },
   "source": [
    "From the charts you can see, that there is global warming nowadays. The average temperature of Earth surface has the highest value in the last three centuries. The fastest temperature growth occurred in the last 30 years! This worries me, I hope soon humanity will fully switch to ecological sources of energy, that will reduce CO2. If it’s will not happened, we will be in disaster. This charts also have confidence intervals, which shows that measurement of temperature has become more accurate in the last few years.\n",
    "\n",
    "Let’s look at the chart of annual temperature changes in certain continents (we take into consideration one country per continent and mark Greenland as the coldest place on Earth)."
   ]
  },
  {
   "cell_type": "code",
   "execution_count": 5,
   "metadata": {
    "_cell_guid": "577c7ce7-9259-b7d3-72e0-205c19af60b8"
   },
   "outputs": [
    {
     "data": {
      "text/html": [
       "<div id=\"087fc231-3da2-4984-8fe7-9e188392aec3\" style=\"height: 525px; width: 100%;\" class=\"plotly-graph-div\"></div><script type=\"text/javascript\">require([\"plotly\"], function(Plotly) { window.PLOTLYENV=window.PLOTLYENV || {};window.PLOTLYENV.BASE_URL=\"https://plot.ly\";Plotly.newPlot(\"087fc231-3da2-4984-8fe7-9e188392aec3\", [{\"mode\": \"lines\", \"name\": \"Russia\", \"type\": \"scatter\", \"line\": {\"color\": \"rgb(0, 255, 255)\"}, \"x\": [\"1820\", \"1821\", \"1822\", \"1823\", \"1824\", \"1825\", \"1826\", \"1827\", \"1828\", \"1829\", \"1830\", \"1831\", \"1832\", \"1833\", \"1834\", \"1835\", \"1836\", \"1837\", \"1838\", \"1839\", \"1840\", \"1841\", \"1842\", \"1843\", \"1844\", \"1845\", \"1846\", \"1847\", \"1848\", \"1849\", \"1850\", \"1851\", \"1852\", \"1853\", \"1854\", \"1855\", \"1856\", \"1857\", \"1858\", \"1859\", \"1860\", \"1861\", \"1862\", \"1863\", \"1864\", \"1865\", \"1866\", \"1867\", \"1868\", \"1869\", \"1870\", \"1871\", \"1872\", \"1873\", \"1874\", \"1875\", \"1876\", \"1877\", \"1878\", \"1879\", \"1880\", \"1881\", \"1882\", \"1883\", \"1884\", \"1885\", \"1886\", \"1887\", \"1888\", \"1889\", \"1890\", \"1891\", \"1892\", \"1893\", \"1894\", \"1895\", \"1896\", \"1897\", \"1898\", \"1899\", \"1900\", \"1901\", \"1902\", \"1903\", \"1904\", \"1905\", \"1906\", \"1907\", \"1908\", \"1909\", \"1910\", \"1911\", \"1912\", \"1913\", \"1914\", \"1915\", \"1916\", \"1917\", \"1918\", \"1919\", \"1920\", \"1921\", \"1922\", \"1923\", \"1924\", \"1925\", \"1926\", \"1927\", \"1928\", \"1929\", \"1930\", \"1931\", \"1932\", \"1933\", \"1934\", \"1935\", \"1936\", \"1937\", \"1938\", \"1939\", \"1940\", \"1941\", \"1942\", \"1943\", \"1944\", \"1945\", \"1946\", \"1947\", \"1948\", \"1949\", \"1950\", \"1951\", \"1952\", \"1953\", \"1954\", \"1955\", \"1956\", \"1957\", \"1958\", \"1959\", \"1960\", \"1961\", \"1962\", \"1963\", \"1964\", \"1965\", \"1966\", \"1967\", \"1968\", \"1969\", \"1970\", \"1971\", \"1972\", \"1973\", \"1974\", \"1975\", \"1976\", \"1977\", \"1978\", \"1979\", \"1980\", \"1981\", \"1982\", \"1983\", \"1984\", \"1985\", \"1986\", \"1987\", \"1988\", \"1989\", \"1990\", \"1991\", \"1992\", \"1993\", \"1994\", \"1995\", \"1996\", \"1997\", \"1998\", \"1999\", \"2000\", \"2001\", \"2002\", \"2003\", \"2004\", \"2005\", \"2006\", \"2007\", \"2008\", \"2009\", \"2010\", \"2011\", \"2012\", \"2013\", \"2014\", \"2015\"], \"y\": [-6.4285, -5.717666666666667, -5.482333333333334, -6.203499999999999, -5.300083333333334, -5.4315, -5.317166666666666, -5.038250000000001, -6.109750000000001, -6.1812499999999995, -5.660416666666667, -6.67325, -6.681166666666667, -6.164500000000001, -5.7781666666666665, -6.785500000000002, -6.088916666666667, -6.761666666666668, -6.4182500000000005, -6.437583333333333, -6.4374166666666675, -6.433916666666666, -5.994416666666667, -5.097583333333334, -6.2200000000000015, -6.274750000000001, -5.433916666666668, -5.9303333333333335, -5.708333333333335, -5.560500000000001, -6.426500000000001, -5.669583333333333, -6.039666666666666, -6.276000000000001, -5.4902500000000005, -5.556916666666666, -6.088750000000001, -6.487166666666667, -5.592833333333332, -5.2285, -6.619, -6.295333333333335, -6.931416666666668, -5.299166666666667, -6.007583333333334, -5.917083333333333, -5.31975, -5.542999999999999, -5.7579166666666675, -5.331916666666667, -6.422833333333334, -6.263333333333333, -6.4214166666666666, -5.687916666666666, -4.888916666666667, -6.085416666666667, -6.0015833333333335, -5.602999999999999, -5.238083333333334, -5.84475, -5.737166666666664, -6.0352500000000004, -5.762250000000002, -5.847083333333334, -6.1816666666666675, -6.683916666666668, -6.129250000000002, -5.886916666666668, -6.412666666666669, -6.1031666666666675, -6.25675, -6.183666666666666, -6.362416666666667, -5.554833333333334, -5.366166666666668, -6.280666666666666, -5.686833333333335, -5.554916666666666, -5.950666666666667, -5.375749999999999, -5.8743333333333325, -5.460083333333333, -7.002750000000002, -5.352583333333333, -5.418499999999999, -5.687083333333334, -5.101749999999999, -6.041416666666667, -6.122583333333335, -5.865083333333332, -5.776583333333335, -5.830333333333333, -6.864416666666666, -5.726416666666668, -5.374166666666667, -6.3629999999999995, -6.190000000000002, -5.528416666666668, -5.747916666666666, -6.186000000000003, -5.155, -4.90425, -5.697833333333333, -5.521166666666667, -5.2754166666666675, -5.128916666666666, -5.3745, -5.6569166666666675, -5.77225, -6.400083333333335, -5.53075, -5.762750000000001, -4.758249999999999, -6.252166666666668, -4.643, -5.214333333333333, -5.030083333333333, -5.148916666666666, -4.552666666666666, -4.716833333333333, -5.628416666666666, -6.476666666666666, -5.604666666666667, -4.1145000000000005, -4.434, -5.3944166666666655, -5.855000000000001, -5.368083333333335, -4.337583333333333, -4.9277500000000005, -5.608916666666669, -5.055916666666667, -6.175250000000001, -4.779416666666666, -5.317333333333335, -5.626666666666665, -5.81375, -5.358250000000001, -6.154083333333333, -4.838916666666666, -5.936, -4.960333333333334, -4.416250000000001, -5.008166666666667, -5.785833333333333, -5.907416666666665, -6.309583333333333, -4.36325, -5.5895833333333345, -6.766083333333334, -5.5225833333333325, -4.971166666666668, -5.702000000000001, -4.833583333333334, -5.671749999999999, -4.1410833333333334, -5.927, -5.513000000000001, -5.255916666666668, -5.904333333333333, -5.420750000000001, -4.166166666666667, -5.097583333333334, -3.951833333333333, -5.294249999999999, -5.521166666666666, -4.8922500000000015, -6.274, -4.330416666666666, -4.073250000000001, -4.022916666666667, -4.236999999999999, -4.903250000000001, -4.62175, -4.898416666666667, -3.1301666666666663, -4.810333333333333, -4.2965, -5.281083333333334, -4.829750000000001, -4.545666666666667, -4.490666666666667, -4.122916666666667, -3.8328333333333338, -4.493583333333333, -3.4980833333333337, -4.762999999999999, -2.9750833333333353, -3.305416666666666, -4.608500000000002, -4.5205833333333345, -3.401583333333333, -3.90175, -2.2631250000000014, null, null]}, {\"mode\": \"lines\", \"name\": \"United States\", \"type\": \"scatter\", \"line\": {\"color\": \"rgb(255, 0, 255)\"}, \"x\": [\"1820\", \"1821\", \"1822\", \"1823\", \"1824\", \"1825\", \"1826\", \"1827\", \"1828\", \"1829\", \"1830\", \"1831\", \"1832\", \"1833\", \"1834\", \"1835\", \"1836\", \"1837\", \"1838\", \"1839\", \"1840\", \"1841\", \"1842\", \"1843\", \"1844\", \"1845\", \"1846\", \"1847\", \"1848\", \"1849\", \"1850\", \"1851\", \"1852\", \"1853\", \"1854\", \"1855\", \"1856\", \"1857\", \"1858\", \"1859\", \"1860\", \"1861\", \"1862\", \"1863\", \"1864\", \"1865\", \"1866\", \"1867\", \"1868\", \"1869\", \"1870\", \"1871\", \"1872\", \"1873\", \"1874\", \"1875\", \"1876\", \"1877\", \"1878\", \"1879\", \"1880\", \"1881\", \"1882\", \"1883\", \"1884\", \"1885\", \"1886\", \"1887\", \"1888\", \"1889\", \"1890\", \"1891\", \"1892\", \"1893\", \"1894\", \"1895\", \"1896\", \"1897\", \"1898\", \"1899\", \"1900\", \"1901\", \"1902\", \"1903\", \"1904\", \"1905\", \"1906\", \"1907\", \"1908\", \"1909\", \"1910\", \"1911\", \"1912\", \"1913\", \"1914\", \"1915\", \"1916\", \"1917\", \"1918\", \"1919\", \"1920\", \"1921\", \"1922\", \"1923\", \"1924\", \"1925\", \"1926\", \"1927\", \"1928\", \"1929\", \"1930\", \"1931\", \"1932\", \"1933\", \"1934\", \"1935\", \"1936\", \"1937\", \"1938\", \"1939\", \"1940\", \"1941\", \"1942\", \"1943\", \"1944\", \"1945\", \"1946\", \"1947\", \"1948\", \"1949\", \"1950\", \"1951\", \"1952\", \"1953\", \"1954\", \"1955\", \"1956\", \"1957\", \"1958\", \"1959\", \"1960\", \"1961\", \"1962\", \"1963\", \"1964\", \"1965\", \"1966\", \"1967\", \"1968\", \"1969\", \"1970\", \"1971\", \"1972\", \"1973\", \"1974\", \"1975\", \"1976\", \"1977\", \"1978\", \"1979\", \"1980\", \"1981\", \"1982\", \"1983\", \"1984\", \"1985\", \"1986\", \"1987\", \"1988\", \"1989\", \"1990\", \"1991\", \"1992\", \"1993\", \"1994\", \"1995\", \"1996\", \"1997\", \"1998\", \"1999\", \"2000\", \"2001\", \"2002\", \"2003\", \"2004\", \"2005\", \"2006\", \"2007\", \"2008\", \"2009\", \"2010\", \"2011\", \"2012\", \"2013\", \"2014\", \"2015\"], \"y\": [7.563833333333332, 8.004083333333334, 8.386833333333334, 7.9110000000000005, 8.50225, 8.966500000000002, 8.578999999999999, 9.102, 8.8485, 8.389249999999999, 9.215083333333334, 7.720750000000002, 8.247416666666668, 8.811916666666667, 8.829583333333334, 7.53925, 7.5639166666666675, 7.984416666666667, 7.548666666666666, 8.522166666666665, 8.251500000000002, 8.14925, 8.358333333333333, 7.783666666666668, 8.082833333333332, 8.408916666666666, 9.136333333333333, 7.907083333333333, 8.016833333333333, 8.129166666666666, 8.248333333333333, 8.6575, 8.183083333333334, 8.459916666666667, 8.821250000000001, 8.459416666666668, 7.94325, 8.140333333333333, 8.412833333333332, 8.016833333333334, 8.580916666666667, 8.6505, 8.213999999999999, 8.446250000000001, 8.381083333333335, 8.495666666666667, 8.334333333333333, 8.509000000000002, 8.207416666666667, 8.31125, 8.829500000000001, 8.706750000000001, 8.000749999999998, 8.063083333333331, 8.768, 7.849666666666668, 8.099, 8.696583333333335, 9.017166666666666, 8.683250000000001, 8.110333333333333, 8.643500000000001, 8.369916666666667, 7.942249999999999, 7.957999999999998, 8.158416666666666, 8.181833333333334, 8.143583333333332, 8.172833333333335, 8.798083333333333, 8.559166666666666, 8.31675, 8.177999999999999, 8.170999999999998, 8.46675, 7.847333333333334, 8.483583333333334, 8.473166666666666, 8.427916666666667, 8.166833333333331, 9.021583333333334, 8.494916666666667, 8.453999999999999, 7.977249999999999, 8.200666666666665, 8.402333333333335, 8.560083333333333, 8.394000000000002, 8.755583333333334, 8.221833333333334, 8.757916666666667, 8.737916666666665, 8.140916666666667, 8.552166666666666, 8.876499999999998, 8.648249999999999, 8.180083333333334, 7.669499999999999, 8.50125, 8.537999999999998, 8.184499999999998, 9.595666666666668, 8.768166666666668, 8.760333333333334, 8.052333333333332, 9.016416666666666, 9.14025, 8.719333333333333, 8.876, 8.4395, 8.737666666666666, 9.560750000000002, 8.5395, 9.030583333333334, 9.826583333333334, 8.742500000000001, 8.92225, 8.730749999999999, 9.471833333333334, 9.3075, 9.097166666666668, 9.266083333333333, 8.919333333333332, 9.0035, 8.898166666666667, 8.671249999999999, 9.179583333333332, 8.836083333333333, 8.481666666666667, 8.888083333333332, 8.656416666666667, 8.416583333333334, 8.979416666666667, 9.530416666666666, 9.410583333333333, 8.517166666666666, 8.699916666666665, 9.126333333333333, 8.97016666666667, 8.825333333333333, 8.69225, 8.642, 8.9565, 9.079999999999998, 8.491666666666667, 8.647666666666668, 8.483, 8.902000000000001, 8.553249999999998, 8.770833333333332, 8.673, 8.442499999999999, 8.428083333333335, 8.934666666666667, 8.815916666666666, 8.431, 8.65125, 9.269833333333334, 8.751416666666666, 8.571583333333331, 9.135499999999999, 9.7215, 8.539500000000002, 8.912333333333333, 8.811166666666667, 8.587000000000002, 9.559500000000002, 9.628166666666665, 9.275333333333334, 8.873083333333334, 9.521583333333334, 9.493666666666666, 9.056333333333333, 8.867250000000002, 9.270333333333335, 9.331000000000001, 8.754333333333333, 9.172916666666667, 10.141166666666667, 9.567, 9.649750000000001, 9.785583333333333, 9.816166666666666, 9.75508333333333, 9.667499999999999, 9.892666666666669, 9.9745, 9.837499999999999, 8.951416666666669, 9.137083333333335, 9.505583333333334, 9.549916666666665, 10.261083333333334, 11.297111111111112, null, null]}, {\"mode\": \"lines\", \"name\": \"Niger\", \"type\": \"scatter\", \"line\": {\"color\": \"rgb(0, 0, 0)\"}, \"x\": [\"1820\", \"1821\", \"1822\", \"1823\", \"1824\", \"1825\", \"1826\", \"1827\", \"1828\", \"1829\", \"1830\", \"1831\", \"1832\", \"1833\", \"1834\", \"1835\", \"1836\", \"1837\", \"1838\", \"1839\", \"1840\", \"1841\", \"1842\", \"1843\", \"1844\", \"1845\", \"1846\", \"1847\", \"1848\", \"1849\", \"1850\", \"1851\", \"1852\", \"1853\", \"1854\", \"1855\", \"1856\", \"1857\", \"1858\", \"1859\", \"1860\", \"1861\", \"1862\", \"1863\", \"1864\", \"1865\", \"1866\", \"1867\", \"1868\", \"1869\", \"1870\", \"1871\", \"1872\", \"1873\", \"1874\", \"1875\", \"1876\", \"1877\", \"1878\", \"1879\", \"1880\", \"1881\", \"1882\", \"1883\", \"1884\", \"1885\", \"1886\", \"1887\", \"1888\", \"1889\", \"1890\", \"1891\", \"1892\", \"1893\", \"1894\", \"1895\", \"1896\", \"1897\", \"1898\", \"1899\", \"1900\", \"1901\", \"1902\", \"1903\", \"1904\", \"1905\", \"1906\", \"1907\", \"1908\", \"1909\", \"1910\", \"1911\", \"1912\", \"1913\", \"1914\", \"1915\", \"1916\", \"1917\", \"1918\", \"1919\", \"1920\", \"1921\", \"1922\", \"1923\", \"1924\", \"1925\", \"1926\", \"1927\", \"1928\", \"1929\", \"1930\", \"1931\", \"1932\", \"1933\", \"1934\", \"1935\", \"1936\", \"1937\", \"1938\", \"1939\", \"1940\", \"1941\", \"1942\", \"1943\", \"1944\", \"1945\", \"1946\", \"1947\", \"1948\", \"1949\", \"1950\", \"1951\", \"1952\", \"1953\", \"1954\", \"1955\", \"1956\", \"1957\", \"1958\", \"1959\", \"1960\", \"1961\", \"1962\", \"1963\", \"1964\", \"1965\", \"1966\", \"1967\", \"1968\", \"1969\", \"1970\", \"1971\", \"1972\", \"1973\", \"1974\", \"1975\", \"1976\", \"1977\", \"1978\", \"1979\", \"1980\", \"1981\", \"1982\", \"1983\", \"1984\", \"1985\", \"1986\", \"1987\", \"1988\", \"1989\", \"1990\", \"1991\", \"1992\", \"1993\", \"1994\", \"1995\", \"1996\", \"1997\", \"1998\", \"1999\", \"2000\", \"2001\", \"2002\", \"2003\", \"2004\", \"2005\", \"2006\", \"2007\", \"2008\", \"2009\", \"2010\", \"2011\", \"2012\", \"2013\", \"2014\", \"2015\"], \"y\": [null, 27.680600000000005, null, null, null, null, null, null, null, null, null, null, null, null, null, null, null, null, null, null, null, null, null, null, null, null, null, null, null, null, null, null, null, null, null, null, 25.774400000000004, 27.20185714285714, 27.134874999999997, 27.726599999999998, 26.82618181818182, 26.27, 24.00425, null, null, null, null, null, null, null, null, null, null, 28.403333333333332, 26.514363636363637, 26.76825, 26.863749999999996, 27.236833333333333, 27.70566666666667, 26.972916666666674, 26.965249999999997, 27.534499999999998, 26.765833333333337, 26.963083333333334, 26.464666666666663, 26.58408333333333, 26.483333333333334, 26.58441666666667, 26.795833333333338, 26.795916666666667, 26.082666666666665, 26.507583333333333, 26.93375, 26.878249999999998, 26.87591666666667, 27.33983333333333, 26.8205, 27.262500000000003, 26.90625, 27.192666666666668, 27.216333333333335, 27.238333333333333, 27.148583333333338, 26.69966666666667, 26.483666666666668, 26.6575, 26.974999999999998, 26.477666666666668, 26.894083333333338, 27.1095, 26.744083333333332, 26.807916666666667, 26.8935, 27.53175, 28.08416666666666, 27.663916666666665, 27.047, 27.50975, 27.30858333333333, 27.623166666666673, 26.863583333333334, 27.24166666666667, 27.47475, 27.11766666666667, 27.74008333333333, 27.57208333333334, 27.833250000000003, 27.555666666666664, 27.783666666666665, 27.224833333333333, 27.983333333333338, 28.727416666666667, 27.915500000000005, 27.893, 27.40275, 27.514000000000006, 27.336916666666664, 27.4735, 27.531499999999998, 27.635250000000003, 27.84908333333333, 28.548333333333332, 28.267833333333332, 27.432000000000002, 27.410583333333335, 27.140500000000003, 27.464833333333335, 27.82341666666667, 27.066083333333335, 27.466750000000005, 26.735333333333333, 27.639083333333332, 27.337833333333336, 27.33808333333334, 27.360500000000002, 27.399083333333337, 27.309916666666666, 27.40991666666667, 27.749083333333335, 27.396250000000006, 27.611499999999996, 26.54133333333334, 27.513833333333334, 27.955083333333334, 27.4075, 27.16733333333333, 27.41125, 27.296166666666668, 27.50108333333333, 28.49875, 27.444083333333328, 27.46333333333334, 27.81691666666667, 27.85591666666667, 27.111916666666662, 27.195833333333336, 27.62216666666667, 27.093833333333333, 27.686416666666663, 27.88625, 27.805166666666665, 27.554333333333332, 27.588666666666665, 27.539333333333342, 27.926999999999996, 27.66033333333334, 27.920666666666666, 28.23108333333334, 27.786749999999998, 27.166083333333336, 28.048083333333334, 27.859166666666667, 27.18508333333334, 27.75333333333333, 27.40058333333333, 27.895416666666666, 28.128, 28.131, 28.327666666666673, 28.26875, 27.975833333333338, 28.118000000000006, 28.149666666666665, 28.30225, 28.371583333333337, 28.636416666666673, 28.291083333333333, 28.411916666666666, 27.901416666666666, 28.850416666666664, 29.29991666666667, 28.487416666666665, 28.07275, 29.231374999999996, null, null]}, {\"mode\": \"lines\", \"name\": \"Greenland\", \"type\": \"scatter\", \"line\": {\"color\": \"rgb(255, 0, 0)\"}, \"x\": [\"1820\", \"1821\", \"1822\", \"1823\", \"1824\", \"1825\", \"1826\", \"1827\", \"1828\", \"1829\", \"1830\", \"1831\", \"1832\", \"1833\", \"1834\", \"1835\", \"1836\", \"1837\", \"1838\", \"1839\", \"1840\", \"1841\", \"1842\", \"1843\", \"1844\", \"1845\", \"1846\", \"1847\", \"1848\", \"1849\", \"1850\", \"1851\", \"1852\", \"1853\", \"1854\", \"1855\", \"1856\", \"1857\", \"1858\", \"1859\", \"1860\", \"1861\", \"1862\", \"1863\", \"1864\", \"1865\", \"1866\", \"1867\", \"1868\", \"1869\", \"1870\", \"1871\", \"1872\", \"1873\", \"1874\", \"1875\", \"1876\", \"1877\", \"1878\", \"1879\", \"1880\", \"1881\", \"1882\", \"1883\", \"1884\", \"1885\", \"1886\", \"1887\", \"1888\", \"1889\", \"1890\", \"1891\", \"1892\", \"1893\", \"1894\", \"1895\", \"1896\", \"1897\", \"1898\", \"1899\", \"1900\", \"1901\", \"1902\", \"1903\", \"1904\", \"1905\", \"1906\", \"1907\", \"1908\", \"1909\", \"1910\", \"1911\", \"1912\", \"1913\", \"1914\", \"1915\", \"1916\", \"1917\", \"1918\", \"1919\", \"1920\", \"1921\", \"1922\", \"1923\", \"1924\", \"1925\", \"1926\", \"1927\", \"1928\", \"1929\", \"1930\", \"1931\", \"1932\", \"1933\", \"1934\", \"1935\", \"1936\", \"1937\", \"1938\", \"1939\", \"1940\", \"1941\", \"1942\", \"1943\", \"1944\", \"1945\", \"1946\", \"1947\", \"1948\", \"1949\", \"1950\", \"1951\", \"1952\", \"1953\", \"1954\", \"1955\", \"1956\", \"1957\", \"1958\", \"1959\", \"1960\", \"1961\", \"1962\", \"1963\", \"1964\", \"1965\", \"1966\", \"1967\", \"1968\", \"1969\", \"1970\", \"1971\", \"1972\", \"1973\", \"1974\", \"1975\", \"1976\", \"1977\", \"1978\", \"1979\", \"1980\", \"1981\", \"1982\", \"1983\", \"1984\", \"1985\", \"1986\", \"1987\", \"1988\", \"1989\", \"1990\", \"1991\", \"1992\", \"1993\", \"1994\", \"1995\", \"1996\", \"1997\", \"1998\", \"1999\", \"2000\", \"2001\", \"2002\", \"2003\", \"2004\", \"2005\", \"2006\", \"2007\", \"2008\", \"2009\", \"2010\", \"2011\", \"2012\", \"2013\", \"2014\", \"2015\"], \"y\": [null, null, null, -19.177666666666667, -18.692416666666666, -18.730999999999998, -18.649333333333335, -18.428333333333335, -18.222416666666664, -18.611500000000003, -18.41325, -19.174249999999997, -19.470083333333335, -19.016250000000003, -19.142916666666668, -19.837833333333332, -19.927999999999997, -19.479333333333333, -19.368166666666667, -19.46741666666666, -18.9235, -19.356833333333338, -18.638166666666667, -19.097583333333336, -19.203083333333336, -19.056166666666666, -18.35166666666667, -18.64875, -19.489833333333333, -19.093333333333334, -19.177666666666664, -18.679666666666662, -18.869333333333334, -18.992166666666662, -19.003333333333334, -19.121249999999996, -18.920166666666667, -19.173166666666663, -18.927333333333337, -19.427583333333335, -19.150666666666666, -18.807750000000002, -19.333916666666667, -19.42175, -18.67075, -19.343833333333333, -20.419583333333335, -18.77208333333333, -20.1555, -19.510083333333334, -18.822916666666668, -18.466916666666663, -17.74275, -18.957083333333333, -18.963333333333335, -18.58791666666667, -19.00883333333333, -18.992583333333332, -18.326249999999998, -18.609666666666666, -19.21558333333333, -18.873, -20.541333333333334, -18.703416666666666, -20.433916666666665, -19.21408333333334, -20.260833333333338, -20.834166666666665, -19.212833333333332, -19.396333333333335, -19.390083333333333, -19.971833333333333, -19.273500000000002, -18.889333333333337, -20.417833333333338, -18.513333333333332, -20.247833333333332, -19.5715, -20.407749999999997, -19.508750000000003, -18.292333333333332, -18.53441666666667, -18.915666666666663, -19.146916666666666, -19.419416666666667, -18.69975, -19.81808333333333, -19.638, -18.30225, -18.938416666666665, -20.071249999999996, -19.191416666666665, -18.11041666666667, -19.029083333333336, -20.32675, -18.94991666666667, -18.276166666666665, -19.079833333333337, -20.097916666666666, -19.035750000000004, -19.683749999999996, -19.664250000000003, -19.101833333333335, -17.978583333333336, -18.438, -18.298333333333332, -17.852666666666664, -17.892666666666667, -16.851166666666668, -16.698666666666664, -17.014250000000004, -17.748083333333334, -16.874333333333336, -16.684416666666667, -17.582666666666665, -17.465666666666667, -17.206833333333332, -17.464499999999997, -17.819750000000003, -16.734916666666667, -16.990750000000002, -17.107750000000003, -17.60075, -18.846333333333334, -18.619333333333334, -17.583000000000002, -17.309083333333337, -16.34583333333333, -18.91758333333333, -19.159833333333328, -18.12675, -18.963916666666673, -17.87475, -18.38475, -17.915916666666668, -18.3405, -18.463000000000005, -17.766333333333332, -17.955666666666666, -18.41566666666667, -17.464250000000003, -18.990333333333336, -17.427833333333336, -17.72575, -18.574416666666668, -17.530583333333333, -18.84241666666667, -18.5835, -18.818916666666667, -18.392083333333336, -18.738166666666668, -19.7105, -18.818, -19.27358333333333, -18.205666666666666, -19.524916666666666, -18.025333333333332, -18.150250000000003, -18.448083333333333, -18.584999999999997, -17.515416666666667, -18.341083333333334, -18.990666666666666, -20.44683333333333, -19.326, -17.56983333333333, -18.13166666666667, -18.71925, -17.8635, -19.368, -18.43791666666667, -18.371333333333336, -19.5845, -19.267166666666668, -18.641916666666663, -18.239500000000003, -17.300333333333334, -17.997833333333332, -17.139, -18.25425, -17.367916666666666, -17.596416666666666, -16.820416666666663, -16.256249999999998, -17.301166666666663, -16.15125, -17.114333333333335, -17.074166666666667, -17.389916666666668, -17.316416666666672, -15.546333333333335, -17.174333333333333, -16.77225, -15.40975, null, null]}, {\"mode\": \"lines\", \"name\": \"Australia\", \"type\": \"scatter\", \"line\": {\"color\": \"rgb(0, 255, 0)\"}, \"x\": [\"1820\", \"1821\", \"1822\", \"1823\", \"1824\", \"1825\", \"1826\", \"1827\", \"1828\", \"1829\", \"1830\", \"1831\", \"1832\", \"1833\", \"1834\", \"1835\", \"1836\", \"1837\", \"1838\", \"1839\", \"1840\", \"1841\", \"1842\", \"1843\", \"1844\", \"1845\", \"1846\", \"1847\", \"1848\", \"1849\", \"1850\", \"1851\", \"1852\", \"1853\", \"1854\", \"1855\", \"1856\", \"1857\", \"1858\", \"1859\", \"1860\", \"1861\", \"1862\", \"1863\", \"1864\", \"1865\", \"1866\", \"1867\", \"1868\", \"1869\", \"1870\", \"1871\", \"1872\", \"1873\", \"1874\", \"1875\", \"1876\", \"1877\", \"1878\", \"1879\", \"1880\", \"1881\", \"1882\", \"1883\", \"1884\", \"1885\", \"1886\", \"1887\", \"1888\", \"1889\", \"1890\", \"1891\", \"1892\", \"1893\", \"1894\", \"1895\", \"1896\", \"1897\", \"1898\", \"1899\", \"1900\", \"1901\", \"1902\", \"1903\", \"1904\", \"1905\", \"1906\", \"1907\", \"1908\", \"1909\", \"1910\", \"1911\", \"1912\", \"1913\", \"1914\", \"1915\", \"1916\", \"1917\", \"1918\", \"1919\", \"1920\", \"1921\", \"1922\", \"1923\", \"1924\", \"1925\", \"1926\", \"1927\", \"1928\", \"1929\", \"1930\", \"1931\", \"1932\", \"1933\", \"1934\", \"1935\", \"1936\", \"1937\", \"1938\", \"1939\", \"1940\", \"1941\", \"1942\", \"1943\", \"1944\", \"1945\", \"1946\", \"1947\", \"1948\", \"1949\", \"1950\", \"1951\", \"1952\", \"1953\", \"1954\", \"1955\", \"1956\", \"1957\", \"1958\", \"1959\", \"1960\", \"1961\", \"1962\", \"1963\", \"1964\", \"1965\", \"1966\", \"1967\", \"1968\", \"1969\", \"1970\", \"1971\", \"1972\", \"1973\", \"1974\", \"1975\", \"1976\", \"1977\", \"1978\", \"1979\", \"1980\", \"1981\", \"1982\", \"1983\", \"1984\", \"1985\", \"1986\", \"1987\", \"1988\", \"1989\", \"1990\", \"1991\", \"1992\", \"1993\", \"1994\", \"1995\", \"1996\", \"1997\", \"1998\", \"1999\", \"2000\", \"2001\", \"2002\", \"2003\", \"2004\", \"2005\", \"2006\", \"2007\", \"2008\", \"2009\", \"2010\", \"2011\", \"2012\", \"2013\", \"2014\", \"2015\"], \"y\": [null, null, null, null, null, null, null, null, null, null, null, null, null, null, null, null, null, null, null, null, null, null, null, null, null, null, null, null, null, null, null, null, 20.1885, 20.958250000000003, 20.28477777777778, 20.798636363636366, 21.148333333333333, 20.966416666666667, 21.329833333333333, 21.188916666666664, 21.245500000000003, 21.1975, 21.155416666666667, 21.309, 21.04425, 21.217833333333335, 21.417, 21.643833333333333, 21.447583333333338, 21.52158333333333, 21.42833333333333, 21.459666666666664, 21.206916666666668, 21.15758333333333, 21.126166666666666, 21.054416666666665, 21.087333333333337, 21.641083333333338, 22.380666666666666, 21.184666666666665, 21.66125, 21.7925, 21.64741666666667, 21.520666666666667, 21.549833333333336, 21.421916666666664, 21.45016666666667, 21.154999999999998, 21.954916666666666, 22.17408333333334, 21.479916666666668, 20.833999999999996, 21.541749999999997, 21.646416666666667, 20.917416666666668, 21.23308333333333, 21.3965, 21.817499999999995, 21.570916666666665, 21.18691666666667, 21.766583333333333, 21.582583333333332, 21.597916666666666, 21.17675, 20.97083333333333, 21.177500000000002, 21.885, 21.294500000000003, 20.8645, 21.05275, 21.569083333333335, 21.347916666666666, 21.82616666666667, 21.187833333333337, 22.186333333333334, 22.144833333333334, 21.504416666666668, 20.771500000000003, 21.369333333333334, 21.82858333333333, 21.324416666666664, 21.680083333333332, 21.449749999999998, 21.536833333333334, 21.212583333333335, 21.09783333333333, 21.702583333333337, 21.397833333333335, 22.01908333333333, 21.101249999999997, 21.640833333333333, 21.239083333333337, 21.459666666666667, 21.386499999999998, 21.507083333333338, 21.39741666666666, 21.716333333333335, 21.52733333333333, 22.088749999999994, 21.34, 21.681583333333332, 21.36283333333333, 21.926416666666668, 21.31716666666667, 21.530166666666663, 21.604083333333335, 21.241249999999997, 21.59025, 21.459500000000002, 20.984916666666667, 21.322916666666668, 21.557000000000002, 21.487, 21.47458333333333, 21.558666666666667, 21.563083333333335, 21.005999999999997, 21.90266666666666, 21.997249999999998, 22.098166666666668, 21.210500000000003, 21.964249999999996, 21.802916666666665, 21.697833333333335, 21.650750000000002, 22.092083333333335, 21.361000000000004, 21.625416666666666, 21.462166666666672, 21.847583333333333, 21.775750000000002, 21.65433333333333, 22.012083333333333, 22.41275, 21.238083333333332, 21.692666666666668, 21.193416666666668, 21.892500000000002, 21.605166666666666, 22.252333333333336, 22.586166666666667, 22.164083333333334, 21.910500000000003, 22.261083333333332, 21.516916666666663, 22.043416666666662, 22.09325, 22.07241666666667, 22.63008333333333, 21.862833333333338, 22.35575, 22.48741666666667, 21.932583333333337, 22.160166666666665, 22.03025, 21.955166666666667, 22.325333333333333, 22.086000000000002, 22.664833333333334, 22.0645, 21.709666666666667, 21.79275, 22.46083333333333, 22.44033333333333, 22.286916666666666, 22.896833333333333, 22.264416666666666, 22.48675, 22.225916666666667, 22.690583333333333, 22.078166666666664, 21.767, 22.0245, 22.142874999999997, null, null]}, {\"mode\": \"lines\", \"name\": \"Bolivia\", \"type\": \"scatter\", \"line\": {\"color\": \"rgb(0, 0, 255)\"}, \"x\": [\"1820\", \"1821\", \"1822\", \"1823\", \"1824\", \"1825\", \"1826\", \"1827\", \"1828\", \"1829\", \"1830\", \"1831\", \"1832\", \"1833\", \"1834\", \"1835\", \"1836\", \"1837\", \"1838\", \"1839\", \"1840\", \"1841\", \"1842\", \"1843\", \"1844\", \"1845\", \"1846\", \"1847\", \"1848\", \"1849\", \"1850\", \"1851\", \"1852\", \"1853\", \"1854\", \"1855\", \"1856\", \"1857\", \"1858\", \"1859\", \"1860\", \"1861\", \"1862\", \"1863\", \"1864\", \"1865\", \"1866\", \"1867\", \"1868\", \"1869\", \"1870\", \"1871\", \"1872\", \"1873\", \"1874\", \"1875\", \"1876\", \"1877\", \"1878\", \"1879\", \"1880\", \"1881\", \"1882\", \"1883\", \"1884\", \"1885\", \"1886\", \"1887\", \"1888\", \"1889\", \"1890\", \"1891\", \"1892\", \"1893\", \"1894\", \"1895\", \"1896\", \"1897\", \"1898\", \"1899\", \"1900\", \"1901\", \"1902\", \"1903\", \"1904\", \"1905\", \"1906\", \"1907\", \"1908\", \"1909\", \"1910\", \"1911\", \"1912\", \"1913\", \"1914\", \"1915\", \"1916\", \"1917\", \"1918\", \"1919\", \"1920\", \"1921\", \"1922\", \"1923\", \"1924\", \"1925\", \"1926\", \"1927\", \"1928\", \"1929\", \"1930\", \"1931\", \"1932\", \"1933\", \"1934\", \"1935\", \"1936\", \"1937\", \"1938\", \"1939\", \"1940\", \"1941\", \"1942\", \"1943\", \"1944\", \"1945\", \"1946\", \"1947\", \"1948\", \"1949\", \"1950\", \"1951\", \"1952\", \"1953\", \"1954\", \"1955\", \"1956\", \"1957\", \"1958\", \"1959\", \"1960\", \"1961\", \"1962\", \"1963\", \"1964\", \"1965\", \"1966\", \"1967\", \"1968\", \"1969\", \"1970\", \"1971\", \"1972\", \"1973\", \"1974\", \"1975\", \"1976\", \"1977\", \"1978\", \"1979\", \"1980\", \"1981\", \"1982\", \"1983\", \"1984\", \"1985\", \"1986\", \"1987\", \"1988\", \"1989\", \"1990\", \"1991\", \"1992\", \"1993\", \"1994\", \"1995\", \"1996\", \"1997\", \"1998\", \"1999\", \"2000\", \"2001\", \"2002\", \"2003\", \"2004\", \"2005\", \"2006\", \"2007\", \"2008\", \"2009\", \"2010\", \"2011\", \"2012\", \"2013\", \"2014\", \"2015\"], \"y\": [null, null, null, null, null, null, null, null, null, null, null, null, null, null, null, null, null, null, null, null, null, null, null, null, null, null, null, null, null, null, null, null, null, null, null, 19.533375, 19.93341666666667, 19.865666666666662, 20.098750000000003, 20.793166666666668, 20.578999999999997, 20.204166666666666, 20.14075, 20.37925, 20.195166666666665, 20.42625, 20.494416666666666, 20.548166666666663, 20.588416666666667, 20.617916666666666, 20.427083333333332, 20.410999999999998, 20.388166666666667, 21.078666666666667, 20.232083333333332, 19.889416666666666, 20.57675, 21.16591666666667, 20.833583333333333, 20.268416666666663, 20.361250000000002, 20.581416666666666, 20.26666666666667, 20.29966666666667, 20.198666666666668, 20.224416666666666, 20.09566666666667, 20.56233333333333, 20.630666666666674, 20.4285, 20.148666666666667, 20.324166666666667, 20.158666666666665, 20.069750000000003, 20.37466666666667, 20.73858333333333, 21.046416666666666, 20.737333333333336, 20.319416666666672, 20.629166666666666, 21.113249999999997, 20.994083333333336, 20.910833333333333, 20.409499999999998, 20.6255, 21.041083333333336, 20.789333333333335, 20.435750000000002, 20.28225, 20.43358333333333, 20.4385, 20.394416666666668, 20.863083333333332, 20.99925, 21.224833333333333, 21.62991666666667, 20.60266666666667, 19.86091666666667, 20.461166666666667, 21.035666666666668, 20.52416666666667, 20.48416666666667, 20.489583333333336, 20.459833333333336, 20.717583333333334, 20.91975, 21.384666666666664, 20.84175, 21.048666666666666, 20.82341666666667, 21.130249999999997, 20.795666666666666, 20.821250000000003, 20.804750000000002, 20.716416666666667, 20.995499999999996, 21.363500000000002, 21.328833333333332, 20.97158333333333, 21.009416666666663, 21.378749999999997, 21.35941666666667, 20.79366666666667, 20.677250000000004, 21.115083333333335, 21.144166666666667, 21.22225, 20.745083333333334, 20.994833333333336, 20.77791666666667, 20.845166666666668, 20.93133333333333, 20.8065, 21.2775, 20.912416666666665, 20.765416666666667, 20.275833333333335, 20.851333333333333, 21.033583333333336, 21.109083333333334, 20.594500000000004, 21.368000000000006, 20.797333333333334, 21.510916666666663, 20.837083333333336, 21.23275, 21.206333333333333, 21.45808333333333, 21.131583333333335, 21.754166666666666, 21.51625, 20.73966666666667, 21.3355, 21.314083333333333, 20.789416666666668, 21.04225, 20.828916666666668, 21.246666666666666, 21.284750000000003, 21.03916666666667, 21.034083333333335, 20.978, 21.300083333333333, 21.571666666666662, 21.291833333333333, 21.483166666666666, 21.482583333333334, 21.87291666666667, 21.46683333333333, 21.156916666666667, 21.326083333333333, 21.75408333333333, 21.205916666666667, 21.52491666666667, 21.984750000000002, 21.730583333333332, 21.05366666666667, 21.611333333333334, 21.467333333333332, 21.03175, 21.077166666666667, 21.234083333333334, 21.60575, 21.26275, 21.571, 21.371750000000002, 21.470000000000002, 21.12933333333333, 21.189000000000004, 21.37833333333333, 21.446416666666664, 21.55541666666667, 21.60716666666667, 20.640874999999998, null, null]}], {\"xaxis\": {\"title\": \"year\"}, \"yaxis\": {\"title\": \"Average Temperature, \\u00b0C\"}, \"title\": \"Average land temperature on the continents\"}, {\"showLink\": true, \"linkText\": \"Export to plot.ly\"})});</script>"
      ],
      "text/plain": [
       "<IPython.core.display.HTML object>"
      ]
     },
     "metadata": {},
     "output_type": "display_data"
    }
   ],
   "source": [
    "continent = ['Russia', 'United States', 'Niger', 'Greenland', 'Australia', 'Bolivia']\n",
    "mean_temp_year_country = [ [0] * len(years[70:]) for i in range(len(continent))]\n",
    "j = 0\n",
    "for country in continent:\n",
    "    all_temp_country = global_temp_country_clear[global_temp_country_clear['Country'] == country]\n",
    "    i = 0\n",
    "    for year in years[70:]:\n",
    "        mean_temp_year_country[j][i] = all_temp_country[all_temp_country['dt'].apply(\n",
    "                lambda x: x[:4]) == year]['AverageTemperature'].mean()\n",
    "        i +=1\n",
    "    j += 1\n",
    "\n",
    "traces = []\n",
    "colors = ['rgb(0, 255, 255)', 'rgb(255, 0, 255)', 'rgb(0, 0, 0)',\n",
    "          'rgb(255, 0, 0)', 'rgb(0, 255, 0)', 'rgb(0, 0, 255)']\n",
    "for i in range(len(continent)):\n",
    "    traces.append(go.Scatter(\n",
    "        x=years[70:],\n",
    "        y=mean_temp_year_country[i],\n",
    "        mode='lines',\n",
    "        name=continent[i],\n",
    "        line=dict(color=colors[i]),\n",
    "    ))\n",
    "\n",
    "layout = go.Layout(\n",
    "    xaxis=dict(title='year'),\n",
    "    yaxis=dict(title='Average Temperature, °C'),\n",
    "    title='Average land temperature on the continents',)\n",
    "\n",
    "fig = go.Figure(data=traces, layout=layout)\n",
    "py.iplot(fig)"
   ]
  },
  {
   "cell_type": "markdown",
   "metadata": {
    "_cell_guid": "d27593d9-4857-408a-d4ad-efa91010a920"
   },
   "source": [
    "We can see that since the 1980 there has been a continuous increase in mean annual temperature for the countries, which we take into consideration (particularly strong dynamics can be seen in the cold countries). The interruption of the temperature values on the chart is due to the lack of observations in these years."
   ]
  },
  {
   "cell_type": "markdown",
   "metadata": {
    "_cell_guid": "fc0ffa1e-f362-205e-3030-125d60aa7dc0"
   },
   "source": [
    "##4) Dynamic map"
   ]
  },
  {
   "cell_type": "markdown",
   "metadata": {
    "_cell_guid": "255f9db5-225d-1f48-2091-3b88873272cf"
   },
   "source": [
    "I've done a visualization in Jupyter, using \"plotly\". When I tried to upload my research on the Kaggle there was a problem: the \"Stream()\" function doesn't work with \"pyplot.offline\". Therefore, to show a dynamically changing is not an easy task.\n",
    "\n",
    "Let's create a map that shows changes in average temperature of countries with 10 years period."
   ]
  },
  {
   "cell_type": "code",
   "execution_count": 6,
   "metadata": {
    "_cell_guid": "7a4dddab-04fb-6699-8a21-a1050ab7cf7d"
   },
   "outputs": [],
   "source": [
    "#Extract the year from a date\n",
    "years = np.unique(global_temp_country_clear['dt'].apply(lambda x: x[:4]))\n",
    "\n",
    "#Let's create an array and add the values of average temperatures in the countries every 10 years\n",
    "mean_temp_year_country = [ [0] * len(countries) for i in range(len(years[::10]))]\n",
    "\n",
    "j = 0\n",
    "for country in countries:\n",
    "    all_temp_country = global_temp_country_clear[global_temp_country_clear['Country'] == country]\n",
    "    i = 0\n",
    "    for year in years[::10]:\n",
    "        mean_temp_year_country[i][j] = all_temp_country[all_temp_country['dt'].apply(\n",
    "                lambda x: x[:4]) == year]['AverageTemperature'].mean()\n",
    "        i +=1\n",
    "    j += 1"
   ]
  },
  {
   "cell_type": "code",
   "execution_count": 7,
   "metadata": {
    "_cell_guid": "ab039647-172a-8f09-4135-d801f83a1cef"
   },
   "outputs": [
    {
     "data": {
      "text/html": [
       "<div id=\"e692080b-ec1f-4a15-8c09-d5a07dc5c71f\" style=\"height: 525px; width: 100%;\" class=\"plotly-graph-div\"></div><script type=\"text/javascript\">require([\"plotly\"], function(Plotly) { window.PLOTLYENV=window.PLOTLYENV || {};window.PLOTLYENV.BASE_URL=\"https://plot.ly\";Plotly.newPlot(\"e692080b-ec1f-4a15-8c09-d5a07dc5c71f\", [{\"text\": [\"Afghanistan\", \"Albania\", \"Algeria\", \"American Samoa\", \"Andorra\", \"Angola\", \"Anguilla\", \"Antigua And Barbuda\", \"Argentina\", \"Armenia\", \"Aruba\", \"Asia\", \"Australia\", \"Austria\", \"Azerbaijan\", \"Bahamas\", \"Bahrain\", \"Baker Island\", \"Bangladesh\", \"Barbados\", \"Belarus\", \"Belgium\", \"Belize\", \"Benin\", \"Bhutan\", \"Bolivia\", \"Bonaire, Saint Eustatius And Saba\", \"Bosnia And Herzegovina\", \"Botswana\", \"Brazil\", \"British Virgin Islands\", \"Bulgaria\", \"Burkina Faso\", \"Burma\", \"Burundi\", \"Cambodia\", \"Cameroon\", \"Canada\", \"Cape Verde\", \"Cayman Islands\", \"Central African Republic\", \"Chad\", \"Chile\", \"China\", \"Christmas Island\", \"Colombia\", \"Comoros\", \"Congo\", \"Congo (Democratic Republic Of The)\", \"Costa Rica\", \"Croatia\", \"Cuba\", \"Cura\\u00e7ao\", \"Cyprus\", \"Czech Republic\", \"C\\u00f4te D'Ivoire\", \"Denmark\", \"Djibouti\", \"Dominica\", \"Dominican Republic\", \"Ecuador\", \"Egypt\", \"El Salvador\", \"Equatorial Guinea\", \"Eritrea\", \"Estonia\", \"Ethiopia\", \"Falkland Islands (Islas Malvinas)\", \"Faroe Islands\", \"Federated States Of Micronesia\", \"Fiji\", \"Finland\", \"France\", \"French Guiana\", \"French Polynesia\", \"French Southern And Antarctic Lands\", \"Gabon\", \"Gambia\", \"Gaza Strip\", \"Georgia\", \"Germany\", \"Ghana\", \"Greece\", \"Greenland\", \"Grenada\", \"Guadeloupe\", \"Guam\", \"Guatemala\", \"Guernsey\", \"Guinea\", \"Guinea Bissau\", \"Guyana\", \"Haiti\", \"Heard Island And Mcdonald Islands\", \"Honduras\", \"Hong Kong\", \"Hungary\", \"Iceland\", \"India\", \"Indonesia\", \"Iran\", \"Iraq\", \"Ireland\", \"Isle Of Man\", \"Israel\", \"Italy\", \"Jamaica\", \"Japan\", \"Jersey\", \"Jordan\", \"Kazakhstan\", \"Kenya\", \"Kingman Reef\", \"Kiribati\", \"Kuwait\", \"Kyrgyzstan\", \"Laos\", \"Latvia\", \"Lebanon\", \"Lesotho\", \"Liberia\", \"Libya\", \"Liechtenstein\", \"Lithuania\", \"Luxembourg\", \"Macau\", \"Macedonia\", \"Madagascar\", \"Malawi\", \"Malaysia\", \"Mali\", \"Malta\", \"Martinique\", \"Mauritania\", \"Mauritius\", \"Mayotte\", \"Mexico\", \"Moldova\", \"Monaco\", \"Mongolia\", \"Montenegro\", \"Montserrat\", \"Morocco\", \"Mozambique\", \"Namibia\", \"Nepal\", \"Netherlands\", \"New Caledonia\", \"New Zealand\", \"Nicaragua\", \"Niger\", \"Nigeria\", \"Niue\", \"North America\", \"North Korea\", \"Northern Mariana Islands\", \"Norway\", \"Oceania\", \"Oman\", \"Pakistan\", \"Palau\", \"Palestina\", \"Palmyra Atoll\", \"Panama\", \"Papua New Guinea\", \"Paraguay\", \"Peru\", \"Philippines\", \"Poland\", \"Portugal\", \"Puerto Rico\", \"Qatar\", \"Reunion\", \"Romania\", \"Russia\", \"Rwanda\", \"Saint Barth\\u00e9lemy\", \"Saint Kitts And Nevis\", \"Saint Lucia\", \"Saint Martin\", \"Saint Pierre And Miquelon\", \"Saint Vincent And The Grenadines\", \"Samoa\", \"San Marino\", \"Sao Tome And Principe\", \"Saudi Arabia\", \"Senegal\", \"Serbia\", \"Seychelles\", \"Sierra Leone\", \"Singapore\", \"Sint Maarten\", \"Slovakia\", \"Slovenia\", \"Solomon Islands\", \"Somalia\", \"South Africa\", \"South Georgia And The South Sandwich Isla\", \"South Korea\", \"Spain\", \"Sri Lanka\", \"Sudan\", \"Suriname\", \"Svalbard And Jan Mayen\", \"Swaziland\", \"Sweden\", \"Switzerland\", \"Syria\", \"Taiwan\", \"Tajikistan\", \"Tanzania\", \"Thailand\", \"Timor Leste\", \"Togo\", \"Tonga\", \"Trinidad And Tobago\", \"Tunisia\", \"Turkey\", \"Turkmenistan\", \"Turks And Caicas Islands\", \"Uganda\", \"Ukraine\", \"United Arab Emirates\", \"United Kingdom\", \"United States\", \"Uruguay\", \"Uzbekistan\", \"Venezuela\", \"Vietnam\", \"Virgin Islands\", \"Western Sahara\", \"Yemen\", \"Zambia\", \"Zimbabwe\", \"\\u00c5land\"], \"locations\": [\"Afghanistan\", \"Albania\", \"Algeria\", \"American Samoa\", \"Andorra\", \"Angola\", \"Anguilla\", \"Antigua And Barbuda\", \"Argentina\", \"Armenia\", \"Aruba\", \"Asia\", \"Australia\", \"Austria\", \"Azerbaijan\", \"Bahamas\", \"Bahrain\", \"Baker Island\", \"Bangladesh\", \"Barbados\", \"Belarus\", \"Belgium\", \"Belize\", \"Benin\", \"Bhutan\", \"Bolivia\", \"Bonaire, Saint Eustatius And Saba\", \"Bosnia And Herzegovina\", \"Botswana\", \"Brazil\", \"British Virgin Islands\", \"Bulgaria\", \"Burkina Faso\", \"Burma\", \"Burundi\", \"Cambodia\", \"Cameroon\", \"Canada\", \"Cape Verde\", \"Cayman Islands\", \"Central African Republic\", \"Chad\", \"Chile\", \"China\", \"Christmas Island\", \"Colombia\", \"Comoros\", \"Congo\", \"Congo (Democratic Republic Of The)\", \"Costa Rica\", \"Croatia\", \"Cuba\", \"Cura\\u00e7ao\", \"Cyprus\", \"Czech Republic\", \"C\\u00f4te D'Ivoire\", \"Denmark\", \"Djibouti\", \"Dominica\", \"Dominican Republic\", \"Ecuador\", \"Egypt\", \"El Salvador\", \"Equatorial Guinea\", \"Eritrea\", \"Estonia\", \"Ethiopia\", \"Falkland Islands (Islas Malvinas)\", \"Faroe Islands\", \"Federated States Of Micronesia\", \"Fiji\", \"Finland\", \"France\", \"French Guiana\", \"French Polynesia\", \"French Southern And Antarctic Lands\", \"Gabon\", \"Gambia\", \"Gaza Strip\", \"Georgia\", \"Germany\", \"Ghana\", \"Greece\", \"Greenland\", \"Grenada\", \"Guadeloupe\", \"Guam\", \"Guatemala\", \"Guernsey\", \"Guinea\", \"Guinea Bissau\", \"Guyana\", \"Haiti\", \"Heard Island And Mcdonald Islands\", \"Honduras\", \"Hong Kong\", \"Hungary\", \"Iceland\", \"India\", \"Indonesia\", \"Iran\", \"Iraq\", \"Ireland\", \"Isle Of Man\", \"Israel\", \"Italy\", \"Jamaica\", \"Japan\", \"Jersey\", \"Jordan\", \"Kazakhstan\", \"Kenya\", \"Kingman Reef\", \"Kiribati\", \"Kuwait\", \"Kyrgyzstan\", \"Laos\", \"Latvia\", \"Lebanon\", \"Lesotho\", \"Liberia\", \"Libya\", \"Liechtenstein\", \"Lithuania\", \"Luxembourg\", \"Macau\", \"Macedonia\", \"Madagascar\", \"Malawi\", \"Malaysia\", \"Mali\", \"Malta\", \"Martinique\", \"Mauritania\", \"Mauritius\", \"Mayotte\", \"Mexico\", \"Moldova\", \"Monaco\", \"Mongolia\", \"Montenegro\", \"Montserrat\", \"Morocco\", \"Mozambique\", \"Namibia\", \"Nepal\", \"Netherlands\", \"New Caledonia\", \"New Zealand\", \"Nicaragua\", \"Niger\", \"Nigeria\", \"Niue\", \"North America\", \"North Korea\", \"Northern Mariana Islands\", \"Norway\", \"Oceania\", \"Oman\", \"Pakistan\", \"Palau\", \"Palestina\", \"Palmyra Atoll\", \"Panama\", \"Papua New Guinea\", \"Paraguay\", \"Peru\", \"Philippines\", \"Poland\", \"Portugal\", \"Puerto Rico\", \"Qatar\", \"Reunion\", \"Romania\", \"Russia\", \"Rwanda\", \"Saint Barth\\u00e9lemy\", \"Saint Kitts And Nevis\", \"Saint Lucia\", \"Saint Martin\", \"Saint Pierre And Miquelon\", \"Saint Vincent And The Grenadines\", \"Samoa\", \"San Marino\", \"Sao Tome And Principe\", \"Saudi Arabia\", \"Senegal\", \"Serbia\", \"Seychelles\", \"Sierra Leone\", \"Singapore\", \"Sint Maarten\", \"Slovakia\", \"Slovenia\", \"Solomon Islands\", \"Somalia\", \"South Africa\", \"South Georgia And The South Sandwich Isla\", \"South Korea\", \"Spain\", \"Sri Lanka\", \"Sudan\", \"Suriname\", \"Svalbard And Jan Mayen\", \"Swaziland\", \"Sweden\", \"Switzerland\", \"Syria\", \"Taiwan\", \"Tajikistan\", \"Tanzania\", \"Thailand\", \"Timor Leste\", \"Togo\", \"Tonga\", \"Trinidad And Tobago\", \"Tunisia\", \"Turkey\", \"Turkmenistan\", \"Turks And Caicas Islands\", \"Uganda\", \"Ukraine\", \"United Arab Emirates\", \"United Kingdom\", \"United States\", \"Uruguay\", \"Uzbekistan\", \"Venezuela\", \"Vietnam\", \"Virgin Islands\", \"Western Sahara\", \"Yemen\", \"Zambia\", \"Zimbabwe\", \"\\u00c5land\"], \"type\": \"choropleth\", \"z\": [14.045007194244608, 12.61064592545798, 22.985111769059955, 26.611965009208156, 11.201553063802905, 21.82454918981486, 26.610491850431465, 26.437924256951035, 14.621194210526305, 8.551647926634773, 27.92039022051774, 7.347892223161453, 21.624696891191693, 6.210731838281731, 11.175936074918587, 25.12822004008018, 25.93080933465739, 25.372350232798794, 24.82024278370897, 26.45854793863855, 5.819288060644335, 9.48337839545166, 25.052099776286326, 27.171999431818186, 11.811878969957082, 20.8772305263158, 27.173294822627003, 10.421283954516774, 21.879296691568843, 24.699255545286466, 26.336523239099186, 10.482968414403024, 28.083506760410998, 23.70619723953693, 20.070990127758442, 26.65685403576609, 24.352585590778116, -5.216658945686897, 24.185563568376022, 26.722504150283953, 25.28040691642648, 27.12046628242079, 9.383473684210513, 6.612731031349375, 25.784654071314534, 24.716870967741926, 25.70220930232557, 24.4629319884726, 23.77366493955099, 25.615784434203807, 11.342399873657591, 25.407426387068544, 27.353414669223397, 18.78774568642161, 7.626019267214149, 25.948536060279846, 7.832859444093484, 28.816602533172542, 26.1101514860978, 25.547511210762387, 21.869970347003168, 22.620693031209964, 24.906704545454577, 24.921677809798265, 26.80265311004786, 4.819805748578657, 23.012356759976136, 6.076773492667047, 6.619001579279848, 26.94435777126096, 25.038671779141108, 1.2447422615287405, 10.416045799115615, 25.718151106833467, 26.10709611829945, 4.983111111111109, 24.254725648414972, 27.538551816239316, 19.19263696098565, 8.106881895881907, 8.152496209728362, 26.71101355166567, 14.773012002526816, -18.58745804195801, 26.741952061361474, 26.32956088207096, 26.996834337349433, 23.111650494159935, 10.928408717624766, 25.452353098290622, 26.761366648850885, 25.93092011549566, 26.295837740923353, 2.562114942528734, 24.6955479945922, 22.659894913627642, 9.722423246999355, 1.4050650663297544, 23.87378947368426, 25.684483767961684, 17.60707645115617, 21.77562887931037, 9.419558433354414, 9.365805432722688, 19.626577302631585, 12.737121920404292, 26.0963395638629, 11.95190733590733, 10.928408717624766, 19.346512587701167, 5.202144758735441, 24.102428231089974, 27.133034438775535, 26.73686534779841, 25.09814023210831, 3.2204981651376148, 23.574696349064986, 5.320545167403669, 17.631617730784885, 13.726681793913507, 25.377737931034517, 22.26825393848455, 4.642939039797854, 5.907991787744772, 9.16519646241313, 22.4183747600768, 10.375550852811111, 22.749045944412938, 21.431086144578323, 25.80544200779728, 28.441976570819996, 18.494875319693055, 26.1101514860978, 27.620255504352293, 23.522653983353138, 26.34096142938175, 20.56755804195808, 8.931716677195217, 9.024701831964629, -0.8206709844559608, 10.21462950094757, 26.383128475551263, 17.62749740932639, 23.596194758785003, 20.48449519743865, 14.807390612244879, 9.11279911560327, 22.700108194965168, 10.371239107883817, 25.957508780036967, 27.458972540045757, 26.74470830912261, 25.094878453038664, 2.028373892022562, 6.748336832061071, 26.996834337349433, 0.09580385344283023, 21.45298911917101, 26.91686266589726, 20.615513304305733, 27.216379332477516, 23.125663223140542, 27.163455994897927, 26.29162063808573, 24.450801898734266, 23.23796755725191, 19.935974230044003, 26.440472486772517, 7.460205938092234, 14.688179987212278, 25.451961667465255, 26.78499601593621, 23.301403091557614, 8.760901768793424, -5.521881912681911, 19.24442218350756, 26.610491850431465, 25.852186001917556, 26.646838446788106, 26.610491850431465, 4.223059955113818, 26.789448705656774, 26.331862492326593, 13.83142229943148, 25.79438616714698, 25.54640783525872, 27.96737499999997, 9.986563171193945, 26.738423142370962, 26.022571277159468, 26.523102826510677, 26.610491850431465, 7.52721699305117, 9.659700568540737, 26.62503698979594, 26.877085169743943, 17.270982915109443, 1.4010251017639086, 11.849048745173734, 13.6128341756159, 26.9476870015949, 27.093359428571475, 26.171663137632375, -7.448027925531907, 18.839807261078484, 2.386331964624136, 6.992051484523055, 17.917548596990663, 21.937427536231866, 4.016035217794258, 22.347910971786856, 25.986800979519113, 25.96633271832718, 26.871782756664746, 23.23624785276075, 26.118751198466015, 19.97059047314578, 11.63156730091614, 14.781998181818167, 26.662733508082173, 23.0329687137891, 7.653507264687312, 27.693994700582884, 8.655788060644333, 8.603572522159553, 17.149306774809137, 12.27801593806923, 25.025685522531145, 23.688365504061206, 26.336523239099186, 22.319817823343875, 26.25359672528806, 21.282955621301788, 21.11754724637679, 5.291383449147199], \"locationmode\": \"country names\", \"colorbar\": {\"autotick\": true, \"tickprefix\": \"\", \"title\": \"# Average\\nTemperature,\\n\\u00b0C\"}, \"marker\": {\"line\": {\"color\": \"rgb(0,0,0)\", \"width\": 1}}}], {\"geo\": {\"oceancolor\": \"rgb(0,255,255)\", \"showframe\": false, \"showocean\": true, \"type\": \"equirectangular\"}, \"title\": \"Average land temperature in countries\"}, {\"showLink\": true, \"linkText\": \"Export to plot.ly\"})});</script>"
      ],
      "text/plain": [
       "<IPython.core.display.HTML object>"
      ]
     },
     "metadata": {},
     "output_type": "display_data"
    }
   ],
   "source": [
    "#Let's create a Streaming in Plotly (here, alas, does not work, so commented out)\n",
    "#stream_tokens = tls.get_credentials_file()['stream_ids']\n",
    "#token =  stream_tokens[-1]\n",
    "#stream_id = dict(token=token, maxpoints=60)\n",
    "\n",
    "data = [ dict(\n",
    "        type = 'choropleth',\n",
    "        locations = countries,\n",
    "        z = mean_temp,\n",
    "        locationmode = 'country names',\n",
    "        text = countries,\n",
    "        marker = dict(\n",
    "            line = dict(color = 'rgb(0,0,0)', width = 1)),\n",
    "            colorbar = dict(autotick = True, tickprefix = '',\n",
    "            title = '# Average\\nTemperature,\\n°C'),\n",
    "        #The following line is also needed to create Stream\n",
    "        #stream = stream_id\n",
    "            )\n",
    "       ]\n",
    "\n",
    "layout = dict(\n",
    "    title = 'Average land temperature in countries',\n",
    "    geo = dict(\n",
    "        showframe = False,\n",
    "        showocean = True,\n",
    "        oceancolor = 'rgb(0,255,255)',\n",
    "        type = 'equirectangular'\n",
    "    ),\n",
    ")\n",
    "\n",
    "fig = dict(data=data, layout=layout)\n",
    "py.iplot(fig, validate=False, filename='world_temp_map')"
   ]
  },
  {
   "cell_type": "markdown",
   "metadata": {
    "_cell_guid": "6ef1b1f1-6a1a-0725-79fe-9208ef59a07d"
   },
   "source": [
    "It’s a pity, but here you can only see a static map. On the dynamic map we would be seen that the European countries  started to measure temperature much more earlier than another countries. Perhaps this is due to more rapid economic development of the European countries in the 18th century. Russia and the United States began to measure the temperature only a half-century later."
   ]
  },
  {
   "cell_type": "code",
   "execution_count": 8,
   "metadata": {
    "_cell_guid": "7957ecf4-8104-0136-c745-76ca75a905db"
   },
   "outputs": [
    {
     "data": {
      "text/plain": [
       "\"s = py.Stream(stream_id=token)\\ni = 0\\ns.open()\\nwhile True:\\n    ye = years[::10]\\n    s.write(dict(z = mean_temp_year_country[i]), dict(\\n            title = 'Average land temperature in countries.   Year: {0}'.format(ye[i])), validate=False)\\n    time.sleep(1)\\n    i += 1\\n    if i == len(ye):\\n        i = 0\\ns.close()\""
      ]
     },
     "execution_count": 8,
     "metadata": {},
     "output_type": "execute_result"
    }
   ],
   "source": [
    "#Let's run a Stream\n",
    "\n",
    "\"\"\"s = py.Stream(stream_id=token)\n",
    "i = 0\n",
    "s.open()\n",
    "while True:\n",
    "    ye = years[::10]\n",
    "    s.write(dict(z = mean_temp_year_country[i]), dict(\n",
    "            title = 'Average land temperature in countries.   Year: {0}'.format(ye[i])), validate=False)\n",
    "    time.sleep(1)\n",
    "    i += 1\n",
    "    if i == len(ye):\n",
    "        i = 0\n",
    "s.close()\"\"\""
   ]
  },
  {
   "cell_type": "markdown",
   "metadata": {
    "_cell_guid": "fa151ba1-d99a-54ef-9cfe-093e494fbf04"
   },
   "source": [
    "##The results"
   ]
  },
  {
   "cell_type": "markdown",
   "metadata": {
    "_cell_guid": "9ca06620-4b43-ecff-fc58-7335f7c22d99"
   },
   "source": [
    "During my research it was found that there has been a global increase trend in temperature, particularly over the last 30 years. This is due to the violent activities of a humankind. In more developed countries the temperature began to register much earlier. Over time the accuracy of the observations is increased, that is quite natural. Mankind must reflect and take all necessary remedies to reduce emissions of greenhouse gases in the atmosphere. This work was entirely done using python and \"plotly\". I had received practical skills and knowledge in python and in awesome library for data visualisation."
   ]
  }
 ],
 "metadata": {
  "_change_revision": 131,
  "_is_fork": false,
  "kernelspec": {
   "display_name": "Python 3 (ipykernel)",
   "language": "python",
   "name": "python3"
  },
  "language_info": {
   "codemirror_mode": {
    "name": "ipython",
    "version": 3
   },
   "file_extension": ".py",
   "mimetype": "text/x-python",
   "name": "python",
   "nbconvert_exporter": "python",
   "pygments_lexer": "ipython3",
   "version": "3.8.13"
  }
 },
 "nbformat": 4,
 "nbformat_minor": 1
}
