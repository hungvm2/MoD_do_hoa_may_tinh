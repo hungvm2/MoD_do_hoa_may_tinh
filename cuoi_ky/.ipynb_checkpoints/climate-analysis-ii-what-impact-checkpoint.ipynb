{
 "cells": [
  {
   "cell_type": "markdown",
   "id": "sunrise-origin",
   "metadata": {
    "papermill": {
     "duration": 0.033536,
     "end_time": "2021-05-29T17:43:03.903355",
     "exception": false,
     "start_time": "2021-05-29T17:43:03.869819",
     "status": "completed"
    },
    "tags": []
   },
   "source": [
    "As you've seen in the [previous notebook](https://www.kaggle.com/jedbell/climate-analysis-i-how-much-time), we're hurtling towards a day of reckoning where the global average temperature increases by 1.5 degrees. But when that day of reckoning comes, how much will it cost? And how much will we regret not taking action sooner? What will the costs of not taking action now be in one or two decades time? This notebook seeks to answer these questions. "
   ]
  },
  {
   "cell_type": "code",
   "execution_count": 1,
   "id": "ideal-border",
   "metadata": {
    "_cell_guid": "b1076dfc-b9ad-4769-8c92-a6c4dae69d19",
    "_uuid": "8f2839f25d086af736a60e9eeb907d3b93b6e0e5",
    "execution": {
     "iopub.execute_input": "2021-05-29T17:43:03.973739Z",
     "iopub.status.busy": "2021-05-29T17:43:03.972607Z",
     "iopub.status.idle": "2021-05-29T17:43:06.296675Z",
     "shell.execute_reply": "2021-05-29T17:43:06.295952Z"
    },
    "papermill": {
     "duration": 2.359569,
     "end_time": "2021-05-29T17:43:06.296841",
     "exception": false,
     "start_time": "2021-05-29T17:43:03.937272",
     "status": "completed"
    },
    "tags": []
   },
   "outputs": [],
   "source": [
    "# This Python 3 environment comes with many helpful analytics libraries installed\n",
    "# It is defined by the kaggle/python Docker image: https://github.com/kaggle/docker-python\n",
    "# For example, here's several helpful packages to load\n",
    "\n",
    "import numpy as np # linear algebra\n",
    "import pandas as pd # data processing, CSV file I/O (e.g. pd.read_csv)\n",
    "%matplotlib inline\n",
    "import matplotlib.pyplot as plt\n",
    "import seaborn as sns\n",
    "import plotly.express as px\n",
    "from statsmodels.tsa.stattools import acf, pacf, adfuller\n",
    "from statsmodels.tsa.statespace.sarimax import SARIMAX\n",
    "from statsmodels.graphics.tsaplots import plot_acf, plot_pacf\n",
    "from statsmodels.tsa.seasonal import seasonal_decompose\n",
    "\n",
    "# Input data files are available in the read-only \"../input/\" directory\n",
    "# For example, running this (by clicking run or pressing Shift+Enter) will list all files under the input directory\n",
    "\n",
    "import os\n",
    "for dirname, _, filenames in os.walk('/kaggle/input'):\n",
    "    for filename in filenames:\n",
    "        print(os.path.join(dirname, filename))\n",
    "\n",
    "# You can write up to 20GB to the current directory (/kaggle/working/) that gets preserved as output when you create a version using \"Save & Run All\" \n",
    "# You can also write temporary files to /kaggle/temp/, but they won't be saved outside of the current session"
   ]
  },
  {
   "cell_type": "markdown",
   "id": "going-construction",
   "metadata": {
    "papermill": {
     "duration": 0.032756,
     "end_time": "2021-05-29T17:43:06.363418",
     "exception": false,
     "start_time": "2021-05-29T17:43:06.330662",
     "status": "completed"
    },
    "tags": []
   },
   "source": [
    "# Sea Level Forecast"
   ]
  },
  {
   "cell_type": "markdown",
   "id": "plastic-examination",
   "metadata": {
    "papermill": {
     "duration": 0.032383,
     "end_time": "2021-05-29T17:43:06.428715",
     "exception": false,
     "start_time": "2021-05-29T17:43:06.396332",
     "status": "completed"
    },
    "tags": []
   },
   "source": [
    "One well known impact of climate change is rising sea levels due to melting glaciers and expaning water volume (due to warmer water). But how much is is expected to increase in the next 20 years? Let's take a look and do some forecasting."
   ]
  },
  {
   "cell_type": "code",
   "execution_count": 2,
   "id": "finnish-alabama",
   "metadata": {
    "execution": {
     "iopub.execute_input": "2021-05-29T17:43:06.505809Z",
     "iopub.status.busy": "2021-05-29T17:43:06.504607Z",
     "iopub.status.idle": "2021-05-29T17:43:06.618110Z",
     "shell.execute_reply": "2021-05-29T17:43:06.618697Z"
    },
    "papermill": {
     "duration": 0.157247,
     "end_time": "2021-05-29T17:43:06.618901",
     "exception": false,
     "start_time": "2021-05-29T17:43:06.461654",
     "status": "completed"
    },
    "tags": []
   },
   "outputs": [
    {
     "ename": "FileNotFoundError",
     "evalue": "[Errno 2] No such file or directory: '/kaggle/input/predicted-global-temps-through-2040/PredTemps2040.csv'",
     "output_type": "error",
     "traceback": [
      "\u001b[0;31m---------------------------------------------------------------------------\u001b[0m",
      "\u001b[0;31mFileNotFoundError\u001b[0m                         Traceback (most recent call last)",
      "Cell \u001b[0;32mIn [2], line 1\u001b[0m\n\u001b[0;32m----> 1\u001b[0m pred_temps \u001b[38;5;241m=\u001b[39m \u001b[43mpd\u001b[49m\u001b[38;5;241;43m.\u001b[39;49m\u001b[43mread_csv\u001b[49m\u001b[43m(\u001b[49m\u001b[38;5;124;43m'\u001b[39;49m\u001b[38;5;124;43m/kaggle/input/predicted-global-temps-through-2040/PredTemps2040.csv\u001b[39;49m\u001b[38;5;124;43m'\u001b[39;49m\u001b[43m,\u001b[49m\u001b[43m \u001b[49m\u001b[43mindex_col\u001b[49m\u001b[38;5;241;43m=\u001b[39;49m\u001b[38;5;241;43m0\u001b[39;49m\u001b[43m)\u001b[49m\n\u001b[1;32m      2\u001b[0m temps \u001b[38;5;241m=\u001b[39m pd\u001b[38;5;241m.\u001b[39mread_csv(\u001b[38;5;124m'\u001b[39m\u001b[38;5;124m/kaggle/input/climate-change-earth-surface-temperature-data/GlobalTemperatures.csv\u001b[39m\u001b[38;5;124m'\u001b[39m, index_col\u001b[38;5;241m=\u001b[39m\u001b[38;5;241m0\u001b[39m)\n\u001b[1;32m      4\u001b[0m pred_temps\u001b[38;5;241m.\u001b[39mindex \u001b[38;5;241m=\u001b[39m pd\u001b[38;5;241m.\u001b[39mto_datetime(pred_temps\u001b[38;5;241m.\u001b[39mindex)\n",
      "File \u001b[0;32m/mnt/data2/miniconda3/envs/openmmlab/lib/python3.8/site-packages/pandas/util/_decorators.py:211\u001b[0m, in \u001b[0;36mdeprecate_kwarg.<locals>._deprecate_kwarg.<locals>.wrapper\u001b[0;34m(*args, **kwargs)\u001b[0m\n\u001b[1;32m    209\u001b[0m     \u001b[38;5;28;01melse\u001b[39;00m:\n\u001b[1;32m    210\u001b[0m         kwargs[new_arg_name] \u001b[38;5;241m=\u001b[39m new_arg_value\n\u001b[0;32m--> 211\u001b[0m \u001b[38;5;28;01mreturn\u001b[39;00m \u001b[43mfunc\u001b[49m\u001b[43m(\u001b[49m\u001b[38;5;241;43m*\u001b[39;49m\u001b[43margs\u001b[49m\u001b[43m,\u001b[49m\u001b[43m \u001b[49m\u001b[38;5;241;43m*\u001b[39;49m\u001b[38;5;241;43m*\u001b[39;49m\u001b[43mkwargs\u001b[49m\u001b[43m)\u001b[49m\n",
      "File \u001b[0;32m/mnt/data2/miniconda3/envs/openmmlab/lib/python3.8/site-packages/pandas/util/_decorators.py:331\u001b[0m, in \u001b[0;36mdeprecate_nonkeyword_arguments.<locals>.decorate.<locals>.wrapper\u001b[0;34m(*args, **kwargs)\u001b[0m\n\u001b[1;32m    325\u001b[0m \u001b[38;5;28;01mif\u001b[39;00m \u001b[38;5;28mlen\u001b[39m(args) \u001b[38;5;241m>\u001b[39m num_allow_args:\n\u001b[1;32m    326\u001b[0m     warnings\u001b[38;5;241m.\u001b[39mwarn(\n\u001b[1;32m    327\u001b[0m         msg\u001b[38;5;241m.\u001b[39mformat(arguments\u001b[38;5;241m=\u001b[39m_format_argument_list(allow_args)),\n\u001b[1;32m    328\u001b[0m         \u001b[38;5;167;01mFutureWarning\u001b[39;00m,\n\u001b[1;32m    329\u001b[0m         stacklevel\u001b[38;5;241m=\u001b[39mfind_stack_level(),\n\u001b[1;32m    330\u001b[0m     )\n\u001b[0;32m--> 331\u001b[0m \u001b[38;5;28;01mreturn\u001b[39;00m \u001b[43mfunc\u001b[49m\u001b[43m(\u001b[49m\u001b[38;5;241;43m*\u001b[39;49m\u001b[43margs\u001b[49m\u001b[43m,\u001b[49m\u001b[43m \u001b[49m\u001b[38;5;241;43m*\u001b[39;49m\u001b[38;5;241;43m*\u001b[39;49m\u001b[43mkwargs\u001b[49m\u001b[43m)\u001b[49m\n",
      "File \u001b[0;32m/mnt/data2/miniconda3/envs/openmmlab/lib/python3.8/site-packages/pandas/io/parsers/readers.py:950\u001b[0m, in \u001b[0;36mread_csv\u001b[0;34m(filepath_or_buffer, sep, delimiter, header, names, index_col, usecols, squeeze, prefix, mangle_dupe_cols, dtype, engine, converters, true_values, false_values, skipinitialspace, skiprows, skipfooter, nrows, na_values, keep_default_na, na_filter, verbose, skip_blank_lines, parse_dates, infer_datetime_format, keep_date_col, date_parser, dayfirst, cache_dates, iterator, chunksize, compression, thousands, decimal, lineterminator, quotechar, quoting, doublequote, escapechar, comment, encoding, encoding_errors, dialect, error_bad_lines, warn_bad_lines, on_bad_lines, delim_whitespace, low_memory, memory_map, float_precision, storage_options)\u001b[0m\n\u001b[1;32m    935\u001b[0m kwds_defaults \u001b[38;5;241m=\u001b[39m _refine_defaults_read(\n\u001b[1;32m    936\u001b[0m     dialect,\n\u001b[1;32m    937\u001b[0m     delimiter,\n\u001b[0;32m   (...)\u001b[0m\n\u001b[1;32m    946\u001b[0m     defaults\u001b[38;5;241m=\u001b[39m{\u001b[38;5;124m\"\u001b[39m\u001b[38;5;124mdelimiter\u001b[39m\u001b[38;5;124m\"\u001b[39m: \u001b[38;5;124m\"\u001b[39m\u001b[38;5;124m,\u001b[39m\u001b[38;5;124m\"\u001b[39m},\n\u001b[1;32m    947\u001b[0m )\n\u001b[1;32m    948\u001b[0m kwds\u001b[38;5;241m.\u001b[39mupdate(kwds_defaults)\n\u001b[0;32m--> 950\u001b[0m \u001b[38;5;28;01mreturn\u001b[39;00m \u001b[43m_read\u001b[49m\u001b[43m(\u001b[49m\u001b[43mfilepath_or_buffer\u001b[49m\u001b[43m,\u001b[49m\u001b[43m \u001b[49m\u001b[43mkwds\u001b[49m\u001b[43m)\u001b[49m\n",
      "File \u001b[0;32m/mnt/data2/miniconda3/envs/openmmlab/lib/python3.8/site-packages/pandas/io/parsers/readers.py:605\u001b[0m, in \u001b[0;36m_read\u001b[0;34m(filepath_or_buffer, kwds)\u001b[0m\n\u001b[1;32m    602\u001b[0m _validate_names(kwds\u001b[38;5;241m.\u001b[39mget(\u001b[38;5;124m\"\u001b[39m\u001b[38;5;124mnames\u001b[39m\u001b[38;5;124m\"\u001b[39m, \u001b[38;5;28;01mNone\u001b[39;00m))\n\u001b[1;32m    604\u001b[0m \u001b[38;5;66;03m# Create the parser.\u001b[39;00m\n\u001b[0;32m--> 605\u001b[0m parser \u001b[38;5;241m=\u001b[39m \u001b[43mTextFileReader\u001b[49m\u001b[43m(\u001b[49m\u001b[43mfilepath_or_buffer\u001b[49m\u001b[43m,\u001b[49m\u001b[43m \u001b[49m\u001b[38;5;241;43m*\u001b[39;49m\u001b[38;5;241;43m*\u001b[39;49m\u001b[43mkwds\u001b[49m\u001b[43m)\u001b[49m\n\u001b[1;32m    607\u001b[0m \u001b[38;5;28;01mif\u001b[39;00m chunksize \u001b[38;5;129;01mor\u001b[39;00m iterator:\n\u001b[1;32m    608\u001b[0m     \u001b[38;5;28;01mreturn\u001b[39;00m parser\n",
      "File \u001b[0;32m/mnt/data2/miniconda3/envs/openmmlab/lib/python3.8/site-packages/pandas/io/parsers/readers.py:1442\u001b[0m, in \u001b[0;36mTextFileReader.__init__\u001b[0;34m(self, f, engine, **kwds)\u001b[0m\n\u001b[1;32m   1439\u001b[0m     \u001b[38;5;28mself\u001b[39m\u001b[38;5;241m.\u001b[39moptions[\u001b[38;5;124m\"\u001b[39m\u001b[38;5;124mhas_index_names\u001b[39m\u001b[38;5;124m\"\u001b[39m] \u001b[38;5;241m=\u001b[39m kwds[\u001b[38;5;124m\"\u001b[39m\u001b[38;5;124mhas_index_names\u001b[39m\u001b[38;5;124m\"\u001b[39m]\n\u001b[1;32m   1441\u001b[0m \u001b[38;5;28mself\u001b[39m\u001b[38;5;241m.\u001b[39mhandles: IOHandles \u001b[38;5;241m|\u001b[39m \u001b[38;5;28;01mNone\u001b[39;00m \u001b[38;5;241m=\u001b[39m \u001b[38;5;28;01mNone\u001b[39;00m\n\u001b[0;32m-> 1442\u001b[0m \u001b[38;5;28mself\u001b[39m\u001b[38;5;241m.\u001b[39m_engine \u001b[38;5;241m=\u001b[39m \u001b[38;5;28;43mself\u001b[39;49m\u001b[38;5;241;43m.\u001b[39;49m\u001b[43m_make_engine\u001b[49m\u001b[43m(\u001b[49m\u001b[43mf\u001b[49m\u001b[43m,\u001b[49m\u001b[43m \u001b[49m\u001b[38;5;28;43mself\u001b[39;49m\u001b[38;5;241;43m.\u001b[39;49m\u001b[43mengine\u001b[49m\u001b[43m)\u001b[49m\n",
      "File \u001b[0;32m/mnt/data2/miniconda3/envs/openmmlab/lib/python3.8/site-packages/pandas/io/parsers/readers.py:1735\u001b[0m, in \u001b[0;36mTextFileReader._make_engine\u001b[0;34m(self, f, engine)\u001b[0m\n\u001b[1;32m   1733\u001b[0m     \u001b[38;5;28;01mif\u001b[39;00m \u001b[38;5;124m\"\u001b[39m\u001b[38;5;124mb\u001b[39m\u001b[38;5;124m\"\u001b[39m \u001b[38;5;129;01mnot\u001b[39;00m \u001b[38;5;129;01min\u001b[39;00m mode:\n\u001b[1;32m   1734\u001b[0m         mode \u001b[38;5;241m+\u001b[39m\u001b[38;5;241m=\u001b[39m \u001b[38;5;124m\"\u001b[39m\u001b[38;5;124mb\u001b[39m\u001b[38;5;124m\"\u001b[39m\n\u001b[0;32m-> 1735\u001b[0m \u001b[38;5;28mself\u001b[39m\u001b[38;5;241m.\u001b[39mhandles \u001b[38;5;241m=\u001b[39m \u001b[43mget_handle\u001b[49m\u001b[43m(\u001b[49m\n\u001b[1;32m   1736\u001b[0m \u001b[43m    \u001b[49m\u001b[43mf\u001b[49m\u001b[43m,\u001b[49m\n\u001b[1;32m   1737\u001b[0m \u001b[43m    \u001b[49m\u001b[43mmode\u001b[49m\u001b[43m,\u001b[49m\n\u001b[1;32m   1738\u001b[0m \u001b[43m    \u001b[49m\u001b[43mencoding\u001b[49m\u001b[38;5;241;43m=\u001b[39;49m\u001b[38;5;28;43mself\u001b[39;49m\u001b[38;5;241;43m.\u001b[39;49m\u001b[43moptions\u001b[49m\u001b[38;5;241;43m.\u001b[39;49m\u001b[43mget\u001b[49m\u001b[43m(\u001b[49m\u001b[38;5;124;43m\"\u001b[39;49m\u001b[38;5;124;43mencoding\u001b[39;49m\u001b[38;5;124;43m\"\u001b[39;49m\u001b[43m,\u001b[49m\u001b[43m \u001b[49m\u001b[38;5;28;43;01mNone\u001b[39;49;00m\u001b[43m)\u001b[49m\u001b[43m,\u001b[49m\n\u001b[1;32m   1739\u001b[0m \u001b[43m    \u001b[49m\u001b[43mcompression\u001b[49m\u001b[38;5;241;43m=\u001b[39;49m\u001b[38;5;28;43mself\u001b[39;49m\u001b[38;5;241;43m.\u001b[39;49m\u001b[43moptions\u001b[49m\u001b[38;5;241;43m.\u001b[39;49m\u001b[43mget\u001b[49m\u001b[43m(\u001b[49m\u001b[38;5;124;43m\"\u001b[39;49m\u001b[38;5;124;43mcompression\u001b[39;49m\u001b[38;5;124;43m\"\u001b[39;49m\u001b[43m,\u001b[49m\u001b[43m \u001b[49m\u001b[38;5;28;43;01mNone\u001b[39;49;00m\u001b[43m)\u001b[49m\u001b[43m,\u001b[49m\n\u001b[1;32m   1740\u001b[0m \u001b[43m    \u001b[49m\u001b[43mmemory_map\u001b[49m\u001b[38;5;241;43m=\u001b[39;49m\u001b[38;5;28;43mself\u001b[39;49m\u001b[38;5;241;43m.\u001b[39;49m\u001b[43moptions\u001b[49m\u001b[38;5;241;43m.\u001b[39;49m\u001b[43mget\u001b[49m\u001b[43m(\u001b[49m\u001b[38;5;124;43m\"\u001b[39;49m\u001b[38;5;124;43mmemory_map\u001b[39;49m\u001b[38;5;124;43m\"\u001b[39;49m\u001b[43m,\u001b[49m\u001b[43m \u001b[49m\u001b[38;5;28;43;01mFalse\u001b[39;49;00m\u001b[43m)\u001b[49m\u001b[43m,\u001b[49m\n\u001b[1;32m   1741\u001b[0m \u001b[43m    \u001b[49m\u001b[43mis_text\u001b[49m\u001b[38;5;241;43m=\u001b[39;49m\u001b[43mis_text\u001b[49m\u001b[43m,\u001b[49m\n\u001b[1;32m   1742\u001b[0m \u001b[43m    \u001b[49m\u001b[43merrors\u001b[49m\u001b[38;5;241;43m=\u001b[39;49m\u001b[38;5;28;43mself\u001b[39;49m\u001b[38;5;241;43m.\u001b[39;49m\u001b[43moptions\u001b[49m\u001b[38;5;241;43m.\u001b[39;49m\u001b[43mget\u001b[49m\u001b[43m(\u001b[49m\u001b[38;5;124;43m\"\u001b[39;49m\u001b[38;5;124;43mencoding_errors\u001b[39;49m\u001b[38;5;124;43m\"\u001b[39;49m\u001b[43m,\u001b[49m\u001b[43m \u001b[49m\u001b[38;5;124;43m\"\u001b[39;49m\u001b[38;5;124;43mstrict\u001b[39;49m\u001b[38;5;124;43m\"\u001b[39;49m\u001b[43m)\u001b[49m\u001b[43m,\u001b[49m\n\u001b[1;32m   1743\u001b[0m \u001b[43m    \u001b[49m\u001b[43mstorage_options\u001b[49m\u001b[38;5;241;43m=\u001b[39;49m\u001b[38;5;28;43mself\u001b[39;49m\u001b[38;5;241;43m.\u001b[39;49m\u001b[43moptions\u001b[49m\u001b[38;5;241;43m.\u001b[39;49m\u001b[43mget\u001b[49m\u001b[43m(\u001b[49m\u001b[38;5;124;43m\"\u001b[39;49m\u001b[38;5;124;43mstorage_options\u001b[39;49m\u001b[38;5;124;43m\"\u001b[39;49m\u001b[43m,\u001b[49m\u001b[43m \u001b[49m\u001b[38;5;28;43;01mNone\u001b[39;49;00m\u001b[43m)\u001b[49m\u001b[43m,\u001b[49m\n\u001b[1;32m   1744\u001b[0m \u001b[43m\u001b[49m\u001b[43m)\u001b[49m\n\u001b[1;32m   1745\u001b[0m \u001b[38;5;28;01massert\u001b[39;00m \u001b[38;5;28mself\u001b[39m\u001b[38;5;241m.\u001b[39mhandles \u001b[38;5;129;01mis\u001b[39;00m \u001b[38;5;129;01mnot\u001b[39;00m \u001b[38;5;28;01mNone\u001b[39;00m\n\u001b[1;32m   1746\u001b[0m f \u001b[38;5;241m=\u001b[39m \u001b[38;5;28mself\u001b[39m\u001b[38;5;241m.\u001b[39mhandles\u001b[38;5;241m.\u001b[39mhandle\n",
      "File \u001b[0;32m/mnt/data2/miniconda3/envs/openmmlab/lib/python3.8/site-packages/pandas/io/common.py:856\u001b[0m, in \u001b[0;36mget_handle\u001b[0;34m(path_or_buf, mode, encoding, compression, memory_map, is_text, errors, storage_options)\u001b[0m\n\u001b[1;32m    851\u001b[0m \u001b[38;5;28;01melif\u001b[39;00m \u001b[38;5;28misinstance\u001b[39m(handle, \u001b[38;5;28mstr\u001b[39m):\n\u001b[1;32m    852\u001b[0m     \u001b[38;5;66;03m# Check whether the filename is to be opened in binary mode.\u001b[39;00m\n\u001b[1;32m    853\u001b[0m     \u001b[38;5;66;03m# Binary mode does not support 'encoding' and 'newline'.\u001b[39;00m\n\u001b[1;32m    854\u001b[0m     \u001b[38;5;28;01mif\u001b[39;00m ioargs\u001b[38;5;241m.\u001b[39mencoding \u001b[38;5;129;01mand\u001b[39;00m \u001b[38;5;124m\"\u001b[39m\u001b[38;5;124mb\u001b[39m\u001b[38;5;124m\"\u001b[39m \u001b[38;5;129;01mnot\u001b[39;00m \u001b[38;5;129;01min\u001b[39;00m ioargs\u001b[38;5;241m.\u001b[39mmode:\n\u001b[1;32m    855\u001b[0m         \u001b[38;5;66;03m# Encoding\u001b[39;00m\n\u001b[0;32m--> 856\u001b[0m         handle \u001b[38;5;241m=\u001b[39m \u001b[38;5;28;43mopen\u001b[39;49m\u001b[43m(\u001b[49m\n\u001b[1;32m    857\u001b[0m \u001b[43m            \u001b[49m\u001b[43mhandle\u001b[49m\u001b[43m,\u001b[49m\n\u001b[1;32m    858\u001b[0m \u001b[43m            \u001b[49m\u001b[43mioargs\u001b[49m\u001b[38;5;241;43m.\u001b[39;49m\u001b[43mmode\u001b[49m\u001b[43m,\u001b[49m\n\u001b[1;32m    859\u001b[0m \u001b[43m            \u001b[49m\u001b[43mencoding\u001b[49m\u001b[38;5;241;43m=\u001b[39;49m\u001b[43mioargs\u001b[49m\u001b[38;5;241;43m.\u001b[39;49m\u001b[43mencoding\u001b[49m\u001b[43m,\u001b[49m\n\u001b[1;32m    860\u001b[0m \u001b[43m            \u001b[49m\u001b[43merrors\u001b[49m\u001b[38;5;241;43m=\u001b[39;49m\u001b[43merrors\u001b[49m\u001b[43m,\u001b[49m\n\u001b[1;32m    861\u001b[0m \u001b[43m            \u001b[49m\u001b[43mnewline\u001b[49m\u001b[38;5;241;43m=\u001b[39;49m\u001b[38;5;124;43m\"\u001b[39;49m\u001b[38;5;124;43m\"\u001b[39;49m\u001b[43m,\u001b[49m\n\u001b[1;32m    862\u001b[0m \u001b[43m        \u001b[49m\u001b[43m)\u001b[49m\n\u001b[1;32m    863\u001b[0m     \u001b[38;5;28;01melse\u001b[39;00m:\n\u001b[1;32m    864\u001b[0m         \u001b[38;5;66;03m# Binary mode\u001b[39;00m\n\u001b[1;32m    865\u001b[0m         handle \u001b[38;5;241m=\u001b[39m \u001b[38;5;28mopen\u001b[39m(handle, ioargs\u001b[38;5;241m.\u001b[39mmode)\n",
      "\u001b[0;31mFileNotFoundError\u001b[0m: [Errno 2] No such file or directory: '/kaggle/input/predicted-global-temps-through-2040/PredTemps2040.csv'"
     ]
    }
   ],
   "source": [
    "pred_temps = pd.read_csv('/kaggle/input/predicted-global-temps-through-2040/PredTemps2040.csv', index_col=0)\n",
    "temps = pd.read_csv('/kaggle/input/climate-change-earth-surface-temperature-data/GlobalTemperatures.csv', index_col=0)\n",
    "\n",
    "pred_temps.index = pd.to_datetime(pred_temps.index)\n",
    "temps.index = pd.to_datetime(temps.index)\n",
    "\n",
    "temps = temps[['LandAndOceanAverageTemperature']]\n",
    "temps['LOMA_Temp'] = temps.rolling(12).mean()\n",
    "temps.drop('LandAndOceanAverageTemperature', axis=1, inplace=True)\n",
    "\n",
    "exog_temps = temps.loc['1880-01-01':'2013-12-01']\n",
    "\n",
    "temps.rename({'LOMA_Temp':'Mean_Predicted'}, axis=1, inplace=True)\n",
    "\n",
    "temps['Upper_Mean'] = np.nan\n",
    "temps['Lower_Mean'] = np.nan\n",
    "temps['Highest_Bound'] = np.nan\n",
    "temps['Lowest_Bound'] = np.nan\n",
    "temps['SO_Mean'] = np.nan\n",
    "\n",
    "pred_temps = pd.concat([temps.loc['2014-01-01':'2015-12-01'], pred_temps])\n",
    "\n",
    "pred_temps['Upper_Mean'].fillna(pred_temps['Mean_Predicted'], inplace=True)\n",
    "pred_temps['Lower_Mean'].fillna(pred_temps['Mean_Predicted'], inplace=True)\n",
    "pred_temps['Highest_Bound'].fillna(pred_temps['Mean_Predicted'], inplace=True)\n",
    "pred_temps['Lowest_Bound'].fillna(pred_temps['Mean_Predicted'], inplace=True)\n",
    "pred_temps['SO_Mean'].fillna(pred_temps['Mean_Predicted'], inplace=True)"
   ]
  },
  {
   "cell_type": "markdown",
   "id": "electric-physiology",
   "metadata": {
    "papermill": {
     "duration": 0.037371,
     "end_time": "2021-05-29T17:43:06.701160",
     "exception": false,
     "start_time": "2021-05-29T17:43:06.663789",
     "status": "completed"
    },
    "tags": []
   },
   "source": [
    "First I load the predicted temperatures from my previous notebook to use as exogenous variables. "
   ]
  },
  {
   "cell_type": "code",
   "execution_count": null,
   "id": "violent-depth",
   "metadata": {
    "execution": {
     "iopub.execute_input": "2021-05-29T17:43:06.773917Z",
     "iopub.status.busy": "2021-05-29T17:43:06.773122Z",
     "iopub.status.idle": "2021-05-29T17:43:08.070917Z",
     "shell.execute_reply": "2021-05-29T17:43:08.070380Z"
    },
    "papermill": {
     "duration": 1.337129,
     "end_time": "2021-05-29T17:43:08.071056",
     "exception": false,
     "start_time": "2021-05-29T17:43:06.733927",
     "status": "completed"
    },
    "tags": []
   },
   "outputs": [],
   "source": [
    "sea = pd.read_csv('/kaggle/input/sea-level-change/sea_levels_2015.csv')\n",
    "sea['Time'] = pd.to_datetime(sea['Time'])\n",
    "sea.set_index('Time', inplace=True)\n",
    "sea = sea.resample(rule='MS').mean()\n",
    "sea['GMSL_Rolling'] = sea['GMSL'].rolling(12).mean()\n",
    "sea.dropna(inplace=True)\n",
    "\n",
    "fig = px.line(sea, x=sea.index, y='GMSL_Rolling', title='Sea Level Height 1880-2013', labels={'Time':'Date', 'GMSL':'Height (mm)'})\n",
    "fig.show()"
   ]
  },
  {
   "cell_type": "markdown",
   "id": "adult-tuning",
   "metadata": {
    "papermill": {
     "duration": 0.035864,
     "end_time": "2021-05-29T17:43:08.143255",
     "exception": false,
     "start_time": "2021-05-29T17:43:08.107391",
     "status": "completed"
    },
    "tags": []
   },
   "source": [
    "Here is a graph of the twelve month rolling average of the Global Mean Sea Level height. There is a very obvious upward trend and there may be some seasonality so let's check."
   ]
  },
  {
   "cell_type": "code",
   "execution_count": null,
   "id": "advance-bunch",
   "metadata": {
    "execution": {
     "iopub.execute_input": "2021-05-29T17:43:08.239314Z",
     "iopub.status.busy": "2021-05-29T17:43:08.238521Z",
     "iopub.status.idle": "2021-05-29T17:43:08.715834Z",
     "shell.execute_reply": "2021-05-29T17:43:08.716376Z"
    },
    "papermill": {
     "duration": 0.537436,
     "end_time": "2021-05-29T17:43:08.716551",
     "exception": false,
     "start_time": "2021-05-29T17:43:08.179115",
     "status": "completed"
    },
    "tags": []
   },
   "outputs": [],
   "source": [
    "decomp_sea = seasonal_decompose(sea['GMSL_Rolling'], period=12)\n",
    "\n",
    "fig, ax = plt.subplots(3,1, figsize=(20, 8))\n",
    "ax[0].plot(decomp_sea.seasonal)\n",
    "ax[1].plot(decomp_sea.trend)\n",
    "ax[2].plot(decomp_sea.resid)\n",
    "ax[0].set_title('Seasonality')\n",
    "ax[1].set_title('Trend')\n",
    "ax[2].set_title('Residual')\n",
    "plt.show()"
   ]
  },
  {
   "cell_type": "markdown",
   "id": "romance-scheme",
   "metadata": {
    "papermill": {
     "duration": 0.040248,
     "end_time": "2021-05-29T17:43:08.797394",
     "exception": false,
     "start_time": "2021-05-29T17:43:08.757146",
     "status": "completed"
    },
    "tags": []
   },
   "source": [
    "There seems to be a negligible amount of seasonality in this time series, so I will use the ARIMA model without any seasonal components."
   ]
  },
  {
   "cell_type": "code",
   "execution_count": null,
   "id": "historical-imaging",
   "metadata": {
    "execution": {
     "iopub.execute_input": "2021-05-29T17:43:08.882513Z",
     "iopub.status.busy": "2021-05-29T17:43:08.881491Z",
     "iopub.status.idle": "2021-05-29T17:43:09.146048Z",
     "shell.execute_reply": "2021-05-29T17:43:09.147598Z"
    },
    "papermill": {
     "duration": 0.309873,
     "end_time": "2021-05-29T17:43:09.147982",
     "exception": false,
     "start_time": "2021-05-29T17:43:08.838109",
     "status": "completed"
    },
    "tags": []
   },
   "outputs": [],
   "source": [
    "#diff1 = sea.diff().diff(12).dropna()\n",
    "#sdiff = sea.diff(12).dropna()\n",
    "diff = sea.diff().dropna()\n",
    "fig, ax = plt.subplots(1, 1, figsize=(20,3))\n",
    "#ax[0].plot(diff1.GMSL_Rolling)\n",
    "#ax[1].plot(sdiff.GMSL_Rolling)\n",
    "ax.plot(diff.GMSL_Rolling)\n",
    "\n",
    "plt.show()\n",
    "\n",
    "\n",
    "#result = adfuller(diff1.GMSL_Rolling)\n",
    "#result2 = adfuller(sdiff.GMSL_Rolling)\n",
    "result3 = adfuller(diff.GMSL_Rolling)\n",
    "#adtest = pd.Series(result[0:4], index=['Test Statistic', 'p-value', 'Lags Used', 'Observations'])\n",
    "#adtest2 = pd.Series(result2[0:4], index=['Test Statistic', 'p-value', 'Lags Used', 'Observations'])\n",
    "adtest3 = pd.Series(result3[0:4], index=['Test Statistic', 'p-value', 'Lags Used', 'Observations'])\n",
    "\n",
    "#print(adtest)\n",
    "#print(adtest2)\n",
    "print(adtest3)"
   ]
  },
  {
   "cell_type": "markdown",
   "id": "behavioral-airline",
   "metadata": {
    "papermill": {
     "duration": 0.054846,
     "end_time": "2021-05-29T17:43:09.279455",
     "exception": false,
     "start_time": "2021-05-29T17:43:09.224609",
     "status": "completed"
    },
    "tags": []
   },
   "source": [
    "Taking the first difference here makes the data stationary, so let's continue onto the ACF and PACF graphs."
   ]
  },
  {
   "cell_type": "code",
   "execution_count": null,
   "id": "phantom-organic",
   "metadata": {
    "execution": {
     "iopub.execute_input": "2021-05-29T17:43:09.413599Z",
     "iopub.status.busy": "2021-05-29T17:43:09.393019Z",
     "iopub.status.idle": "2021-05-29T17:43:09.713020Z",
     "shell.execute_reply": "2021-05-29T17:43:09.712185Z"
    },
    "papermill": {
     "duration": 0.390504,
     "end_time": "2021-05-29T17:43:09.713175",
     "exception": false,
     "start_time": "2021-05-29T17:43:09.322671",
     "status": "completed"
    },
    "tags": []
   },
   "outputs": [],
   "source": [
    "fig, ax = plt.subplots(1,2, figsize=(20,5))\n",
    "\n",
    "plot_acf(diff.GMSL_Rolling, lags=11, zero=False, ax=ax[0], title='Autocorrelation')\n",
    "plot_pacf(diff.GMSL_Rolling, lags=11, zero=False, ax=ax[1], title='Partial Autocorrelation')\n",
    "\n",
    "plt.show()\n"
   ]
  },
  {
   "cell_type": "markdown",
   "id": "excited-singles",
   "metadata": {
    "papermill": {
     "duration": 0.04395,
     "end_time": "2021-05-29T17:43:09.801101",
     "exception": false,
     "start_time": "2021-05-29T17:43:09.757151",
     "status": "completed"
    },
    "tags": []
   },
   "source": [
    "The PACF here looks a bit unusual. These plots seem to suggest that the model should only have AR terms, but after some experimentation with the model that didn't produce the best results. "
   ]
  },
  {
   "cell_type": "code",
   "execution_count": null,
   "id": "ongoing-worse",
   "metadata": {
    "execution": {
     "iopub.execute_input": "2021-05-29T17:43:09.895512Z",
     "iopub.status.busy": "2021-05-29T17:43:09.894864Z",
     "iopub.status.idle": "2021-05-29T17:43:13.260179Z",
     "shell.execute_reply": "2021-05-29T17:43:13.259063Z"
    },
    "papermill": {
     "duration": 3.415038,
     "end_time": "2021-05-29T17:43:13.260343",
     "exception": false,
     "start_time": "2021-05-29T17:43:09.845305",
     "status": "completed"
    },
    "tags": []
   },
   "outputs": [],
   "source": [
    "#(3,1,2) 199 aic, no seasonal component\n",
    "order = (3,1,2)\n",
    "\n",
    "sarima = SARIMAX(sea.GMSL_Rolling, order=order, exog=exog_temps.loc['1880-12-01':], trend='c')\n",
    "\n",
    "sea_model=sarima.fit()\n",
    "\n",
    "sea_model.summary()\n"
   ]
  },
  {
   "cell_type": "markdown",
   "id": "grand-representative",
   "metadata": {
    "papermill": {
     "duration": 0.044956,
     "end_time": "2021-05-29T17:43:13.350563",
     "exception": false,
     "start_time": "2021-05-29T17:43:13.305607",
     "status": "completed"
    },
    "tags": []
   },
   "source": [
    "Using an order of (3,1,2) gave the best AIC despite what the ACF and PACF suggested. Let's check the in-sample predictions and the diagnostics to make sure this is a good model."
   ]
  },
  {
   "cell_type": "code",
   "execution_count": null,
   "id": "banned-workplace",
   "metadata": {
    "execution": {
     "iopub.execute_input": "2021-05-29T17:43:13.451793Z",
     "iopub.status.busy": "2021-05-29T17:43:13.450763Z",
     "iopub.status.idle": "2021-05-29T17:43:14.528259Z",
     "shell.execute_reply": "2021-05-29T17:43:14.527692Z"
    },
    "papermill": {
     "duration": 1.132184,
     "end_time": "2021-05-29T17:43:14.528409",
     "exception": false,
     "start_time": "2021-05-29T17:43:13.396225",
     "status": "completed"
    },
    "tags": []
   },
   "outputs": [],
   "source": [
    "forecast = sea_model.get_prediction(start=-240, exog=exog_temps)\n",
    "fig1 = px.line(sea, x=sea.index, y=sea.GMSL_Rolling)\n",
    "fig1.add_scatter(x=forecast.predicted_mean.index, y=forecast.predicted_mean, mode='lines', name='Predicted')\n",
    "fig1.add_scatter(x=forecast.predicted_mean.index, y=forecast.conf_int().iloc[:,0], name='Lower Bound')\n",
    "fig1.add_scatter(x=forecast.predicted_mean.index, y=forecast.conf_int().iloc[:,1], fill='tonexty', name='Upper Bound')\n",
    "fig1.show()\n",
    "\n",
    "def mape(fc, true):\n",
    "    mape = np.mean((np.abs(fc-true)/np.abs(true)))\n",
    "    return mape\n",
    "\n",
    "acc = mape(forecast.predicted_mean, sea['GMSL_Rolling'].iloc[-240:])\n",
    "print('Mean Absolute Percent Error:', acc)\n",
    "\n",
    "sea_model.plot_diagnostics(figsize=(20, 10))\n",
    "plt.show()"
   ]
  },
  {
   "cell_type": "markdown",
   "id": "brown-sunday",
   "metadata": {
    "papermill": {
     "duration": 0.051518,
     "end_time": "2021-05-29T17:43:14.639739",
     "exception": false,
     "start_time": "2021-05-29T17:43:14.588221",
     "status": "completed"
    },
    "tags": []
   },
   "source": [
    "The MAPE is below 1% and the diagnostics look fine although they could be a little more normally distributed. I think this model will be fine for forecasting."
   ]
  },
  {
   "cell_type": "code",
   "execution_count": null,
   "id": "minus-doubt",
   "metadata": {
    "execution": {
     "iopub.execute_input": "2021-05-29T17:43:14.778458Z",
     "iopub.status.busy": "2021-05-29T17:43:14.757312Z",
     "iopub.status.idle": "2021-05-29T17:43:14.991990Z",
     "shell.execute_reply": "2021-05-29T17:43:14.992493Z"
    },
    "papermill": {
     "duration": 0.300464,
     "end_time": "2021-05-29T17:43:14.992660",
     "exception": false,
     "start_time": "2021-05-29T17:43:14.692196",
     "status": "completed"
    },
    "tags": []
   },
   "outputs": [],
   "source": [
    "fc_m = sea_model.get_forecast(steps=327, exog=pred_temps['Mean_Predicted'])\n",
    "\n",
    "print('March 2041 GMSL Prediction:', round(fc_m.predicted_mean[-1], 3), 'mm')\n",
    "\n",
    "fig = px.line(sea, x=sea.index, y=sea.GMSL_Rolling)\n",
    "fig.add_scatter(x=fc_m.predicted_mean.index, y=fc_m.predicted_mean, mode='lines', name='Predicted')\n",
    "fig.add_scatter(x=fc_m.predicted_mean.index, y=fc_m.conf_int().iloc[:,0], name='Lower Bound')\n",
    "fig.add_scatter(x=fc_m.predicted_mean.index, y=fc_m.conf_int().iloc[:,1], fill='tonexty', name='Upper Bound')\n",
    "fig.show()"
   ]
  },
  {
   "cell_type": "markdown",
   "id": "ceramic-exercise",
   "metadata": {
    "papermill": {
     "duration": 0.054936,
     "end_time": "2021-05-29T17:43:15.103535",
     "exception": false,
     "start_time": "2021-05-29T17:43:15.048599",
     "status": "completed"
    },
    "tags": []
   },
   "source": [
    "Here is my first prediction using the mean predicted temperatures as exogenous variables.  This predicts an increase in the Global Mean Sea Level by 44mm between 2014 and 2041. While this doesn't seem like a lot, keep in mind that this 44mm isn't distributed evenly across the entire ocean. Some places will see much higher rises while others could even see small decreases in sea level. This prediction is meant for a more general analysis to confirm that sea levels are indeed rising steadily and show no sign of reversing."
   ]
  },
  {
   "cell_type": "code",
   "execution_count": null,
   "id": "spread-limit",
   "metadata": {
    "execution": {
     "iopub.execute_input": "2021-05-29T17:43:15.247596Z",
     "iopub.status.busy": "2021-05-29T17:43:15.226474Z",
     "iopub.status.idle": "2021-05-29T17:43:15.458723Z",
     "shell.execute_reply": "2021-05-29T17:43:15.459270Z"
    },
    "papermill": {
     "duration": 0.301263,
     "end_time": "2021-05-29T17:43:15.459443",
     "exception": false,
     "start_time": "2021-05-29T17:43:15.158180",
     "status": "completed"
    },
    "tags": []
   },
   "outputs": [],
   "source": [
    "fc_h = sea_model.get_forecast(steps=327, exog=pred_temps['Highest_Bound'])\n",
    "\n",
    "print('March 2041 GMSL Prediction:', round(fc_h.predicted_mean[-1], 3), 'mm')\n",
    "\n",
    "fig = px.line(sea, x=sea.index, y=sea.GMSL_Rolling)\n",
    "fig.add_scatter(x=fc_h.predicted_mean.index, y=fc_h.predicted_mean, mode='lines', name='Predicted')\n",
    "fig.add_scatter(x=fc_h.predicted_mean.index, y=fc_h.conf_int().iloc[:,0], name='Lower Bound')\n",
    "fig.add_scatter(x=fc_h.predicted_mean.index, y=fc_h.conf_int().iloc[:,1], fill='tonexty', name='Upper Bound')\n",
    "fig.show()"
   ]
  },
  {
   "cell_type": "markdown",
   "id": "secondary-healthcare",
   "metadata": {
    "papermill": {
     "duration": 0.058158,
     "end_time": "2021-05-29T17:43:15.576534",
     "exception": false,
     "start_time": "2021-05-29T17:43:15.518376",
     "status": "completed"
    },
    "tags": []
   },
   "source": [
    "Here is my second prediction using the highest bound values for the predicted temperatures as the exogenous variable. This resulted in a very small increase to Global Mean Sea Level in the given timescale. After doing further research[1], it seems that looking at a longer timescale (in the range of 2050-2100) would show more significant sea level changes in response to different temperatures. This suggests that this is a longer term issue, and while this predicted level of sea rise is inevitable there is still time to prevent even more disastrous levels of sea rise. \n",
    "\n",
    "[1] Lindsey, Rebecca. “Climate Change: Global Sea Level.” Climate.gov, NOAA, 25 Jan. 2021, www.climate.gov/news-features/understanding-climate/climate-change-global-sea-level. "
   ]
  },
  {
   "cell_type": "code",
   "execution_count": null,
   "id": "center-array",
   "metadata": {
    "execution": {
     "iopub.execute_input": "2021-05-29T17:43:15.728105Z",
     "iopub.status.busy": "2021-05-29T17:43:15.717900Z",
     "iopub.status.idle": "2021-05-29T17:43:15.945704Z",
     "shell.execute_reply": "2021-05-29T17:43:15.945180Z"
    },
    "papermill": {
     "duration": 0.311079,
     "end_time": "2021-05-29T17:43:15.945845",
     "exception": false,
     "start_time": "2021-05-29T17:43:15.634766",
     "status": "completed"
    },
    "tags": []
   },
   "outputs": [],
   "source": [
    "fc_l = sea_model.get_forecast(steps=327, exog=pred_temps['Lowest_Bound'])\n",
    "\n",
    "print('March 2041 GMSL Prediction:', round(fc_l.predicted_mean[-1], 3), 'mm')\n",
    "\n",
    "fig = px.line(sea, x=sea.index, y=sea.GMSL_Rolling)\n",
    "fig.add_scatter(x=fc_l.predicted_mean.index, y=fc_l.predicted_mean, mode='lines', name='Predicted')\n",
    "fig.add_scatter(x=fc_l.predicted_mean.index, y=fc_l.conf_int().iloc[:,0], name='Lower Bound')\n",
    "fig.add_scatter(x=fc_l.predicted_mean.index, y=fc_l.conf_int().iloc[:,1], fill='tonexty', name='Upper Bound')\n",
    "fig.show()\n"
   ]
  },
  {
   "cell_type": "markdown",
   "id": "dramatic-paper",
   "metadata": {
    "papermill": {
     "duration": 0.061879,
     "end_time": "2021-05-29T17:43:16.071992",
     "exception": false,
     "start_time": "2021-05-29T17:43:16.010113",
     "status": "completed"
    },
    "tags": []
   },
   "source": [
    "Here is my final prediction using the lowest bound values of predicted temperatures as the exogenous variable. Again, it made very little difference in the prediction compared to the previous two. Since both the highest and lowest bound temperature values made little difference, I didn't run any predictions with values in between since those would've had an even more negligible effect."
   ]
  },
  {
   "cell_type": "markdown",
   "id": "sized-armenia",
   "metadata": {
    "papermill": {
     "duration": 0.063895,
     "end_time": "2021-05-29T17:43:16.197517",
     "exception": false,
     "start_time": "2021-05-29T17:43:16.133622",
     "status": "completed"
    },
    "tags": []
   },
   "source": [
    "# Natural Disaster Analysis"
   ]
  },
  {
   "cell_type": "markdown",
   "id": "distinct-float",
   "metadata": {
    "papermill": {
     "duration": 0.061456,
     "end_time": "2021-05-29T17:43:16.320676",
     "exception": false,
     "start_time": "2021-05-29T17:43:16.259220",
     "status": "completed"
    },
    "tags": []
   },
   "source": [
    "Another well documented effect of increasing temperatures is an increased frequency and severity of natural disasters. Let's take a look at the frequency and severity of natural disasters over time and see what's changed."
   ]
  },
  {
   "cell_type": "code",
   "execution_count": null,
   "id": "simple-background",
   "metadata": {
    "execution": {
     "iopub.execute_input": "2021-05-29T17:43:16.452716Z",
     "iopub.status.busy": "2021-05-29T17:43:16.452027Z",
     "iopub.status.idle": "2021-05-29T17:43:16.600477Z",
     "shell.execute_reply": "2021-05-29T17:43:16.601000Z"
    },
    "papermill": {
     "duration": 0.219119,
     "end_time": "2021-05-29T17:43:16.601205",
     "exception": false,
     "start_time": "2021-05-29T17:43:16.382086",
     "status": "completed"
    },
    "tags": []
   },
   "outputs": [],
   "source": [
    "dis_dam = pd.read_csv('/kaggle/input/natural-disaster-data/economic-damage-from-natural-disasters.csv')\n",
    "dis_ct = pd.read_csv('/kaggle/input/natural-disaster-data/number-of-natural-disaster-events.csv')\n",
    "deaths = pd.read_csv('/kaggle/input/global-cause-of-the-deaths-other-than-diseases/Caused of Deaths.csv')\n",
    "\n",
    "dis_dam.drop('Code', axis=1, inplace=True)\n",
    "dis_dam.rename(mapper={'Total economic damage from natural disasters (US$)':'Damage Cost'}, axis=1, inplace=True)\n",
    "dis_ct.drop('Code', axis=1, inplace=True)\n",
    "dis_ct.rename({'Number of reported natural disasters (reported disasters)':'Disasters'}, axis=1, inplace=True)"
   ]
  },
  {
   "cell_type": "code",
   "execution_count": null,
   "id": "interesting-alliance",
   "metadata": {
    "execution": {
     "iopub.execute_input": "2021-05-29T17:43:16.741592Z",
     "iopub.status.busy": "2021-05-29T17:43:16.738683Z",
     "iopub.status.idle": "2021-05-29T17:43:17.029588Z",
     "shell.execute_reply": "2021-05-29T17:43:17.029055Z"
    },
    "papermill": {
     "duration": 0.366105,
     "end_time": "2021-05-29T17:43:17.029736",
     "exception": false,
     "start_time": "2021-05-29T17:43:16.663631",
     "status": "completed"
    },
    "tags": []
   },
   "outputs": [],
   "source": [
    "dis_types = dis_dam['Entity'].unique()\n",
    "all_dis = dis_dam[dis_dam['Entity']=='All natural disasters']\n",
    "brk_dis = dis_dam[dis_dam['Entity']!='All natural disasters']\n",
    "\n",
    "brk_dis_ct = dis_ct[dis_ct['Entity']!='All natural disasters']\n",
    "fig1=px.bar(brk_dis_ct, x='Year', y='Disasters', color='Entity', title='Global Natural Disaster Count by Type 1900-2018', hover_name='Entity', labels={'Disasters':'Disaster Count'})\n",
    "fig1.show()\n",
    "\n",
    "all_dc = dis_ct[dis_ct['Entity']=='All natural disasters']\n",
    "all_dc['Pct_Chnge'] = all_dc['Disasters'].pct_change()\n",
    "print('Mean Percent Change Per Year:', round(all_dc['Pct_Chnge'].mean(), 4))\n",
    "\n",
    "fig2=px.bar(brk_dis, x='Year', y='Damage Cost', color='Entity', title='Global Disaster Costs by Type 1900-2018', labels={'Damage Cost':'Damage Cost (2018 USD)'})\n",
    "fig2.show()\n",
    "\n",
    "nd_deaths = deaths[deaths['Cause']=='Natural Disaster']\n",
    "\n",
    "dby = pd.DataFrame(nd_deaths.groupby('Year')['Deaths'].sum())\n",
    "\n",
    "fig3=px.bar(dby, x=dby.index, y='Deaths', title='Natural Disaster Deaths 1980-2017')\n",
    "fig3.show()"
   ]
  },
  {
   "cell_type": "markdown",
   "id": "interracial-topic",
   "metadata": {
    "papermill": {
     "duration": 0.065171,
     "end_time": "2021-05-29T17:43:17.161832",
     "exception": false,
     "start_time": "2021-05-29T17:43:17.096661",
     "status": "completed"
    },
    "tags": []
   },
   "source": [
    "The top graph shows the number of global natural disasters each year from 1900 to 2018. Clearly, the number of natural disasters per year has exploded since the 1960s, particularly due to increases in flooding and extreme weather (hurricanes and cyclones). In fact, since 1900, the number of natural disasters has increased by an average of 16.5% per year.\n",
    "\n",
    "The middle graph shows the economic damage caused by natural disasters each year. This also shows a strong upward trend, but it's not as consistent since not all natural disasters are created equal, and some do far more damage than others depending on their size and where they hit. Still, an increase in disaster frequency means there will be more opportunities for these more devastating disasters to strike. Also, a greater frequency of disasters means that even years without one or a few particularly devastating disasters will be more expensive than previous years without these more devastating disasters.\n",
    "\n",
    "The final graph shows total deaths due to natural disasters. This graph doesn't have the same kind of upward trend as the previous two, but it does have increasingly frequent spikes. This is for similar reasons as the graph of costs, as some disasters are much more deadly than other depending on location and severity, and again the increased frequency of disasters will only make spikes like the ones in 2004, 2008 and 2010 more frequent. \n",
    "\n",
    "Note: On the bright side, those three spikes were mainly caused by earthquakes (and an ensuing tsunami in 2004), which aren't really a result of increased temperature or CO2 emissions[2], meaning these were more random than part of a trend.\n",
    "\n",
    "[2] Buis, Alan. “Can Climate Affect Earthquakes, Or Are the Connections Shaky? – Climate Change: Vital Signs of the Planet.” NASA, NASA, 29 Oct. 2019 "
   ]
  },
  {
   "cell_type": "code",
   "execution_count": null,
   "id": "civil-channel",
   "metadata": {
    "execution": {
     "iopub.execute_input": "2021-05-29T17:43:17.298628Z",
     "iopub.status.busy": "2021-05-29T17:43:17.297887Z",
     "iopub.status.idle": "2021-05-29T17:43:17.880125Z",
     "shell.execute_reply": "2021-05-29T17:43:17.879603Z"
    },
    "papermill": {
     "duration": 0.652656,
     "end_time": "2021-05-29T17:43:17.880308",
     "exception": false,
     "start_time": "2021-05-29T17:43:17.227652",
     "status": "completed"
    },
    "tags": []
   },
   "outputs": [],
   "source": [
    "us_dis = pd.read_csv('/kaggle/input/us-natural-disaster-declarations/us_disasters_m5.csv')\n",
    "us_dis_dec = pd.read_csv('/kaggle/input/us-natural-disaster-declarations/us_disaster_declarations.csv')\n"
   ]
  },
  {
   "cell_type": "markdown",
   "id": "eight-arlington",
   "metadata": {
    "papermill": {
     "duration": 0.06623,
     "end_time": "2021-05-29T17:43:18.011657",
     "exception": false,
     "start_time": "2021-05-29T17:43:17.945427",
     "status": "completed"
    },
    "tags": []
   },
   "source": [
    "Now let's narrow our scope a bit and take a look at the United States specifically. How has this increase in natural disasters affected it and its economy?"
   ]
  },
  {
   "cell_type": "code",
   "execution_count": null,
   "id": "sweet-legislation",
   "metadata": {
    "execution": {
     "iopub.execute_input": "2021-05-29T17:43:18.153744Z",
     "iopub.status.busy": "2021-05-29T17:43:18.152760Z",
     "iopub.status.idle": "2021-05-29T17:43:18.179609Z",
     "shell.execute_reply": "2021-05-29T17:43:18.180136Z"
    },
    "papermill": {
     "duration": 0.102199,
     "end_time": "2021-05-29T17:43:18.180338",
     "exception": false,
     "start_time": "2021-05-29T17:43:18.078139",
     "status": "completed"
    },
    "tags": []
   },
   "outputs": [],
   "source": [
    "#23 disaster types, 17 natural disasters\n",
    "#All Biological disasters are Covid 19\n",
    "nat_dis = list(us_dis_dec['incident_type'].unique())\n",
    "nat_dis.remove('Human Cause')\n",
    "nat_dis.remove('Terrorist')\n",
    "nat_dis.remove('Biological')\n",
    "nd = us_dis_dec[us_dis_dec['incident_type'].isin(nat_dis)]\n",
    "nd.drop_duplicates(subset='declaration_request_number', inplace=True)"
   ]
  },
  {
   "cell_type": "markdown",
   "id": "experienced-germany",
   "metadata": {
    "papermill": {
     "duration": 0.065423,
     "end_time": "2021-05-29T17:43:18.311762",
     "exception": false,
     "start_time": "2021-05-29T17:43:18.246339",
     "status": "completed"
    },
    "tags": []
   },
   "source": [
    "Here I filtered out diseases, terrorist attacks, and human accidents from the dataframe of US Disaster Declarations since 1953."
   ]
  },
  {
   "cell_type": "code",
   "execution_count": null,
   "id": "latter-destination",
   "metadata": {
    "execution": {
     "iopub.execute_input": "2021-05-29T17:43:18.454089Z",
     "iopub.status.busy": "2021-05-29T17:43:18.453419Z",
     "iopub.status.idle": "2021-05-29T17:43:18.668421Z",
     "shell.execute_reply": "2021-05-29T17:43:18.668948Z"
    },
    "papermill": {
     "duration": 0.290302,
     "end_time": "2021-05-29T17:43:18.669149",
     "exception": false,
     "start_time": "2021-05-29T17:43:18.378847",
     "status": "completed"
    },
    "tags": []
   },
   "outputs": [],
   "source": [
    "nde = nd[nd['fy_declared']<=1987]\n",
    "ndl = nd[nd['fy_declared']>1987]\n",
    "early_ct = nde.groupby('state')['declaration_title'].count()\n",
    "late_ct = ndl.groupby('state')['declaration_title'].count()\n",
    "\n",
    "edf = pd.DataFrame({'1953-1987 Disaster Count':early_ct})\n",
    "ldf = pd.DataFrame({'1988-2021 Disaster Count':late_ct})\n",
    "\n",
    "st_df = edf.merge(ldf, how='left', left_on=edf.index, right_on=ldf.index)\n",
    "st_df['Disaster Change'] = st_df['1988-2021 Disaster Count']-st_df['1953-1987 Disaster Count']\n",
    "st_df.rename({'key_0':'State'}, axis=1, inplace=True)\n",
    "\n",
    "fig1 = px.bar(st_df, x=st_df['State'], y='Disaster Change', title='Comparing State Disaster Counts from 1953-1987 to 1988-2021')\n",
    "fig1.show()\n",
    "\n",
    "e_ct = nde.groupby('incident_type')['incident_type'].count()\n",
    "l_ct = ndl.groupby('incident_type')['incident_type'].count()\n",
    "\n",
    "e_df = pd.DataFrame({'1953-1987 Disaster Count':e_ct})\n",
    "l_df = pd.DataFrame({'1988-2021 Disaster Count':l_ct})\n",
    "\n",
    "type_df = e_df.merge(l_df, how='left', left_on=e_df.index, right_on=l_df.index)\n",
    "type_df['Disaster Change'] = type_df['1988-2021 Disaster Count']-type_df['1953-1987 Disaster Count']\n",
    "type_df.rename({'key_0':'Disaster Type'},axis=1, inplace=True)\n",
    "\n",
    "fig2=px.bar(type_df, x='Disaster Type', y='Disaster Change', title='Comparing Disaster Counts from 1953-1987 to 1988-2021 by Type')\n",
    "fig2.show()\n",
    "\n",
    "yr_ct = nd.groupby('fy_declared')['state'].count() \n",
    "ydf = pd.DataFrame({'Disaster Count':yr_ct})\n",
    "\n",
    "fig3=px.line(ydf[:-1], x=ydf[:-1].index, y='Disaster Count', labels={'x':'Year'}, title='Yearly US Disaster Declarations')\n",
    "fig3.show()\n",
    "\n",
    "print('Cumulative Disaster Count 1953-1995:', ydf.loc[:1995]['Disaster Count'].sum())\n",
    "print('Cumulative Disaster Count 1996-2020:', ydf.loc[1996:]['Disaster Count'].sum())"
   ]
  },
  {
   "cell_type": "markdown",
   "id": "greater-scientist",
   "metadata": {
    "papermill": {
     "duration": 0.067722,
     "end_time": "2021-05-29T17:43:18.806896",
     "exception": false,
     "start_time": "2021-05-29T17:43:18.739174",
     "status": "completed"
    },
    "tags": []
   },
   "source": [
    "The top graph shows the change in number of natural disasters for each state between the first 34 years of data (1953-1987) and the second 34 years (1988-2021). Every state had a positive difference, with California and Texas having the largest increases, both with over 200 more natural disasters in the second period. This is somewhat expected as they are two of the largest and most populated states, but the fact that every single state saw an increase reinforces the earlier conclusion that natural disasters are getting more frequent. \n",
    "\n",
    "The middle graph shows the change in disaster type between the two time periods. Fires, hurricanes, and severe storms increased massively, while surprisingly floods decreased a little. Still, the significant increase in the other three are a direct result of increased global temperatures. \n",
    "\n",
    "The final graph shows the number of US disaster declarations per year. This just reinforces again that disaster frequency in increasing rapidly. Prior to 1996, the US only declared at least 50 disasters in a year seven times. In the 25 years since, they've only declared fewer than 100 four times.\n",
    "\n",
    "Next, let's take a look at a map of where disasters are the most frequent."
   ]
  },
  {
   "cell_type": "code",
   "execution_count": null,
   "id": "previous-yemen",
   "metadata": {
    "execution": {
     "iopub.execute_input": "2021-05-29T17:43:18.957138Z",
     "iopub.status.busy": "2021-05-29T17:43:18.956438Z",
     "iopub.status.idle": "2021-05-29T17:43:18.990900Z",
     "shell.execute_reply": "2021-05-29T17:43:18.990342Z"
    },
    "papermill": {
     "duration": 0.116092,
     "end_time": "2021-05-29T17:43:18.991040",
     "exception": false,
     "start_time": "2021-05-29T17:43:18.874948",
     "status": "completed"
    },
    "tags": []
   },
   "outputs": [],
   "source": [
    "txfires = nd[(nd['state']=='TX')&(nd['designated_area']=='Statewide')&(nd['incident_type']=='Fire')]\n",
    "txfires_new = txfires.drop_duplicates(subset='declaration_date')\n",
    "\n",
    "nd = nd[~nd.isin(txfires)].dropna()\n",
    "nd = pd.concat([nd, txfires_new])\n",
    "nd['fips'] = nd['fips'].astype({'fips':'int'})\n",
    "\n"
   ]
  },
  {
   "cell_type": "code",
   "execution_count": null,
   "id": "continuous-participation",
   "metadata": {
    "execution": {
     "iopub.execute_input": "2021-05-29T17:43:19.137152Z",
     "iopub.status.busy": "2021-05-29T17:43:19.136512Z",
     "iopub.status.idle": "2021-05-29T17:43:19.161450Z",
     "shell.execute_reply": "2021-05-29T17:43:19.160893Z"
    },
    "papermill": {
     "duration": 0.102062,
     "end_time": "2021-05-29T17:43:19.161592",
     "exception": false,
     "start_time": "2021-05-29T17:43:19.059530",
     "status": "completed"
    },
    "tags": []
   },
   "outputs": [],
   "source": [
    "cnt_grp = nd[nd['designated_area']!='Statewide']\n",
    "st_grp = nd[nd['designated_area']=='Statewide']\n",
    "cnties = cnt_grp.groupby(['fips', 'designated_area']).count().sort_values('state', ascending=False) #'fy_declared',\n",
    "sts = st_grp.groupby(['fips']).count().sort_values('state', ascending=False) #'fy_declared',\n",
    "\n",
    "cdf = pd.DataFrame({'Disaster Count':cnties['state']})\n",
    "cdf.reset_index(inplace=True)\n",
    "cdf['fips'] = cdf['fips'].astype({'fips':'string'})\n",
    "#cdf['fy_declared'] = cdf['fy_declared'].astype({'fy_declared':'int'})\n",
    "\n",
    "sdf = pd.DataFrame({'Disaster Count':sts['state']})                  \n",
    "sdf.reset_index(inplace=True)\n",
    "sdf['fips'] = sdf['fips'].astype({'fips':'string'})\n",
    "#sdf['fy_declared'] = sdf['fy_declared'].astype({'fy_declared':'int'})\n"
   ]
  },
  {
   "cell_type": "code",
   "execution_count": null,
   "id": "responsible-panel",
   "metadata": {
    "execution": {
     "iopub.execute_input": "2021-05-29T17:43:19.308545Z",
     "iopub.status.busy": "2021-05-29T17:43:19.307861Z",
     "iopub.status.idle": "2021-05-29T17:43:19.347073Z",
     "shell.execute_reply": "2021-05-29T17:43:19.346512Z"
    },
    "papermill": {
     "duration": 0.114348,
     "end_time": "2021-05-29T17:43:19.347240",
     "exception": false,
     "start_time": "2021-05-29T17:43:19.232892",
     "status": "completed"
    },
    "tags": []
   },
   "outputs": [],
   "source": [
    "def concat(s1):\n",
    "    if len(s1) == 4:\n",
    "        s1 = '0'+s1\n",
    "        \n",
    "    return s1\n",
    "\n",
    "cdf['fips'] = cdf['fips'].apply(concat)\n",
    "sdf['fips'] = sdf['fips'].apply(concat)\n",
    "\n",
    "cdf['state'] = cdf['fips'].str[:2]\n",
    "sdf['state'] = sdf['fips'].str[:2]\n"
   ]
  },
  {
   "cell_type": "code",
   "execution_count": null,
   "id": "potential-native",
   "metadata": {
    "execution": {
     "iopub.execute_input": "2021-05-29T17:43:19.487685Z",
     "iopub.status.busy": "2021-05-29T17:43:19.487020Z",
     "iopub.status.idle": "2021-05-29T17:43:19.615658Z",
     "shell.execute_reply": "2021-05-29T17:43:19.615084Z"
    },
    "papermill": {
     "duration": 0.200103,
     "end_time": "2021-05-29T17:43:19.615811",
     "exception": false,
     "start_time": "2021-05-29T17:43:19.415708",
     "status": "completed"
    },
    "tags": []
   },
   "outputs": [],
   "source": [
    "codes = pd.read_csv('/kaggle/input/zipcodes-county-fips-crosswalk/ZIP-COUNTY-FIPS_2017-06.csv')\n",
    "\n",
    "fips = codes.groupby(['STCOUNTYFP', 'COUNTYNAME']).first()\n",
    "\n",
    "fips.reset_index(inplace=True)\n",
    "\n",
    "fdf = pd.DataFrame({'Fips':fips['STCOUNTYFP'], 'County':fips['COUNTYNAME']})\n",
    "fdf['Fips'] = fdf['Fips'].astype({'Fips':'string'})\n",
    "fdf['Fips'] = fdf['Fips'].apply(concat)\n",
    "\n",
    "fdf = fdf.merge(cdf, how='left', left_on='Fips', right_on='fips')\n",
    "\n",
    "fdf['Disaster Count'].fillna(0, inplace=True)\n",
    "fdf.drop(['designated_area', 'fips'], axis=1, inplace=True)\n",
    "fdf['state'].fillna(fdf['Fips'].str[:2], inplace=True)\n",
    "\n",
    "ddf = fdf.merge(sdf, how='left', on=['state'])\n",
    "\n",
    "ddf['Total_Count'] = ddf['Disaster Count_x']+ddf['Disaster Count_y']\n",
    "#ddf.drop(['Disaster Count_x', 'state', 'fips','Disaster Count_y'], axis=1, inplace=True)"
   ]
  },
  {
   "cell_type": "code",
   "execution_count": null,
   "id": "electrical-amber",
   "metadata": {
    "execution": {
     "iopub.execute_input": "2021-05-29T17:43:19.800321Z",
     "iopub.status.busy": "2021-05-29T17:43:19.799653Z",
     "iopub.status.idle": "2021-05-29T17:43:20.421911Z",
     "shell.execute_reply": "2021-05-29T17:43:20.422453Z"
    },
    "papermill": {
     "duration": 0.73742,
     "end_time": "2021-05-29T17:43:20.422655",
     "exception": false,
     "start_time": "2021-05-29T17:43:19.685235",
     "status": "completed"
    },
    "tags": []
   },
   "outputs": [],
   "source": [
    "from urllib.request import urlopen\n",
    "import json\n",
    "with urlopen('https://raw.githubusercontent.com/plotly/datasets/master/geojson-counties-fips.json') as response:\n",
    "    counties = json.load(response)\n"
   ]
  },
  {
   "cell_type": "code",
   "execution_count": null,
   "id": "successful-newspaper",
   "metadata": {
    "_kg_hide-input": false,
    "_kg_hide-output": false,
    "execution": {
     "iopub.execute_input": "2021-05-29T17:43:20.564430Z",
     "iopub.status.busy": "2021-05-29T17:43:20.563385Z",
     "iopub.status.idle": "2021-05-29T17:43:23.957260Z",
     "shell.execute_reply": "2021-05-29T17:43:23.957785Z"
    },
    "papermill": {
     "duration": 3.466489,
     "end_time": "2021-05-29T17:43:23.957957",
     "exception": false,
     "start_time": "2021-05-29T17:43:20.491468",
     "status": "completed"
    },
    "tags": []
   },
   "outputs": [],
   "source": [
    "fig = px.choropleth(ddf, geojson=counties, locations='Fips', color='Total_Count',\n",
    "                           color_continuous_scale=\"reds\",\n",
    "                           range_color=(0, 70),\n",
    "                           scope=\"usa\",\n",
    "                           labels={'Total_Count':'Natural Disaster Count'}, \n",
    "                           hover_name='County', title='Natural Disaster Declarations By County Since 1953')\n",
    "fig.show()"
   ]
  },
  {
   "cell_type": "markdown",
   "id": "behavioral-cable",
   "metadata": {
    "papermill": {
     "duration": 0.14636,
     "end_time": "2021-05-29T17:43:24.255939",
     "exception": false,
     "start_time": "2021-05-29T17:43:24.109579",
     "status": "completed"
    },
    "tags": []
   },
   "source": [
    "Here is a map of disaster count by county. Texas has the most disasters, although their count is largely driven by two historically bad wildfire seasons in 1996 and 1998. Still, this shows that the places most susceptible to disasters are Texas, Florida, Oklahoma, and the Pacific Coast."
   ]
  },
  {
   "cell_type": "code",
   "execution_count": null,
   "id": "french-option",
   "metadata": {
    "_kg_hide-output": true,
    "execution": {
     "iopub.execute_input": "2021-05-29T17:43:24.561152Z",
     "iopub.status.busy": "2021-05-29T17:43:24.559927Z",
     "iopub.status.idle": "2021-05-29T17:43:24.641224Z",
     "shell.execute_reply": "2021-05-29T17:43:24.641759Z"
    },
    "papermill": {
     "duration": 0.244409,
     "end_time": "2021-05-29T17:43:24.641933",
     "exception": false,
     "start_time": "2021-05-29T17:43:24.397524",
     "status": "completed"
    },
    "tags": []
   },
   "outputs": [],
   "source": [
    "fl_cnt_grp = cnt_grp[cnt_grp['incident_type']=='Flood']\n",
    "fl_st_grp = st_grp[st_grp['incident_type']=='Flood']\n",
    "\n",
    "fl_cnties = fl_cnt_grp.groupby(['fips', 'designated_area']).count().sort_values('state', ascending=False)\n",
    "fl_sts = fl_st_grp.groupby('fips').count().sort_values('state', ascending=False)\n",
    "\n",
    "fl_cdf = pd.DataFrame({'Flood Count':fl_cnties['state']})\n",
    "fl_cdf.reset_index(inplace=True)\n",
    "fl_cdf['fips'] = fl_cdf['fips'].astype({'fips':'string'})\n",
    "\n",
    "fl_sdf = pd.DataFrame({'Flood Count':fl_sts['state']})                  \n",
    "fl_sdf.reset_index(inplace=True)\n",
    "fl_sdf['fips'] = fl_sdf['fips'].astype({'fips':'string'})\n",
    "\n",
    "fl_cdf['fips'] = fl_cdf['fips'].apply(concat)\n",
    "fl_sdf['fips'] = fl_sdf['fips'].apply(concat)\n",
    "\n",
    "fl_cdf['state'] = fl_cdf['fips'].str[:2]\n",
    "fl_sdf['state'] = fl_sdf['fips'].str[:2]\n",
    "\n",
    "fl_fdf = pd.DataFrame({'Fips':fips['STCOUNTYFP'], 'County':fips['COUNTYNAME']})\n",
    "fl_fdf['Fips'] = fl_fdf['Fips'].astype({'Fips':'string'})\n",
    "fl_fdf['Fips'] = fl_fdf['Fips'].apply(concat)\n",
    "\n",
    "fl_fdf = fl_fdf.merge(fl_cdf, how='left', left_on='Fips', right_on='fips')\n",
    "\n",
    "fl_fdf['Flood Count'].fillna(0, inplace=True)\n",
    "fl_fdf.drop(['designated_area', 'fips'], axis=1, inplace=True)\n",
    "fl_fdf['state'].fillna(fl_fdf['Fips'].str[:2], inplace=True)\n",
    "\n",
    "for i in fl_fdf['state'].unique():\n",
    "    if i not in fl_sdf['state'].unique():\n",
    "        row = {'fips':0, 'Flood Count':0, 'state':str(i)}\n",
    "        rdf = pd.DataFrame(row, index=[0])\n",
    "        \n",
    "        fl_sdf = pd.concat([fl_sdf, rdf])\n",
    "\n",
    "fl_ddf = fl_fdf.merge(fl_sdf, how='left', on='state')\n",
    "\n",
    "fl_ddf['Total_Count'] = fl_ddf['Flood Count_x']+fl_ddf['Flood Count_y']\n",
    "fl_ddf.drop(['Flood Count_x', 'state', 'fips','Flood Count_y'], axis=1, inplace=True)\n"
   ]
  },
  {
   "cell_type": "code",
   "execution_count": null,
   "id": "answering-hayes",
   "metadata": {
    "execution": {
     "iopub.execute_input": "2021-05-29T17:43:24.931826Z",
     "iopub.status.busy": "2021-05-29T17:43:24.931147Z",
     "iopub.status.idle": "2021-05-29T17:43:28.389526Z",
     "shell.execute_reply": "2021-05-29T17:43:28.390046Z"
    },
    "papermill": {
     "duration": 3.607134,
     "end_time": "2021-05-29T17:43:28.390252",
     "exception": false,
     "start_time": "2021-05-29T17:43:24.783118",
     "status": "completed"
    },
    "tags": []
   },
   "outputs": [],
   "source": [
    "fig = px.choropleth(fl_ddf, geojson=counties, locations='Fips', color='Total_Count',\n",
    "                           color_continuous_scale=\"blues\",\n",
    "                           range_color=(0, 10),\n",
    "                           scope=\"usa\",\n",
    "                           labels={'Total_Count':'Flood Count'}, \n",
    "                           hover_name='County', title='Flood Disaster Declarations By County Since 1953')\n",
    "fig.show()"
   ]
  },
  {
   "cell_type": "markdown",
   "id": "latin-socket",
   "metadata": {
    "papermill": {
     "duration": 0.232813,
     "end_time": "2021-05-29T17:43:28.860955",
     "exception": false,
     "start_time": "2021-05-29T17:43:28.628142",
     "status": "completed"
    },
    "tags": []
   },
   "source": [
    "Some of the disaster counts were drowned out by the signifcant amount of wildfires in the previous graph, so I broke it down into two other map plots of the next most common disasters, floods and hurricanes/severe storms. Here is a graph of floods by county. The Pacific Coast, states along the Mississippi River, and West Virginia have the highest susceptibility to flooding. This is a problem that will only get worse in Florida, and along the Atlantic Coast as sea levels continue to rise."
   ]
  },
  {
   "cell_type": "code",
   "execution_count": null,
   "id": "partial-spare",
   "metadata": {
    "execution": {
     "iopub.execute_input": "2021-05-29T17:43:29.305069Z",
     "iopub.status.busy": "2021-05-29T17:43:29.303998Z",
     "iopub.status.idle": "2021-05-29T17:43:29.416793Z",
     "shell.execute_reply": "2021-05-29T17:43:29.416172Z"
    },
    "papermill": {
     "duration": 0.343749,
     "end_time": "2021-05-29T17:43:29.416936",
     "exception": false,
     "start_time": "2021-05-29T17:43:29.073187",
     "status": "completed"
    },
    "tags": []
   },
   "outputs": [],
   "source": [
    "st_cnt_grp = cnt_grp[(cnt_grp['incident_type']=='Hurricane')|(cnt_grp['incident_type']=='Severe Storm(s)')|(cnt_grp['incident_type']=='Coastal Storm')|(cnt_grp['incident_type']=='Typhoon')] #\n",
    "st_st_grp = st_grp[(st_grp['incident_type']=='Hurricane')|(st_grp['incident_type']=='Severe Storm(s)')|(st_grp['incident_type']=='Coastal Storm')|(st_grp['incident_type']=='Typhoon')]\n",
    "\n",
    "st_cnties = st_cnt_grp.groupby(['fips', 'designated_area']).count().sort_values('state', ascending=False)\n",
    "st_sts = st_st_grp.groupby('fips').count().sort_values('state', ascending=False)\n",
    "\n",
    "st_cdf = pd.DataFrame({'Storm Count':st_cnties['state']})\n",
    "st_cdf.reset_index(inplace=True)\n",
    "st_cdf['fips'] = st_cdf['fips'].astype({'fips':'string'})\n",
    "\n",
    "st_sdf = pd.DataFrame({'Storm Count':st_sts['state']})                  \n",
    "st_sdf.reset_index(inplace=True)\n",
    "st_sdf['fips'] = st_sdf['fips'].astype({'fips':'string'})\n",
    "\n",
    "st_cdf['fips'] = st_cdf['fips'].apply(concat)\n",
    "st_sdf['fips'] = st_sdf['fips'].apply(concat)\n",
    "\n",
    "st_cdf['state'] = st_cdf['fips'].str[:2]\n",
    "st_sdf['state'] = st_sdf['fips'].str[:2]\n",
    "\n",
    "st_fdf = pd.DataFrame({'Fips':fips['STCOUNTYFP'], 'County':fips['COUNTYNAME']})\n",
    "st_fdf['Fips'] = st_fdf['Fips'].astype({'Fips':'string'})\n",
    "st_fdf['Fips'] = st_fdf['Fips'].apply(concat)\n",
    "\n",
    "st_fdf = st_fdf.merge(st_cdf, how='left', left_on='Fips', right_on='fips')\n",
    "\n",
    "st_fdf['Storm Count'].fillna(0, inplace=True)\n",
    "st_fdf.drop(['designated_area', 'fips'], axis=1, inplace=True)\n",
    "st_fdf['state'].fillna(st_fdf['Fips'].str[:2], inplace=True)\n",
    "\n",
    "for i in st_cdf['state'].unique():\n",
    "    if i not in st_sdf['state'].unique():\n",
    "        row = {'fips':0, 'Storm Count':0, 'state':str(i)}\n",
    "        rdf = pd.DataFrame(row, index=[0])\n",
    "        \n",
    "        st_sdf = pd.concat([st_sdf, rdf])\n",
    "\n",
    "st_ddf = st_fdf.merge(st_sdf, how='left', on='state')\n",
    "\n",
    "st_ddf['Total_Count'] = st_ddf['Storm Count_x']+st_ddf['Storm Count_y']\n",
    "st_ddf.drop(['Storm Count_x', 'state', 'fips','Storm Count_y'], axis=1, inplace=True)"
   ]
  },
  {
   "cell_type": "code",
   "execution_count": null,
   "id": "caroline-hungarian",
   "metadata": {
    "execution": {
     "iopub.execute_input": "2021-05-29T17:43:29.864732Z",
     "iopub.status.busy": "2021-05-29T17:43:29.860169Z",
     "iopub.status.idle": "2021-05-29T17:43:33.445964Z",
     "shell.execute_reply": "2021-05-29T17:43:33.446503Z"
    },
    "papermill": {
     "duration": 3.815986,
     "end_time": "2021-05-29T17:43:33.446679",
     "exception": false,
     "start_time": "2021-05-29T17:43:29.630693",
     "status": "completed"
    },
    "tags": []
   },
   "outputs": [],
   "source": [
    "fig = px.choropleth(st_ddf, geojson=counties, locations='Fips', color='Total_Count',\n",
    "                           color_continuous_scale=\"greens\",\n",
    "                           range_color=(0, 10),\n",
    "                           scope=\"usa\",\n",
    "                           labels={'Total_Count':'Storm Count'}, \n",
    "                           hover_name='County', title='Storm Disaster Declarations By County Since 1953')\n",
    "fig.show()"
   ]
  },
  {
   "cell_type": "markdown",
   "id": "outer-black",
   "metadata": {
    "papermill": {
     "duration": 0.291534,
     "end_time": "2021-05-29T17:43:34.041018",
     "exception": false,
     "start_time": "2021-05-29T17:43:33.749484",
     "status": "completed"
    },
    "tags": []
   },
   "source": [
    "Finally here is a graph of hurricanes and severe storms by county. States along the Gulf of Mexico and the East Coast are the most suceptible to these disasters. Floods also often accompany these disasters in the form of a storm surge, which again will only be made worse as sea levels continue to rise."
   ]
  },
  {
   "cell_type": "code",
   "execution_count": null,
   "id": "mature-panel",
   "metadata": {
    "execution": {
     "iopub.execute_input": "2021-05-29T17:43:34.610698Z",
     "iopub.status.busy": "2021-05-29T17:43:34.609708Z",
     "iopub.status.idle": "2021-05-29T17:43:34.636643Z",
     "shell.execute_reply": "2021-05-29T17:43:34.635961Z"
    },
    "papermill": {
     "duration": 0.313337,
     "end_time": "2021-05-29T17:43:34.636780",
     "exception": false,
     "start_time": "2021-05-29T17:43:34.323443",
     "status": "completed"
    },
    "tags": []
   },
   "outputs": [],
   "source": [
    "bdd = pd.read_csv('/kaggle/input/billion-dollar-us-natural-disasters-19802021/BillionDollarDisasters1980-2021.csv')\n",
    "\n",
    "bdd.iloc[178,2] = '2012-01-01'\n",
    "bdd['Begin Date'] = pd.to_datetime(bdd['Begin Date'])\n",
    "bdd['End Date'] = pd.to_datetime(bdd['End Date'])\n",
    "bdd.set_index('Begin Date', inplace=True)\n",
    "bdd['Year'] = pd.DatetimeIndex(bdd.index).year\n",
    "bdd.rename(mapper={'Total CPI-Adjusted Cost (Millions of Dollars)':'Cost_Mil'}, axis=1, inplace=True)\n",
    "bdd = bdd.loc[:'2020-12-31']\n",
    "bdd['Cost_Mil'] = bdd['Cost_Mil'].astype('float')"
   ]
  },
  {
   "cell_type": "markdown",
   "id": "reverse-heavy",
   "metadata": {
    "papermill": {
     "duration": 0.293855,
     "end_time": "2021-05-29T17:43:35.216311",
     "exception": false,
     "start_time": "2021-05-29T17:43:34.922456",
     "status": "completed"
    },
    "tags": []
   },
   "source": [
    "For the last part of this analysis we will look at the financial impact natural disasters have had on the US."
   ]
  },
  {
   "cell_type": "code",
   "execution_count": null,
   "id": "alleged-portsmouth",
   "metadata": {
    "execution": {
     "iopub.execute_input": "2021-05-29T17:43:35.788572Z",
     "iopub.status.busy": "2021-05-29T17:43:35.787442Z",
     "iopub.status.idle": "2021-05-29T17:43:35.910369Z",
     "shell.execute_reply": "2021-05-29T17:43:35.911067Z"
    },
    "papermill": {
     "duration": 0.410526,
     "end_time": "2021-05-29T17:43:35.911291",
     "exception": false,
     "start_time": "2021-05-29T17:43:35.500765",
     "status": "completed"
    },
    "tags": []
   },
   "outputs": [],
   "source": [
    "yr_dmg = bdd.groupby('Year')['Cost_Mil'].sum()\n",
    "yr_cnt = bdd.groupby('Year')['Cost_Mil'].count()\n",
    "\n",
    "dddf = pd.DataFrame({'Cost (Mil)':yr_dmg})\n",
    "cddf = pd.DataFrame({'Count':yr_cnt})\n",
    "\n",
    "fig2 = px.line(cddf, x=cddf.index, y=cddf['Count'], title='Number of Billion Dollar US Natural Disasters', labels={'Count':'Number of Disasters'})\n",
    "fig2.show()\n",
    "\n",
    "fig = px.line(dddf, x=dddf.index, y=dddf['Cost (Mil)'], title='Total Cost of Billion Dollar Natural Disasters', labels={'Cost (Mil)':'Cost (In Millions of 2020 USD)'})\n",
    "fig.show()"
   ]
  },
  {
   "cell_type": "markdown",
   "id": "insured-cleaners",
   "metadata": {
    "papermill": {
     "duration": 0.285807,
     "end_time": "2021-05-29T17:43:36.481081",
     "exception": false,
     "start_time": "2021-05-29T17:43:36.195274",
     "status": "completed"
    },
    "tags": []
   },
   "source": [
    "The top graph shows the number of disasters each year sicne 1980 that have cost at least one billion dollars. This shows a clear upward trend, just like the earlier graph of the total number of natural disasters worldwide. Not only are disasters becoming more freuqent, but *expensive* disasters are becoming more frequent.\n",
    "\n",
    "The bottom graph shows the cumulative cost of these disasters each year in 2020 US Dollars. Again, like the previous graph of costs, there is a less clear upward trend but signifcantly more spikes, meaning that the more frequent disasters also increase the potential for particularly devastating ones. The top 10 most expensive disasters are listed on the table below. It's worth noting that this is slightly outdated since the 2021 winter storm in Texas has already cost $195 Billion, making it the single most expensive disaster in US history."
   ]
  },
  {
   "cell_type": "code",
   "execution_count": null,
   "id": "japanese-forward",
   "metadata": {
    "execution": {
     "iopub.execute_input": "2021-05-29T17:43:37.064720Z",
     "iopub.status.busy": "2021-05-29T17:43:37.063648Z",
     "iopub.status.idle": "2021-05-29T17:43:37.086133Z",
     "shell.execute_reply": "2021-05-29T17:43:37.085528Z"
    },
    "papermill": {
     "duration": 0.316632,
     "end_time": "2021-05-29T17:43:37.086289",
     "exception": false,
     "start_time": "2021-05-29T17:43:36.769657",
     "status": "completed"
    },
    "tags": []
   },
   "outputs": [],
   "source": [
    "bdd.sort_values('Cost_Mil', ascending=False).head(10)"
   ]
  },
  {
   "cell_type": "markdown",
   "id": "suited-routine",
   "metadata": {
    "papermill": {
     "duration": 0.291182,
     "end_time": "2021-05-29T17:43:37.663831",
     "exception": false,
     "start_time": "2021-05-29T17:43:37.372649",
     "status": "completed"
    },
    "tags": []
   },
   "source": [
    "The number of natural disasters each year nearly follows a Poisson Distribution, although the variance and mean are not equal so it's not a true Poisson Distribution. This makes forecasting harder than other types of data like temperature, CO2, or sea levels. However, the trend is still clear. Billion dollar disasters are becoming more frequent, and 7 of the 10 most expensive ever have occurred since 2005. Some areas are more susceptible than others, especially the Pacific, Gulf, and East coasts. Rising temperatures are not only wreaking havoc on the environment, but also our collective wallets, and the recent data suggests this problem is about to only get worse."
   ]
  },
  {
   "cell_type": "markdown",
   "id": "gothic-contract",
   "metadata": {
    "papermill": {
     "duration": 0.284678,
     "end_time": "2021-05-29T17:43:38.235130",
     "exception": false,
     "start_time": "2021-05-29T17:43:37.950452",
     "status": "completed"
    },
    "tags": []
   },
   "source": [
    "# Part III\n",
    "\n",
    "For the final part of my climate analysis to see the impact of increasing renewable energy, check out [Part III](https://www.kaggle.com/jedbell/climate-analysis-iii-what-now)"
   ]
  },
  {
   "cell_type": "code",
   "execution_count": null,
   "id": "electric-fetish",
   "metadata": {
    "papermill": {
     "duration": 0.284441,
     "end_time": "2021-05-29T17:43:38.803431",
     "exception": false,
     "start_time": "2021-05-29T17:43:38.518990",
     "status": "completed"
    },
    "tags": []
   },
   "outputs": [],
   "source": []
  }
 ],
 "metadata": {
  "kernelspec": {
   "display_name": "Python 3 (ipykernel)",
   "language": "python",
   "name": "python3"
  },
  "language_info": {
   "codemirror_mode": {
    "name": "ipython",
    "version": 3
   },
   "file_extension": ".py",
   "mimetype": "text/x-python",
   "name": "python",
   "nbconvert_exporter": "python",
   "pygments_lexer": "ipython3",
   "version": "3.8.13"
  },
  "papermill": {
   "default_parameters": {},
   "duration": 42.167661,
   "end_time": "2021-05-29T17:43:40.001392",
   "environment_variables": {},
   "exception": null,
   "input_path": "__notebook__.ipynb",
   "output_path": "__notebook__.ipynb",
   "parameters": {},
   "start_time": "2021-05-29T17:42:57.833731",
   "version": "2.3.2"
  }
 },
 "nbformat": 4,
 "nbformat_minor": 5
}
